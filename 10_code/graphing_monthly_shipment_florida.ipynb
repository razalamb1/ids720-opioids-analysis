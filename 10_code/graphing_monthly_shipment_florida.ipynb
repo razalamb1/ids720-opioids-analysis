{
 "cells": [
  {
   "cell_type": "code",
   "execution_count": 1,
   "metadata": {},
   "outputs": [
    {
     "data": {
      "text/plain": [
       "DataTransformerRegistry.enable('default')"
      ]
     },
     "execution_count": 1,
     "metadata": {},
     "output_type": "execute_result"
    }
   ],
   "source": [
    "import pandas as pd\n",
    "import numpy as np\n",
    "import altair as alt\n",
    "import statsmodels.formula.api as smf\n",
    "import altair_saver\n",
    "from find_control_module import find_controls\n",
    "\n",
    "alt.data_transformers.disable_max_rows()\n"
   ]
  },
  {
   "cell_type": "code",
   "execution_count": 2,
   "metadata": {},
   "outputs": [],
   "source": [
    "florida = pd.read_parquet(f\"../20_intermediate_files/florida_shipment_monthly.parquet\")\n",
    "controls = pd.read_parquet(f\"../20_intermediate_files/other_shipment_monthly.parquet\")\n"
   ]
  },
  {
   "cell_type": "code",
   "execution_count": 3,
   "metadata": {},
   "outputs": [
    {
     "name": "stderr",
     "output_type": "stream",
     "text": [
      "/var/folders/lz/cw17t6h96s12fy8v30l0cs880000gn/T/ipykernel_98885/3401772982.py:1: FutureWarning: casting datetime64[ns] values to int64 with .astype(...) is deprecated and will raise in a future version. Use .view(...) instead.\n",
      "  controls.loc[:, \"seconds\"] = pd.to_datetime(controls[\"year\"]).astype(int) / 10 ** 9\n",
      "/var/folders/lz/cw17t6h96s12fy8v30l0cs880000gn/T/ipykernel_98885/3401772982.py:2: FutureWarning: casting datetime64[ns] values to int64 with .astype(...) is deprecated and will raise in a future version. Use .view(...) instead.\n",
      "  florida.loc[:, \"seconds\"] = pd.to_datetime(florida[\"year\"]).astype(int) / 10 ** 9\n"
     ]
    }
   ],
   "source": [
    "controls.loc[:, \"seconds\"] = pd.to_datetime(controls[\"year\"]).astype(int) / 10 ** 9\n",
    "florida.loc[:, \"seconds\"] = pd.to_datetime(florida[\"year\"]).astype(int) / 10 ** 9\n"
   ]
  },
  {
   "cell_type": "code",
   "execution_count": 4,
   "metadata": {},
   "outputs": [],
   "source": [
    "control_florida = controls.copy()\n",
    "control_florida[\"category_flo\"] = np.where(\n",
    "    control_florida[\"year\"] >= pd.to_datetime(\"2010-02-01\"), \"post\", \"pre\"\n",
    ")\n",
    "control_florida[\"type\"] = \"Control States\"\n",
    "florida[\"type\"] = \"Florida\"\n",
    "florida_pre = florida[florida[\"category_flo\"] == \"pre\"]\n",
    "florida_post = florida[florida[\"category_flo\"] == \"post\"]\n",
    "control_florida_pre = control_florida[control_florida[\"category_flo\"] == \"pre\"]\n",
    "control_florida_post = control_florida[control_florida[\"category_flo\"] == \"post\"]\n"
   ]
  },
  {
   "cell_type": "code",
   "execution_count": 5,
   "metadata": {},
   "outputs": [
    {
     "name": "stderr",
     "output_type": "stream",
     "text": [
      "/Users/Razalamb1/MIDS/fall21/practicing/pds2021-opioids-team-9-1/10_code/find_control_module.py:34: FutureWarning: casting datetime64[ns] values to int64 with .astype(...) is deprecated and will raise in a future version. Use .view(...) instead.\n",
      "  df_pre.loc[:, \"seconds\"] = pd.to_datetime(df_pre[\"year\"]).array.astype(int) / 10 ** 9\n",
      "/Users/Razalamb1/opt/miniconda3/lib/python3.9/site-packages/pandas/core/indexing.py:1773: SettingWithCopyWarning: \n",
      "A value is trying to be set on a copy of a slice from a DataFrame.\n",
      "Try using .loc[row_indexer,col_indexer] = value instead\n",
      "\n",
      "See the caveats in the documentation: https://pandas.pydata.org/pandas-docs/stable/user_guide/indexing.html#returning-a-view-versus-a-copy\n",
      "  self._setitem_single_column(ilocs[0], value, pi)\n",
      "/Users/Razalamb1/MIDS/fall21/practicing/pds2021-opioids-team-9-1/10_code/find_control_module.py:34: FutureWarning: casting datetime64[ns] values to int64 with .astype(...) is deprecated and will raise in a future version. Use .view(...) instead.\n",
      "  df_pre.loc[:, \"seconds\"] = pd.to_datetime(df_pre[\"year\"]).array.astype(int) / 10 ** 9\n",
      "/Users/Razalamb1/opt/miniconda3/lib/python3.9/site-packages/pandas/core/indexing.py:1773: SettingWithCopyWarning: \n",
      "A value is trying to be set on a copy of a slice from a DataFrame.\n",
      "Try using .loc[row_indexer,col_indexer] = value instead\n",
      "\n",
      "See the caveats in the documentation: https://pandas.pydata.org/pandas-docs/stable/user_guide/indexing.html#returning-a-view-versus-a-copy\n",
      "  self._setitem_single_column(ilocs[0], value, pi)\n"
     ]
    }
   ],
   "source": [
    "selected_control_data = find_controls(\n",
    "    \"shipment\", florida_pre, control_florida_pre, control_florida, n=2\n",
    ")\n",
    "\n",
    "selected_control_pre = selected_control_data[\n",
    "    selected_control_data[\"category_flo\"] == \"pre\"\n",
    "]\n",
    "selected_control_post = selected_control_data[\n",
    "    selected_control_data[\"category_flo\"] == \"post\"\n",
    "]\n",
    "pre = pd.concat([florida_pre, selected_control_pre])\n",
    "post = pd.concat([florida_post, selected_control_post])\n"
   ]
  },
  {
   "cell_type": "code",
   "execution_count": 6,
   "metadata": {},
   "outputs": [],
   "source": [
    "def get_reg_fit(data, yvar, xvar, color, alpha=0.05):\n",
    "    # Grid for predicted values\n",
    "    x = data.loc[pd.notnull(data[yvar]), xvar]\n",
    "    grid = np.asarray(data[xvar].unique())\n",
    "    predictions = pd.DataFrame({xvar: grid})\n",
    "    # Fit model, get predictions\n",
    "    model = smf.ols(f\"{yvar} ~ {xvar}\", data=data).fit()\n",
    "    model_predict = model.get_prediction(predictions[xvar])\n",
    "    predictions[yvar] = model_predict.summary_frame()[\"mean\"]\n",
    "    predictions[[\"ci_low\", \"ci_high\"]] = model_predict.conf_int(alpha=alpha)\n",
    "    predictions[xvar] = pd.to_datetime(10 ** 9 * predictions[xvar])\n",
    "    return predictions\n"
   ]
  },
  {
   "cell_type": "code",
   "execution_count": 7,
   "metadata": {},
   "outputs": [],
   "source": [
    "flo1 = get_reg_fit(florida[florida['category_flo'] == \"pre\"], 'shipment_per_resident', 'seconds', 'orange')\n",
    "flo2 = get_reg_fit(florida[florida['category_flo'] == \"post\"], 'shipment_per_resident', 'seconds', 'orange')\n",
    "flo = pd.concat([flo1, flo2])\n"
   ]
  },
  {
   "cell_type": "code",
   "execution_count": 16,
   "metadata": {},
   "outputs": [
    {
     "name": "stderr",
     "output_type": "stream",
     "text": [
      "WARN x-scale's \"zero\" is dropped as it does not work with time scale.\n"
     ]
    }
   ],
   "source": [
    "flo['category_flo'] = np.where(\n",
    "    pd.to_datetime(flo[\"seconds\"]) >= pd.to_datetime(\"2010-02-01\"), \"post\", \"pre\"\n",
    ")\n",
    "reg_flo = (\n",
    "    alt.Chart(\n",
    "        flo, title=\"Opioid Shipments per County per Month in Florida\"\n",
    "    )\n",
    "    .mark_line(color = \"orange\")\n",
    "    .encode(\n",
    "        x=alt.X(\"seconds:T\", scale=alt.Scale(zero=False), title=\"Year\"),\n",
    "        y=alt.Y(\n",
    "            \"shipment_per_resident\",\n",
    "            scale=alt.Scale(zero=False),\n",
    "            title=\"Opioid Shipment Per Resident (MME)\",\n",
    "        ),\n",
    "        detail=\"category_flo\",\n",
    "    )\n",
    ")\n",
    "ci_flo = (\n",
    "    alt.Chart(flo)\n",
    "    .mark_errorband(color=\"orange\")\n",
    "    .encode(x=f\"seconds:T\", y=alt.Y(\"ci_low\", title=\"\"), y2=\"ci_high\", detail = \"category_flo\")\n",
    ")\n",
    "data = pd.DataFrame({\"a\": [\"2010-02-01\"]})\n",
    "sep_line = alt.Chart(data).mark_rule(color=\"black\", strokeDash=[10, 10]).encode(x=\"a:T\")\n",
    "\n",
    "pre_post = ((reg_flo + ci_flo + sep_line)\n",
    "    .properties(height=500, width=1000)\n",
    "    .configure_axis(labelFontSize=20, titleFontSize=20)\n",
    "    .configure_title(fontSize=30)\n",
    "    .configure_legend(titleFontSize=20, labelFontSize=18)\n",
    ")\n",
    "altair_saver.save(pre_post, f\"../30_results/prepost_Florida_shipment_monthly.png\")\n"
   ]
  },
  {
   "cell_type": "code",
   "execution_count": 9,
   "metadata": {},
   "outputs": [],
   "source": [
    "predictions = get_reg_fit(\n",
    "    pre[pre[\"type\"] == \"Florida\"], \"shipment_per_resident\", \"seconds\", \"orange\"\n",
    ")\n",
    "predictions[\"type\"] = \"Florida\"\n",
    "predictions2 = get_reg_fit(\n",
    "    pre[pre[\"type\"] == \"Control States\"], \"shipment_per_resident\", \"seconds\", \"blue\"\n",
    ")\n",
    "predictions2[\"type\"] = \"Control Counties\"\n",
    "\n"
   ]
  },
  {
   "cell_type": "code",
   "execution_count": 10,
   "metadata": {},
   "outputs": [],
   "source": [
    "pred_final = pd.concat([predictions, predictions2])\n",
    "reg1 = (\n",
    "    alt.Chart(\n",
    "        pred_final, title=\"Opioid Shipments per County per Month, Florida vs. Controls\"\n",
    "    )\n",
    "    .mark_line()\n",
    "    .encode(\n",
    "        x=alt.X(\"seconds:T\", scale=alt.Scale(zero=False), title=\"Year\"),\n",
    "        y=alt.Y(\n",
    "            \"shipment_per_resident\",\n",
    "            scale=alt.Scale(zero=False),\n",
    "            title=\"Opioid Shipment Per Resident (MME)\",\n",
    "        ),\n",
    "        color=\"type\",\n",
    "    )\n",
    ")\n",
    "alt.X(\"year:O\", scale=alt.Scale(zero=False), title=\"Year\")\n",
    "ci1flo = (\n",
    "    alt.Chart(pred_final[pred_final[\"type\"] == \"Florida\"])\n",
    "    .mark_errorband(color=\"orange\")\n",
    "    .encode(x=f\"seconds:T\", y=alt.Y(\"ci_low\", title=\"\"), y2=\"ci_high\")\n",
    ")\n",
    "ci1cont = (\n",
    "    alt.Chart(pred_final[pred_final[\"type\"] == \"Control Counties\"])\n",
    "    .mark_errorband(color=\"blue\")\n",
    "    .encode(x=f\"seconds:T\", y=alt.Y(\"ci_low\", title=\"\"), y2=\"ci_high\")\n",
    ")\n",
    "chart = ci1flo + ci1cont + reg1\n"
   ]
  },
  {
   "cell_type": "code",
   "execution_count": 11,
   "metadata": {},
   "outputs": [],
   "source": [
    "ppredictions = get_reg_fit(\n",
    "    post[post[\"type\"] == \"Florida\"], \"shipment_per_resident\", \"seconds\", \"orange\"\n",
    ")\n",
    "ppredictions[\"type\"] = \"Florida\"\n",
    "ppredictions2 = get_reg_fit(\n",
    "    post[post[\"type\"] == \"Control States\"], \"shipment_per_resident\", \"seconds\", \"blue\"\n",
    ")\n",
    "ppredictions2[\"type\"] = \"Control Counties\"\n",
    "ppred_final = pd.concat([ppredictions, ppredictions2])\n"
   ]
  },
  {
   "cell_type": "code",
   "execution_count": 12,
   "metadata": {},
   "outputs": [],
   "source": [
    "reg2 = (\n",
    "    alt.Chart(ppred_final)\n",
    "    .mark_line()\n",
    "    .encode(x=\"seconds:T\", y=\"shipment_per_resident\", color=\"type\")\n",
    ")\n",
    "ci2flo = (\n",
    "    alt.Chart(ppred_final[ppred_final[\"type\"] == \"Florida\"])\n",
    "    .mark_errorband(color=\"orange\")\n",
    "    .encode(\n",
    "        x=f\"seconds:T\",\n",
    "        y=alt.Y(\"ci_low\", title=\"\"),\n",
    "        y2=\"ci_high\",\n",
    "    )\n",
    ")\n",
    "ci2cont = (\n",
    "    alt.Chart(ppred_final[ppred_final[\"type\"] == \"Control Counties\"])\n",
    "    .mark_errorband(color=\"blue\")\n",
    "    .encode(\n",
    "        x=f\"seconds:T\",\n",
    "        y=alt.Y(\"ci_low\", title=\"\"),\n",
    "        y2=\"ci_high\",\n",
    "    )\n",
    ")\n",
    "\n",
    "chart2 = ci2flo + reg2 + ci2cont + sep_line\n"
   ]
  },
  {
   "cell_type": "code",
   "execution_count": 13,
   "metadata": {},
   "outputs": [
    {
     "name": "stderr",
     "output_type": "stream",
     "text": [
      "WARN x-scale's \"zero\" is dropped as it does not work with time scale.\n"
     ]
    }
   ],
   "source": [
    "final_chart = (\n",
    "    (chart + chart2)\n",
    "    .properties(height=500, width=1000)\n",
    "    .configure_axis(labelFontSize=20, titleFontSize=20)\n",
    "    .configure_title(fontSize=30)\n",
    "    .configure_legend(titleFontSize=20, labelFontSize=18)\n",
    ")\n",
    "\n",
    "altair_saver.save(final_chart, f\"../30_results/florida_shipment_monthly.png\")\n"
   ]
  },
  {
   "cell_type": "code",
   "execution_count": 14,
   "metadata": {},
   "outputs": [
    {
     "data": {
      "text/html": [
       "\n",
       "<div id=\"altair-viz-28357376c9884430b06796d01bbdfe37\"></div>\n",
       "<script type=\"text/javascript\">\n",
       "  (function(spec, embedOpt){\n",
       "    let outputDiv = document.currentScript.previousElementSibling;\n",
       "    if (outputDiv.id !== \"altair-viz-28357376c9884430b06796d01bbdfe37\") {\n",
       "      outputDiv = document.getElementById(\"altair-viz-28357376c9884430b06796d01bbdfe37\");\n",
       "    }\n",
       "    const paths = {\n",
       "      \"vega\": \"https://cdn.jsdelivr.net/npm//vega@5?noext\",\n",
       "      \"vega-lib\": \"https://cdn.jsdelivr.net/npm//vega-lib?noext\",\n",
       "      \"vega-lite\": \"https://cdn.jsdelivr.net/npm//vega-lite@4.8.1?noext\",\n",
       "      \"vega-embed\": \"https://cdn.jsdelivr.net/npm//vega-embed@6?noext\",\n",
       "    };\n",
       "\n",
       "    function loadScript(lib) {\n",
       "      return new Promise(function(resolve, reject) {\n",
       "        var s = document.createElement('script');\n",
       "        s.src = paths[lib];\n",
       "        s.async = true;\n",
       "        s.onload = () => resolve(paths[lib]);\n",
       "        s.onerror = () => reject(`Error loading script: ${paths[lib]}`);\n",
       "        document.getElementsByTagName(\"head\")[0].appendChild(s);\n",
       "      });\n",
       "    }\n",
       "\n",
       "    function showError(err) {\n",
       "      outputDiv.innerHTML = `<div class=\"error\" style=\"color:red;\">${err}</div>`;\n",
       "      throw err;\n",
       "    }\n",
       "\n",
       "    function displayChart(vegaEmbed) {\n",
       "      vegaEmbed(outputDiv, spec, embedOpt)\n",
       "        .catch(err => showError(`Javascript Error: ${err.message}<br>This usually means there's a typo in your chart specification. See the javascript console for the full traceback.`));\n",
       "    }\n",
       "\n",
       "    if(typeof define === \"function\" && define.amd) {\n",
       "      requirejs.config({paths});\n",
       "      require([\"vega-embed\"], displayChart, err => showError(`Error loading script: ${err.message}`));\n",
       "    } else if (typeof vegaEmbed === \"function\") {\n",
       "      displayChart(vegaEmbed);\n",
       "    } else {\n",
       "      loadScript(\"vega\")\n",
       "        .then(() => loadScript(\"vega-lite\"))\n",
       "        .then(() => loadScript(\"vega-embed\"))\n",
       "        .catch(showError)\n",
       "        .then(() => displayChart(vegaEmbed));\n",
       "    }\n",
       "  })({\"config\": {\"view\": {\"continuousWidth\": 400, \"continuousHeight\": 300}, \"axis\": {\"labelFontSize\": 20, \"titleFontSize\": 20}, \"legend\": {\"labelFontSize\": 18, \"titleFontSize\": 20}, \"title\": {\"fontSize\": 30}}, \"layer\": [{\"data\": {\"name\": \"data-17cfca8284d0a8a521cf15693f1f570f\"}, \"mark\": {\"type\": \"errorband\", \"color\": \"orange\"}, \"encoding\": {\"x\": {\"type\": \"temporal\", \"field\": \"seconds\"}, \"y\": {\"type\": \"quantitative\", \"field\": \"ci_low\", \"title\": \"\"}, \"y2\": {\"field\": \"ci_high\"}}}, {\"data\": {\"name\": \"data-818b26e9cf3d92a39cac9174a436bc4b\"}, \"mark\": {\"type\": \"errorband\", \"color\": \"blue\"}, \"encoding\": {\"x\": {\"type\": \"temporal\", \"field\": \"seconds\"}, \"y\": {\"type\": \"quantitative\", \"field\": \"ci_low\", \"title\": \"\"}, \"y2\": {\"field\": \"ci_high\"}}}, {\"data\": {\"name\": \"data-a1e600ffd7644803b0a2f8142f2665a9\"}, \"mark\": \"line\", \"encoding\": {\"color\": {\"type\": \"nominal\", \"field\": \"type\"}, \"x\": {\"type\": \"temporal\", \"field\": \"seconds\", \"scale\": {\"zero\": false}, \"title\": \"Year\"}, \"y\": {\"type\": \"quantitative\", \"field\": \"shipment_per_resident\", \"scale\": {\"zero\": false}, \"title\": \"Opioid Shipment Per Resident (MME)\"}}, \"title\": \"Opioid Shipments per County per Month, Florida vs. Controls\"}, {\"layer\": [{\"data\": {\"name\": \"data-cb9a9994baa63d2bb2ff179da68ebb8e\"}, \"mark\": {\"type\": \"errorband\", \"color\": \"orange\"}, \"encoding\": {\"x\": {\"type\": \"temporal\", \"field\": \"seconds\"}, \"y\": {\"type\": \"quantitative\", \"field\": \"ci_low\", \"title\": \"\"}, \"y2\": {\"field\": \"ci_high\"}}}, {\"data\": {\"name\": \"data-026215443e8f01f81c6329975f9f9552\"}, \"mark\": \"line\", \"encoding\": {\"color\": {\"type\": \"nominal\", \"field\": \"type\"}, \"x\": {\"type\": \"temporal\", \"field\": \"seconds\"}, \"y\": {\"type\": \"quantitative\", \"field\": \"shipment_per_resident\"}}}, {\"data\": {\"name\": \"data-a045c313b72cffe50a294064b7618ec1\"}, \"mark\": {\"type\": \"errorband\", \"color\": \"blue\"}, \"encoding\": {\"x\": {\"type\": \"temporal\", \"field\": \"seconds\"}, \"y\": {\"type\": \"quantitative\", \"field\": \"ci_low\", \"title\": \"\"}, \"y2\": {\"field\": \"ci_high\"}}}, {\"data\": {\"name\": \"data-8f20a3bd00eabe1ead865fe2e1771dd9\"}, \"mark\": {\"type\": \"rule\", \"color\": \"black\", \"strokeDash\": [10, 10]}, \"encoding\": {\"x\": {\"type\": \"temporal\", \"field\": \"a\"}}}]}], \"height\": 500, \"width\": 1000, \"$schema\": \"https://vega.github.io/schema/vega-lite/v4.8.1.json\", \"datasets\": {\"data-17cfca8284d0a8a521cf15693f1f570f\": [{\"seconds\": \"2006-01-01T00:00:00\", \"shipment_per_resident\": 30.439887762174408, \"ci_low\": 28.65647214927887, \"ci_high\": 32.223303375069946, \"type\": \"Florida\"}, {\"seconds\": \"2007-01-01T00:00:00\", \"shipment_per_resident\": 38.391991524472076, \"ci_low\": 37.204215283027416, \"ci_high\": 39.579767765916735, \"type\": \"Florida\"}, {\"seconds\": \"2008-01-01T00:00:00\", \"shipment_per_resident\": 46.34409528676974, \"ci_low\": 45.43769976964297, \"ci_high\": 47.25049080389652, \"type\": \"Florida\"}, {\"seconds\": \"2009-01-01T00:00:00\", \"shipment_per_resident\": 54.3179856347175, \"ci_low\": 53.128013392555495, \"ci_high\": 55.50795787687951, \"type\": \"Florida\"}, {\"seconds\": \"2010-01-01T00:00:00\", \"shipment_per_resident\": 62.27008939701517, \"ci_low\": 60.48375035303028, \"ci_high\": 64.05642844100007, \"type\": \"Florida\"}, {\"seconds\": \"2006-02-01T00:00:00\", \"shipment_per_resident\": 31.11527191732847, \"ci_low\": 29.387733247785594, \"ci_high\": 32.842810586871344, \"type\": \"Florida\"}, {\"seconds\": \"2007-02-01T00:00:00\", \"shipment_per_resident\": 39.06737567962614, \"ci_low\": 37.92068801985666, \"ci_high\": 40.214063339395615, \"type\": \"Florida\"}, {\"seconds\": \"2008-02-01T00:00:00\", \"shipment_per_resident\": 47.01947944192375, \"ci_low\": 46.11069200490917, \"ci_high\": 47.92826687893833, \"type\": \"Florida\"}, {\"seconds\": \"2009-02-01T00:00:00\", \"shipment_per_resident\": 54.993369789871565, \"ci_low\": 53.76011718741209, \"ci_high\": 56.22662239233104, \"type\": \"Florida\"}, {\"seconds\": \"2006-03-01T00:00:00\", \"shipment_per_resident\": 31.725296315532148, \"ci_low\": 30.04764530974525, \"ci_high\": 33.40294732131905, \"type\": \"Florida\"}, {\"seconds\": \"2007-03-01T00:00:00\", \"shipment_per_resident\": 39.67740007782976, \"ci_low\": 38.56583609830673, \"ci_high\": 40.788964057352786, \"type\": \"Florida\"}, {\"seconds\": \"2008-03-01T00:00:00\", \"shipment_per_resident\": 47.651290425777574, \"ci_low\": 46.73604986453444, \"ci_high\": 48.566530987020705, \"type\": \"Florida\"}, {\"seconds\": \"2009-03-01T00:00:00\", \"shipment_per_resident\": 55.603394188075185, \"ci_low\": 54.329439841357235, \"ci_high\": 56.877348534793136, \"type\": \"Florida\"}, {\"seconds\": \"2006-04-01T00:00:00\", \"shipment_per_resident\": 32.400680470686154, \"ci_low\": 30.777554421826725, \"ci_high\": 34.02380651954559, \"type\": \"Florida\"}, {\"seconds\": \"2007-04-01T00:00:00\", \"shipment_per_resident\": 40.35278423298382, \"ci_low\": 39.277674314546594, \"ci_high\": 41.42789415142105, \"type\": \"Florida\"}, {\"seconds\": \"2008-04-01T00:00:00\", \"shipment_per_resident\": 48.32667458093158, \"ci_low\": 47.40012808277693, \"ci_high\": 49.25322107908623, \"type\": \"Florida\"}, {\"seconds\": \"2009-04-01T00:00:00\", \"shipment_per_resident\": 56.27877834322925, \"ci_low\": 54.95815561561156, \"ci_high\": 57.59940107084694, \"type\": \"Florida\"}, {\"seconds\": \"2006-05-01T00:00:00\", \"shipment_per_resident\": 33.05427804019007, \"ci_low\": 31.48313933085106, \"ci_high\": 34.62541674952908, \"type\": \"Florida\"}, {\"seconds\": \"2007-05-01T00:00:00\", \"shipment_per_resident\": 41.00638180248774, \"ci_low\": 39.96387168335639, \"ci_high\": 42.04889192161909, \"type\": \"Florida\"}, {\"seconds\": \"2008-05-01T00:00:00\", \"shipment_per_resident\": 48.980272150435496, \"ci_low\": 48.038599387949716, \"ci_high\": 49.921944912921276, \"type\": \"Florida\"}, {\"seconds\": \"2009-05-01T00:00:00\", \"shipment_per_resident\": 56.932375912733164, \"ci_low\": 55.56514114674121, \"ci_high\": 58.29961067872512, \"type\": \"Florida\"}, {\"seconds\": \"2006-06-01T00:00:00\", \"shipment_per_resident\": 33.72966219534413, \"ci_low\": 32.2113545313281, \"ci_high\": 35.24796985936017, \"type\": \"Florida\"}, {\"seconds\": \"2007-06-01T00:00:00\", \"shipment_per_resident\": 41.6817659576418, \"ci_low\": 40.66990121865808, \"ci_high\": 42.69363069662552, \"type\": \"Florida\"}, {\"seconds\": \"2008-06-01T00:00:00\", \"shipment_per_resident\": 49.65565630558956, \"ci_low\": 48.69423716428658, \"ci_high\": 50.61707544689254, \"type\": \"Florida\"}, {\"seconds\": \"2009-06-01T00:00:00\", \"shipment_per_resident\": 57.60776006788723, \"ci_low\": 56.19101320910328, \"ci_high\": 59.02450692667117, \"type\": \"Florida\"}, {\"seconds\": \"2006-07-01T00:00:00\", \"shipment_per_resident\": 34.38325976484805, \"ci_low\": 32.9151274942834, \"ci_high\": 35.8513920354127, \"type\": \"Florida\"}, {\"seconds\": \"2007-07-01T00:00:00\", \"shipment_per_resident\": 42.33536352714572, \"ci_low\": 41.349943926400066, \"ci_high\": 43.32078312789137, \"type\": \"Florida\"}, {\"seconds\": \"2008-07-01T00:00:00\", \"shipment_per_resident\": 50.309253875093475, \"ci_low\": 49.3249767436946, \"ci_high\": 51.29353100649235, \"type\": \"Florida\"}, {\"seconds\": \"2009-07-01T00:00:00\", \"shipment_per_resident\": 58.26135763739114, \"ci_low\": 56.79552213970498, \"ci_high\": 59.72719313507731, \"type\": \"Florida\"}, {\"seconds\": \"2006-08-01T00:00:00\", \"shipment_per_resident\": 35.05864392000211, \"ci_low\": 33.641269682950416, \"ci_high\": 36.47601815705381, \"type\": \"Florida\"}, {\"seconds\": \"2007-08-01T00:00:00\", \"shipment_per_resident\": 43.01074768229978, \"ci_low\": 42.04905608079793, \"ci_high\": 43.97243928380163, \"type\": \"Florida\"}, {\"seconds\": \"2008-08-01T00:00:00\", \"shipment_per_resident\": 50.98463803024754, \"ci_low\": 49.97313583528742, \"ci_high\": 51.996140225207654, \"type\": \"Florida\"}, {\"seconds\": \"2009-08-01T00:00:00\", \"shipment_per_resident\": 58.936741792545206, \"ci_low\": 57.41908883215802, \"ci_high\": 60.454394752932394, \"type\": \"Florida\"}, {\"seconds\": \"2006-09-01T00:00:00\", \"shipment_per_resident\": 35.734028075156175, \"ci_low\": 34.36618215577939, \"ci_high\": 37.10187399453296, \"type\": \"Florida\"}, {\"seconds\": \"2007-09-01T00:00:00\", \"shipment_per_resident\": 43.686131837453786, \"ci_low\": 42.74423744285442, \"ci_high\": 44.62802623205315, \"type\": \"Florida\"}, {\"seconds\": \"2008-09-01T00:00:00\", \"shipment_per_resident\": 51.6600221854016, \"ci_low\": 50.617915052359784, \"ci_high\": 52.70212931844342, \"type\": \"Florida\"}, {\"seconds\": \"2009-09-01T00:00:00\", \"shipment_per_resident\": 59.61212594769921, \"ci_low\": 58.04165382843685, \"ci_high\": 61.182598066961575, \"type\": \"Florida\"}, {\"seconds\": \"2006-10-01T00:00:00\", \"shipment_per_resident\": 36.38762564466009, \"ci_low\": 35.066409210373095, \"ci_high\": 37.708842078947086, \"type\": \"Florida\"}, {\"seconds\": \"2007-10-01T00:00:00\", \"shipment_per_resident\": 44.3397294069577, \"ci_low\": 43.41301327138878, \"ci_high\": 45.266445542526625, \"type\": \"Florida\"}, {\"seconds\": \"2008-10-01T00:00:00\", \"shipment_per_resident\": 52.31361975490552, \"ci_low\": 51.23894855464075, \"ci_high\": 53.388290955170284, \"type\": \"Florida\"}, {\"seconds\": \"2009-10-01T00:00:00\", \"shipment_per_resident\": 60.26572351720313, \"ci_low\": 58.6432744648153, \"ci_high\": 61.88817256959096, \"type\": \"Florida\"}, {\"seconds\": \"2006-11-01T00:00:00\", \"shipment_per_resident\": 37.0630097998141, \"ci_low\": 35.78848179192807, \"ci_high\": 38.33753780770012, \"type\": \"Florida\"}, {\"seconds\": \"2007-11-01T00:00:00\", \"shipment_per_resident\": 45.015113562111765, \"ci_low\": 44.09975944732306, \"ci_high\": 45.93046767690047, \"type\": \"Florida\"}, {\"seconds\": \"2008-11-01T00:00:00\", \"shipment_per_resident\": 52.98900391005952, \"ci_low\": 51.87791218550911, \"ci_high\": 54.100095634609936, \"type\": \"Florida\"}, {\"seconds\": \"2009-11-01T00:00:00\", \"shipment_per_resident\": 60.94110767235719, \"ci_low\": 59.264143408527865, \"ci_high\": 62.61807193618652, \"type\": \"Florida\"}, {\"seconds\": \"2006-12-01T00:00:00\", \"shipment_per_resident\": 37.71660736931801, \"ci_low\": 36.485653439340794, \"ci_high\": 38.94756129929523, \"type\": \"Florida\"}, {\"seconds\": \"2007-12-01T00:00:00\", \"shipment_per_resident\": 45.66871113161568, \"ci_low\": 44.76001622760627, \"ci_high\": 46.57740603562509, \"type\": \"Florida\"}, {\"seconds\": \"2008-12-01T00:00:00\", \"shipment_per_resident\": 53.64260147956344, \"ci_low\": 52.49383202485456, \"ci_high\": 54.791370934272315, \"type\": \"Florida\"}, {\"seconds\": \"2009-12-01T00:00:00\", \"shipment_per_resident\": 61.59470524186111, \"ci_low\": 59.864276705301386, \"ci_high\": 63.32513377842083, \"type\": \"Florida\"}], \"data-818b26e9cf3d92a39cac9174a436bc4b\": [{\"seconds\": \"2006-01-01T00:00:00\", \"shipment_per_resident\": 37.173725456313434, \"ci_low\": 35.249331075947985, \"ci_high\": 39.09811983667888, \"type\": \"Control Counties\"}, {\"seconds\": \"2007-01-01T00:00:00\", \"shipment_per_resident\": 45.06730949988935, \"ci_low\": 43.78563970422292, \"ci_high\": 46.34897929555577, \"type\": \"Control Counties\"}, {\"seconds\": \"2008-01-01T00:00:00\", \"shipment_per_resident\": 52.96089354346532, \"ci_low\": 51.98284758102368, \"ci_high\": 53.93893950590696, \"type\": \"Control Counties\"}, {\"seconds\": \"2009-01-01T00:00:00\", \"shipment_per_resident\": 60.87610384469491, \"ci_low\": 59.592064454745945, \"ci_high\": 62.160143234643876, \"type\": \"Control Counties\"}, {\"seconds\": \"2010-01-01T00:00:00\", \"shipment_per_resident\": 68.76968788827088, \"ci_low\": 66.84213897997647, \"ci_high\": 70.69723679656529, \"type\": \"Control Counties\"}, {\"seconds\": \"2006-02-01T00:00:00\", \"shipment_per_resident\": 37.84413944357601, \"ci_low\": 35.98003907151814, \"ci_high\": 39.70823981563388, \"type\": \"Control Counties\"}, {\"seconds\": \"2007-02-01T00:00:00\", \"shipment_per_resident\": 45.73772348715198, \"ci_low\": 44.500390320088066, \"ci_high\": 46.9750566542159, \"type\": \"Control Counties\"}, {\"seconds\": \"2008-02-01T00:00:00\", \"shipment_per_resident\": 53.63130753072795, \"ci_low\": 52.65068056744883, \"ci_high\": 54.61193449400707, \"type\": \"Control Counties\"}, {\"seconds\": \"2009-02-01T00:00:00\", \"shipment_per_resident\": 61.546517831957544, \"ci_low\": 60.21577677497459, \"ci_high\": 62.877258888940496, \"type\": \"Control Counties\"}, {\"seconds\": \"2006-03-01T00:00:00\", \"shipment_per_resident\": 38.44967465787778, \"ci_low\": 36.63940556277373, \"ci_high\": 40.259943752981826, \"type\": \"Control Counties\"}, {\"seconds\": \"2007-03-01T00:00:00\", \"shipment_per_resident\": 46.34325870145369, \"ci_low\": 45.14382573689742, \"ci_high\": 47.542691666009965, \"type\": \"Control Counties\"}, {\"seconds\": \"2008-03-01T00:00:00\", \"shipment_per_resident\": 54.258469002683285, \"ci_low\": 53.270878796561945, \"ci_high\": 55.246059208804624, \"type\": \"Control Counties\"}, {\"seconds\": \"2009-03-01T00:00:00\", \"shipment_per_resident\": 62.152053046259255, \"ci_low\": 60.77739277753699, \"ci_high\": 63.52671331498152, \"type\": \"Control Counties\"}, {\"seconds\": \"2006-04-01T00:00:00\", \"shipment_per_resident\": 39.120088645140356, \"ci_low\": 37.36865469757127, \"ci_high\": 40.87152259270944, \"type\": \"Control Counties\"}, {\"seconds\": \"2007-04-01T00:00:00\", \"shipment_per_resident\": 47.013672688716326, \"ci_low\": 45.85357547393578, \"ci_high\": 48.173769903496876, \"type\": \"Control Counties\"}, {\"seconds\": \"2008-04-01T00:00:00\", \"shipment_per_resident\": 54.92888298994592, \"ci_low\": 53.929093114101015, \"ci_high\": 55.92867286579082, \"type\": \"Control Counties\"}, {\"seconds\": \"2009-04-01T00:00:00\", \"shipment_per_resident\": 62.82246703352189, \"ci_low\": 61.39744925458448, \"ci_high\": 64.24748481245929, \"type\": \"Control Counties\"}, {\"seconds\": \"2006-05-01T00:00:00\", \"shipment_per_resident\": 39.76887637474937, \"ci_low\": 38.07353935898897, \"ci_high\": 41.46421339050977, \"type\": \"Control Counties\"}, {\"seconds\": \"2007-05-01T00:00:00\", \"shipment_per_resident\": 47.66246041832528, \"ci_low\": 46.53754001265837, \"ci_high\": 48.787380823992194, \"type\": \"Control Counties\"}, {\"seconds\": \"2008-05-01T00:00:00\", \"shipment_per_resident\": 55.577670719554874, \"ci_low\": 54.56155885019125, \"ci_high\": 56.5937825889185, \"type\": \"Control Counties\"}, {\"seconds\": \"2009-05-01T00:00:00\", \"shipment_per_resident\": 63.471254763130844, \"ci_low\": 61.9959402703729, \"ci_high\": 64.94656925588879, \"type\": \"Control Counties\"}, {\"seconds\": \"2006-06-01T00:00:00\", \"shipment_per_resident\": 40.439290362011945, \"ci_low\": 38.80096067869452, \"ci_high\": 42.07762004532937, \"type\": \"Control Counties\"}, {\"seconds\": \"2007-06-01T00:00:00\", \"shipment_per_resident\": 48.332874405587916, \"ci_low\": 47.241021893301514, \"ci_high\": 49.42472691787432, \"type\": \"Control Counties\"}, {\"seconds\": \"2008-06-01T00:00:00\", \"shipment_per_resident\": 56.24808470681751, \"ci_low\": 55.21066551001226, \"ci_high\": 57.285503903622754, \"type\": \"Control Counties\"}, {\"seconds\": \"2009-06-01T00:00:00\", \"shipment_per_resident\": 64.14166875039348, \"ci_low\": 62.61292824048064, \"ci_high\": 65.67040926030631, \"type\": \"Control Counties\"}, {\"seconds\": \"2006-07-01T00:00:00\", \"shipment_per_resident\": 41.08807809162096, \"ci_low\": 39.503890159947005, \"ci_high\": 42.67226602329491, \"type\": \"Control Counties\"}, {\"seconds\": \"2007-07-01T00:00:00\", \"shipment_per_resident\": 48.98166213519693, \"ci_low\": 47.918345245815956, \"ci_high\": 50.0449790245779, \"type\": \"Control Counties\"}, {\"seconds\": \"2008-07-01T00:00:00\", \"shipment_per_resident\": 56.89687243642646, \"ci_low\": 55.83478832844251, \"ci_high\": 57.95895654441042, \"type\": \"Control Counties\"}, {\"seconds\": \"2009-07-01T00:00:00\", \"shipment_per_resident\": 64.79045648000243, \"ci_low\": 63.208746880798124, \"ci_high\": 66.37216607920675, \"type\": \"Control Counties\"}, {\"seconds\": \"2006-08-01T00:00:00\", \"shipment_per_resident\": 41.75849207888359, \"ci_low\": 40.22907459653419, \"ci_high\": 43.28790956123299, \"type\": \"Control Counties\"}, {\"seconds\": \"2007-08-01T00:00:00\", \"shipment_per_resident\": 49.652076122459505, \"ci_low\": 48.61436292751297, \"ci_high\": 50.68978931740604, \"type\": \"Control Counties\"}, {\"seconds\": \"2008-08-01T00:00:00\", \"shipment_per_resident\": 57.5672864236891, \"ci_low\": 56.47582511448319, \"ci_high\": 58.658747732895, \"type\": \"Control Counties\"}, {\"seconds\": \"2009-08-01T00:00:00\", \"shipment_per_resident\": 65.46087046726507, \"ci_low\": 63.823247241811494, \"ci_high\": 67.09849369271865, \"type\": \"Control Counties\"}, {\"seconds\": \"2006-09-01T00:00:00\", \"shipment_per_resident\": 42.42890606614617, \"ci_low\": 40.952932108409556, \"ci_high\": 43.90488002388278, \"type\": \"Control Counties\"}, {\"seconds\": \"2007-09-01T00:00:00\", \"shipment_per_resident\": 50.32249010972214, \"ci_low\": 49.3061390882558, \"ci_high\": 51.33884113118848, \"type\": \"Control Counties\"}, {\"seconds\": \"2008-09-01T00:00:00\", \"shipment_per_resident\": 58.23770041095173, \"ci_low\": 57.113214847371324, \"ci_high\": 59.36218597453214, \"type\": \"Control Counties\"}, {\"seconds\": \"2009-09-01T00:00:00\", \"shipment_per_resident\": 66.13128445452764, \"ci_low\": 64.43666672270102, \"ci_high\": 67.82590218635427, \"type\": \"Control Counties\"}, {\"seconds\": \"2006-10-01T00:00:00\", \"shipment_per_resident\": 43.07769379575518, \"ci_low\": 41.65203537771505, \"ci_high\": 44.50335221379531, \"type\": \"Control Counties\"}, {\"seconds\": \"2007-10-01T00:00:00\", \"shipment_per_resident\": 50.971277839331094, \"ci_low\": 49.97130491625681, \"ci_high\": 51.971250762405376, \"type\": \"Control Counties\"}, {\"seconds\": \"2008-10-01T00:00:00\", \"shipment_per_resident\": 58.88648814056069, \"ci_low\": 57.72686432456584, \"ci_high\": 60.046111956555535, \"type\": \"Control Counties\"}, {\"seconds\": \"2009-10-01T00:00:00\", \"shipment_per_resident\": 66.78007218413666, \"ci_low\": 65.0293687495204, \"ci_high\": 68.53077561875291, \"type\": \"Control Counties\"}, {\"seconds\": \"2006-11-01T00:00:00\", \"shipment_per_resident\": 43.74810778301776, \"ci_low\": 42.37282850528819, \"ci_high\": 45.123387060747326, \"type\": \"Control Counties\"}, {\"seconds\": \"2007-11-01T00:00:00\", \"shipment_per_resident\": 51.64169182659373, \"ci_low\": 50.65397909053417, \"ci_high\": 52.629404562653285, \"type\": \"Control Counties\"}, {\"seconds\": \"2008-11-01T00:00:00\", \"shipment_per_resident\": 59.55690212782332, \"ci_low\": 58.35797874993258, \"ci_high\": 60.755825505714064, \"type\": \"Control Counties\"}, {\"seconds\": \"2009-11-01T00:00:00\", \"shipment_per_resident\": 67.45048617139929, \"ci_low\": 65.64095810511344, \"ci_high\": 69.26001423768514, \"type\": \"Control Counties\"}, {\"seconds\": \"2006-12-01T00:00:00\", \"shipment_per_resident\": 44.39689551262677, \"ci_low\": 43.06863483788072, \"ci_high\": 45.72515618737282, \"type\": \"Control Counties\"}, {\"seconds\": \"2007-12-01T00:00:00\", \"shipment_per_resident\": 52.29047955620274, \"ci_low\": 51.309952440650555, \"ci_high\": 53.271006671754925, \"type\": \"Control Counties\"}, {\"seconds\": \"2008-12-01T00:00:00\", \"shipment_per_resident\": 60.205689857432276, \"ci_low\": 58.96611032981534, \"ci_high\": 61.44526938504921, \"type\": \"Control Counties\"}, {\"seconds\": \"2009-12-01T00:00:00\", \"shipment_per_resident\": 68.09927390100825, \"ci_low\": 66.23205521832945, \"ci_high\": 69.96649258368704, \"type\": \"Control Counties\"}], \"data-a1e600ffd7644803b0a2f8142f2665a9\": [{\"seconds\": \"2006-01-01T00:00:00\", \"shipment_per_resident\": 30.439887762174408, \"ci_low\": 28.65647214927887, \"ci_high\": 32.223303375069946, \"type\": \"Florida\"}, {\"seconds\": \"2007-01-01T00:00:00\", \"shipment_per_resident\": 38.391991524472076, \"ci_low\": 37.204215283027416, \"ci_high\": 39.579767765916735, \"type\": \"Florida\"}, {\"seconds\": \"2008-01-01T00:00:00\", \"shipment_per_resident\": 46.34409528676974, \"ci_low\": 45.43769976964297, \"ci_high\": 47.25049080389652, \"type\": \"Florida\"}, {\"seconds\": \"2009-01-01T00:00:00\", \"shipment_per_resident\": 54.3179856347175, \"ci_low\": 53.128013392555495, \"ci_high\": 55.50795787687951, \"type\": \"Florida\"}, {\"seconds\": \"2010-01-01T00:00:00\", \"shipment_per_resident\": 62.27008939701517, \"ci_low\": 60.48375035303028, \"ci_high\": 64.05642844100007, \"type\": \"Florida\"}, {\"seconds\": \"2006-02-01T00:00:00\", \"shipment_per_resident\": 31.11527191732847, \"ci_low\": 29.387733247785594, \"ci_high\": 32.842810586871344, \"type\": \"Florida\"}, {\"seconds\": \"2007-02-01T00:00:00\", \"shipment_per_resident\": 39.06737567962614, \"ci_low\": 37.92068801985666, \"ci_high\": 40.214063339395615, \"type\": \"Florida\"}, {\"seconds\": \"2008-02-01T00:00:00\", \"shipment_per_resident\": 47.01947944192375, \"ci_low\": 46.11069200490917, \"ci_high\": 47.92826687893833, \"type\": \"Florida\"}, {\"seconds\": \"2009-02-01T00:00:00\", \"shipment_per_resident\": 54.993369789871565, \"ci_low\": 53.76011718741209, \"ci_high\": 56.22662239233104, \"type\": \"Florida\"}, {\"seconds\": \"2006-03-01T00:00:00\", \"shipment_per_resident\": 31.725296315532148, \"ci_low\": 30.04764530974525, \"ci_high\": 33.40294732131905, \"type\": \"Florida\"}, {\"seconds\": \"2007-03-01T00:00:00\", \"shipment_per_resident\": 39.67740007782976, \"ci_low\": 38.56583609830673, \"ci_high\": 40.788964057352786, \"type\": \"Florida\"}, {\"seconds\": \"2008-03-01T00:00:00\", \"shipment_per_resident\": 47.651290425777574, \"ci_low\": 46.73604986453444, \"ci_high\": 48.566530987020705, \"type\": \"Florida\"}, {\"seconds\": \"2009-03-01T00:00:00\", \"shipment_per_resident\": 55.603394188075185, \"ci_low\": 54.329439841357235, \"ci_high\": 56.877348534793136, \"type\": \"Florida\"}, {\"seconds\": \"2006-04-01T00:00:00\", \"shipment_per_resident\": 32.400680470686154, \"ci_low\": 30.777554421826725, \"ci_high\": 34.02380651954559, \"type\": \"Florida\"}, {\"seconds\": \"2007-04-01T00:00:00\", \"shipment_per_resident\": 40.35278423298382, \"ci_low\": 39.277674314546594, \"ci_high\": 41.42789415142105, \"type\": \"Florida\"}, {\"seconds\": \"2008-04-01T00:00:00\", \"shipment_per_resident\": 48.32667458093158, \"ci_low\": 47.40012808277693, \"ci_high\": 49.25322107908623, \"type\": \"Florida\"}, {\"seconds\": \"2009-04-01T00:00:00\", \"shipment_per_resident\": 56.27877834322925, \"ci_low\": 54.95815561561156, \"ci_high\": 57.59940107084694, \"type\": \"Florida\"}, {\"seconds\": \"2006-05-01T00:00:00\", \"shipment_per_resident\": 33.05427804019007, \"ci_low\": 31.48313933085106, \"ci_high\": 34.62541674952908, \"type\": \"Florida\"}, {\"seconds\": \"2007-05-01T00:00:00\", \"shipment_per_resident\": 41.00638180248774, \"ci_low\": 39.96387168335639, \"ci_high\": 42.04889192161909, \"type\": \"Florida\"}, {\"seconds\": \"2008-05-01T00:00:00\", \"shipment_per_resident\": 48.980272150435496, \"ci_low\": 48.038599387949716, \"ci_high\": 49.921944912921276, \"type\": \"Florida\"}, {\"seconds\": \"2009-05-01T00:00:00\", \"shipment_per_resident\": 56.932375912733164, \"ci_low\": 55.56514114674121, \"ci_high\": 58.29961067872512, \"type\": \"Florida\"}, {\"seconds\": \"2006-06-01T00:00:00\", \"shipment_per_resident\": 33.72966219534413, \"ci_low\": 32.2113545313281, \"ci_high\": 35.24796985936017, \"type\": \"Florida\"}, {\"seconds\": \"2007-06-01T00:00:00\", \"shipment_per_resident\": 41.6817659576418, \"ci_low\": 40.66990121865808, \"ci_high\": 42.69363069662552, \"type\": \"Florida\"}, {\"seconds\": \"2008-06-01T00:00:00\", \"shipment_per_resident\": 49.65565630558956, \"ci_low\": 48.69423716428658, \"ci_high\": 50.61707544689254, \"type\": \"Florida\"}, {\"seconds\": \"2009-06-01T00:00:00\", \"shipment_per_resident\": 57.60776006788723, \"ci_low\": 56.19101320910328, \"ci_high\": 59.02450692667117, \"type\": \"Florida\"}, {\"seconds\": \"2006-07-01T00:00:00\", \"shipment_per_resident\": 34.38325976484805, \"ci_low\": 32.9151274942834, \"ci_high\": 35.8513920354127, \"type\": \"Florida\"}, {\"seconds\": \"2007-07-01T00:00:00\", \"shipment_per_resident\": 42.33536352714572, \"ci_low\": 41.349943926400066, \"ci_high\": 43.32078312789137, \"type\": \"Florida\"}, {\"seconds\": \"2008-07-01T00:00:00\", \"shipment_per_resident\": 50.309253875093475, \"ci_low\": 49.3249767436946, \"ci_high\": 51.29353100649235, \"type\": \"Florida\"}, {\"seconds\": \"2009-07-01T00:00:00\", \"shipment_per_resident\": 58.26135763739114, \"ci_low\": 56.79552213970498, \"ci_high\": 59.72719313507731, \"type\": \"Florida\"}, {\"seconds\": \"2006-08-01T00:00:00\", \"shipment_per_resident\": 35.05864392000211, \"ci_low\": 33.641269682950416, \"ci_high\": 36.47601815705381, \"type\": \"Florida\"}, {\"seconds\": \"2007-08-01T00:00:00\", \"shipment_per_resident\": 43.01074768229978, \"ci_low\": 42.04905608079793, \"ci_high\": 43.97243928380163, \"type\": \"Florida\"}, {\"seconds\": \"2008-08-01T00:00:00\", \"shipment_per_resident\": 50.98463803024754, \"ci_low\": 49.97313583528742, \"ci_high\": 51.996140225207654, \"type\": \"Florida\"}, {\"seconds\": \"2009-08-01T00:00:00\", \"shipment_per_resident\": 58.936741792545206, \"ci_low\": 57.41908883215802, \"ci_high\": 60.454394752932394, \"type\": \"Florida\"}, {\"seconds\": \"2006-09-01T00:00:00\", \"shipment_per_resident\": 35.734028075156175, \"ci_low\": 34.36618215577939, \"ci_high\": 37.10187399453296, \"type\": \"Florida\"}, {\"seconds\": \"2007-09-01T00:00:00\", \"shipment_per_resident\": 43.686131837453786, \"ci_low\": 42.74423744285442, \"ci_high\": 44.62802623205315, \"type\": \"Florida\"}, {\"seconds\": \"2008-09-01T00:00:00\", \"shipment_per_resident\": 51.6600221854016, \"ci_low\": 50.617915052359784, \"ci_high\": 52.70212931844342, \"type\": \"Florida\"}, {\"seconds\": \"2009-09-01T00:00:00\", \"shipment_per_resident\": 59.61212594769921, \"ci_low\": 58.04165382843685, \"ci_high\": 61.182598066961575, \"type\": \"Florida\"}, {\"seconds\": \"2006-10-01T00:00:00\", \"shipment_per_resident\": 36.38762564466009, \"ci_low\": 35.066409210373095, \"ci_high\": 37.708842078947086, \"type\": \"Florida\"}, {\"seconds\": \"2007-10-01T00:00:00\", \"shipment_per_resident\": 44.3397294069577, \"ci_low\": 43.41301327138878, \"ci_high\": 45.266445542526625, \"type\": \"Florida\"}, {\"seconds\": \"2008-10-01T00:00:00\", \"shipment_per_resident\": 52.31361975490552, \"ci_low\": 51.23894855464075, \"ci_high\": 53.388290955170284, \"type\": \"Florida\"}, {\"seconds\": \"2009-10-01T00:00:00\", \"shipment_per_resident\": 60.26572351720313, \"ci_low\": 58.6432744648153, \"ci_high\": 61.88817256959096, \"type\": \"Florida\"}, {\"seconds\": \"2006-11-01T00:00:00\", \"shipment_per_resident\": 37.0630097998141, \"ci_low\": 35.78848179192807, \"ci_high\": 38.33753780770012, \"type\": \"Florida\"}, {\"seconds\": \"2007-11-01T00:00:00\", \"shipment_per_resident\": 45.015113562111765, \"ci_low\": 44.09975944732306, \"ci_high\": 45.93046767690047, \"type\": \"Florida\"}, {\"seconds\": \"2008-11-01T00:00:00\", \"shipment_per_resident\": 52.98900391005952, \"ci_low\": 51.87791218550911, \"ci_high\": 54.100095634609936, \"type\": \"Florida\"}, {\"seconds\": \"2009-11-01T00:00:00\", \"shipment_per_resident\": 60.94110767235719, \"ci_low\": 59.264143408527865, \"ci_high\": 62.61807193618652, \"type\": \"Florida\"}, {\"seconds\": \"2006-12-01T00:00:00\", \"shipment_per_resident\": 37.71660736931801, \"ci_low\": 36.485653439340794, \"ci_high\": 38.94756129929523, \"type\": \"Florida\"}, {\"seconds\": \"2007-12-01T00:00:00\", \"shipment_per_resident\": 45.66871113161568, \"ci_low\": 44.76001622760627, \"ci_high\": 46.57740603562509, \"type\": \"Florida\"}, {\"seconds\": \"2008-12-01T00:00:00\", \"shipment_per_resident\": 53.64260147956344, \"ci_low\": 52.49383202485456, \"ci_high\": 54.791370934272315, \"type\": \"Florida\"}, {\"seconds\": \"2009-12-01T00:00:00\", \"shipment_per_resident\": 61.59470524186111, \"ci_low\": 59.864276705301386, \"ci_high\": 63.32513377842083, \"type\": \"Florida\"}, {\"seconds\": \"2006-01-01T00:00:00\", \"shipment_per_resident\": 37.173725456313434, \"ci_low\": 35.249331075947985, \"ci_high\": 39.09811983667888, \"type\": \"Control Counties\"}, {\"seconds\": \"2007-01-01T00:00:00\", \"shipment_per_resident\": 45.06730949988935, \"ci_low\": 43.78563970422292, \"ci_high\": 46.34897929555577, \"type\": \"Control Counties\"}, {\"seconds\": \"2008-01-01T00:00:00\", \"shipment_per_resident\": 52.96089354346532, \"ci_low\": 51.98284758102368, \"ci_high\": 53.93893950590696, \"type\": \"Control Counties\"}, {\"seconds\": \"2009-01-01T00:00:00\", \"shipment_per_resident\": 60.87610384469491, \"ci_low\": 59.592064454745945, \"ci_high\": 62.160143234643876, \"type\": \"Control Counties\"}, {\"seconds\": \"2010-01-01T00:00:00\", \"shipment_per_resident\": 68.76968788827088, \"ci_low\": 66.84213897997647, \"ci_high\": 70.69723679656529, \"type\": \"Control Counties\"}, {\"seconds\": \"2006-02-01T00:00:00\", \"shipment_per_resident\": 37.84413944357601, \"ci_low\": 35.98003907151814, \"ci_high\": 39.70823981563388, \"type\": \"Control Counties\"}, {\"seconds\": \"2007-02-01T00:00:00\", \"shipment_per_resident\": 45.73772348715198, \"ci_low\": 44.500390320088066, \"ci_high\": 46.9750566542159, \"type\": \"Control Counties\"}, {\"seconds\": \"2008-02-01T00:00:00\", \"shipment_per_resident\": 53.63130753072795, \"ci_low\": 52.65068056744883, \"ci_high\": 54.61193449400707, \"type\": \"Control Counties\"}, {\"seconds\": \"2009-02-01T00:00:00\", \"shipment_per_resident\": 61.546517831957544, \"ci_low\": 60.21577677497459, \"ci_high\": 62.877258888940496, \"type\": \"Control Counties\"}, {\"seconds\": \"2006-03-01T00:00:00\", \"shipment_per_resident\": 38.44967465787778, \"ci_low\": 36.63940556277373, \"ci_high\": 40.259943752981826, \"type\": \"Control Counties\"}, {\"seconds\": \"2007-03-01T00:00:00\", \"shipment_per_resident\": 46.34325870145369, \"ci_low\": 45.14382573689742, \"ci_high\": 47.542691666009965, \"type\": \"Control Counties\"}, {\"seconds\": \"2008-03-01T00:00:00\", \"shipment_per_resident\": 54.258469002683285, \"ci_low\": 53.270878796561945, \"ci_high\": 55.246059208804624, \"type\": \"Control Counties\"}, {\"seconds\": \"2009-03-01T00:00:00\", \"shipment_per_resident\": 62.152053046259255, \"ci_low\": 60.77739277753699, \"ci_high\": 63.52671331498152, \"type\": \"Control Counties\"}, {\"seconds\": \"2006-04-01T00:00:00\", \"shipment_per_resident\": 39.120088645140356, \"ci_low\": 37.36865469757127, \"ci_high\": 40.87152259270944, \"type\": \"Control Counties\"}, {\"seconds\": \"2007-04-01T00:00:00\", \"shipment_per_resident\": 47.013672688716326, \"ci_low\": 45.85357547393578, \"ci_high\": 48.173769903496876, \"type\": \"Control Counties\"}, {\"seconds\": \"2008-04-01T00:00:00\", \"shipment_per_resident\": 54.92888298994592, \"ci_low\": 53.929093114101015, \"ci_high\": 55.92867286579082, \"type\": \"Control Counties\"}, {\"seconds\": \"2009-04-01T00:00:00\", \"shipment_per_resident\": 62.82246703352189, \"ci_low\": 61.39744925458448, \"ci_high\": 64.24748481245929, \"type\": \"Control Counties\"}, {\"seconds\": \"2006-05-01T00:00:00\", \"shipment_per_resident\": 39.76887637474937, \"ci_low\": 38.07353935898897, \"ci_high\": 41.46421339050977, \"type\": \"Control Counties\"}, {\"seconds\": \"2007-05-01T00:00:00\", \"shipment_per_resident\": 47.66246041832528, \"ci_low\": 46.53754001265837, \"ci_high\": 48.787380823992194, \"type\": \"Control Counties\"}, {\"seconds\": \"2008-05-01T00:00:00\", \"shipment_per_resident\": 55.577670719554874, \"ci_low\": 54.56155885019125, \"ci_high\": 56.5937825889185, \"type\": \"Control Counties\"}, {\"seconds\": \"2009-05-01T00:00:00\", \"shipment_per_resident\": 63.471254763130844, \"ci_low\": 61.9959402703729, \"ci_high\": 64.94656925588879, \"type\": \"Control Counties\"}, {\"seconds\": \"2006-06-01T00:00:00\", \"shipment_per_resident\": 40.439290362011945, \"ci_low\": 38.80096067869452, \"ci_high\": 42.07762004532937, \"type\": \"Control Counties\"}, {\"seconds\": \"2007-06-01T00:00:00\", \"shipment_per_resident\": 48.332874405587916, \"ci_low\": 47.241021893301514, \"ci_high\": 49.42472691787432, \"type\": \"Control Counties\"}, {\"seconds\": \"2008-06-01T00:00:00\", \"shipment_per_resident\": 56.24808470681751, \"ci_low\": 55.21066551001226, \"ci_high\": 57.285503903622754, \"type\": \"Control Counties\"}, {\"seconds\": \"2009-06-01T00:00:00\", \"shipment_per_resident\": 64.14166875039348, \"ci_low\": 62.61292824048064, \"ci_high\": 65.67040926030631, \"type\": \"Control Counties\"}, {\"seconds\": \"2006-07-01T00:00:00\", \"shipment_per_resident\": 41.08807809162096, \"ci_low\": 39.503890159947005, \"ci_high\": 42.67226602329491, \"type\": \"Control Counties\"}, {\"seconds\": \"2007-07-01T00:00:00\", \"shipment_per_resident\": 48.98166213519693, \"ci_low\": 47.918345245815956, \"ci_high\": 50.0449790245779, \"type\": \"Control Counties\"}, {\"seconds\": \"2008-07-01T00:00:00\", \"shipment_per_resident\": 56.89687243642646, \"ci_low\": 55.83478832844251, \"ci_high\": 57.95895654441042, \"type\": \"Control Counties\"}, {\"seconds\": \"2009-07-01T00:00:00\", \"shipment_per_resident\": 64.79045648000243, \"ci_low\": 63.208746880798124, \"ci_high\": 66.37216607920675, \"type\": \"Control Counties\"}, {\"seconds\": \"2006-08-01T00:00:00\", \"shipment_per_resident\": 41.75849207888359, \"ci_low\": 40.22907459653419, \"ci_high\": 43.28790956123299, \"type\": \"Control Counties\"}, {\"seconds\": \"2007-08-01T00:00:00\", \"shipment_per_resident\": 49.652076122459505, \"ci_low\": 48.61436292751297, \"ci_high\": 50.68978931740604, \"type\": \"Control Counties\"}, {\"seconds\": \"2008-08-01T00:00:00\", \"shipment_per_resident\": 57.5672864236891, \"ci_low\": 56.47582511448319, \"ci_high\": 58.658747732895, \"type\": \"Control Counties\"}, {\"seconds\": \"2009-08-01T00:00:00\", \"shipment_per_resident\": 65.46087046726507, \"ci_low\": 63.823247241811494, \"ci_high\": 67.09849369271865, \"type\": \"Control Counties\"}, {\"seconds\": \"2006-09-01T00:00:00\", \"shipment_per_resident\": 42.42890606614617, \"ci_low\": 40.952932108409556, \"ci_high\": 43.90488002388278, \"type\": \"Control Counties\"}, {\"seconds\": \"2007-09-01T00:00:00\", \"shipment_per_resident\": 50.32249010972214, \"ci_low\": 49.3061390882558, \"ci_high\": 51.33884113118848, \"type\": \"Control Counties\"}, {\"seconds\": \"2008-09-01T00:00:00\", \"shipment_per_resident\": 58.23770041095173, \"ci_low\": 57.113214847371324, \"ci_high\": 59.36218597453214, \"type\": \"Control Counties\"}, {\"seconds\": \"2009-09-01T00:00:00\", \"shipment_per_resident\": 66.13128445452764, \"ci_low\": 64.43666672270102, \"ci_high\": 67.82590218635427, \"type\": \"Control Counties\"}, {\"seconds\": \"2006-10-01T00:00:00\", \"shipment_per_resident\": 43.07769379575518, \"ci_low\": 41.65203537771505, \"ci_high\": 44.50335221379531, \"type\": \"Control Counties\"}, {\"seconds\": \"2007-10-01T00:00:00\", \"shipment_per_resident\": 50.971277839331094, \"ci_low\": 49.97130491625681, \"ci_high\": 51.971250762405376, \"type\": \"Control Counties\"}, {\"seconds\": \"2008-10-01T00:00:00\", \"shipment_per_resident\": 58.88648814056069, \"ci_low\": 57.72686432456584, \"ci_high\": 60.046111956555535, \"type\": \"Control Counties\"}, {\"seconds\": \"2009-10-01T00:00:00\", \"shipment_per_resident\": 66.78007218413666, \"ci_low\": 65.0293687495204, \"ci_high\": 68.53077561875291, \"type\": \"Control Counties\"}, {\"seconds\": \"2006-11-01T00:00:00\", \"shipment_per_resident\": 43.74810778301776, \"ci_low\": 42.37282850528819, \"ci_high\": 45.123387060747326, \"type\": \"Control Counties\"}, {\"seconds\": \"2007-11-01T00:00:00\", \"shipment_per_resident\": 51.64169182659373, \"ci_low\": 50.65397909053417, \"ci_high\": 52.629404562653285, \"type\": \"Control Counties\"}, {\"seconds\": \"2008-11-01T00:00:00\", \"shipment_per_resident\": 59.55690212782332, \"ci_low\": 58.35797874993258, \"ci_high\": 60.755825505714064, \"type\": \"Control Counties\"}, {\"seconds\": \"2009-11-01T00:00:00\", \"shipment_per_resident\": 67.45048617139929, \"ci_low\": 65.64095810511344, \"ci_high\": 69.26001423768514, \"type\": \"Control Counties\"}, {\"seconds\": \"2006-12-01T00:00:00\", \"shipment_per_resident\": 44.39689551262677, \"ci_low\": 43.06863483788072, \"ci_high\": 45.72515618737282, \"type\": \"Control Counties\"}, {\"seconds\": \"2007-12-01T00:00:00\", \"shipment_per_resident\": 52.29047955620274, \"ci_low\": 51.309952440650555, \"ci_high\": 53.271006671754925, \"type\": \"Control Counties\"}, {\"seconds\": \"2008-12-01T00:00:00\", \"shipment_per_resident\": 60.205689857432276, \"ci_low\": 58.96611032981534, \"ci_high\": 61.44526938504921, \"type\": \"Control Counties\"}, {\"seconds\": \"2009-12-01T00:00:00\", \"shipment_per_resident\": 68.09927390100825, \"ci_low\": 66.23205521832945, \"ci_high\": 69.96649258368704, \"type\": \"Control Counties\"}], \"data-cb9a9994baa63d2bb2ff179da68ebb8e\": [{\"seconds\": \"2011-01-01T00:00:00\", \"shipment_per_resident\": 69.27854438939863, \"ci_low\": 67.60790388332286, \"ci_high\": 70.9491848954744, \"type\": \"Florida\"}, {\"seconds\": \"2012-01-01T00:00:00\", \"shipment_per_resident\": 56.95361054299781, \"ci_low\": 55.28044845939419, \"ci_high\": 58.62677262660143, \"type\": \"Florida\"}, {\"seconds\": \"2010-02-01T00:00:00\", \"shipment_per_resident\": 80.55670303240652, \"ci_low\": 77.7486846869814, \"ci_high\": 83.36472137783163, \"type\": \"Florida\"}, {\"seconds\": \"2011-02-01T00:00:00\", \"shipment_per_resident\": 68.23176918600569, \"ci_low\": 66.63005051639853, \"ci_high\": 69.83348785561286, \"type\": \"Florida\"}, {\"seconds\": \"2012-02-01T00:00:00\", \"shipment_per_resident\": 55.90683533960487, \"ci_low\": 54.15513911297381, \"ci_high\": 57.65853156623593, \"type\": \"Florida\"}, {\"seconds\": \"2010-03-01T00:00:00\", \"shipment_per_resident\": 79.61122865514841, \"ci_low\": 76.91480410968171, \"ci_high\": 82.3076532006151, \"type\": \"Florida\"}, {\"seconds\": \"2011-03-01T00:00:00\", \"shipment_per_resident\": 67.28629480874753, \"ci_low\": 65.73778230932068, \"ci_high\": 68.83480730817438, \"type\": \"Florida\"}, {\"seconds\": \"2012-03-01T00:00:00\", \"shipment_per_resident\": 54.92759402030174, \"ci_low\": 53.09508829046802, \"ci_high\": 56.76009975013546, \"type\": \"Florida\"}, {\"seconds\": \"2010-04-01T00:00:00\", \"shipment_per_resident\": 78.56445345175541, \"ci_low\": 75.9894589381431, \"ci_high\": 81.13944796536772, \"type\": \"Florida\"}, {\"seconds\": \"2011-04-01T00:00:00\", \"shipment_per_resident\": 66.23951960535459, \"ci_low\": 64.73875723476522, \"ci_high\": 67.74028197594396, \"type\": \"Florida\"}, {\"seconds\": \"2012-04-01T00:00:00\", \"shipment_per_resident\": 53.8808188169088, \"ci_low\": 51.95511528120719, \"ci_high\": 55.80652235261041, \"type\": \"Florida\"}, {\"seconds\": \"2010-05-01T00:00:00\", \"shipment_per_resident\": 77.55144519040743, \"ci_low\": 75.09154162630719, \"ci_high\": 80.01134875450768, \"type\": \"Florida\"}, {\"seconds\": \"2011-05-01T00:00:00\", \"shipment_per_resident\": 65.22651134400655, \"ci_low\": 63.75975641407568, \"ci_high\": 66.69326627393743, \"type\": \"Florida\"}, {\"seconds\": \"2012-05-01T00:00:00\", \"shipment_per_resident\": 52.86781055556082, \"ci_low\": 50.846108036286964, \"ci_high\": 54.88951307483468, \"type\": \"Florida\"}, {\"seconds\": \"2010-06-01T00:00:00\", \"shipment_per_resident\": 76.5046699870145, \"ci_low\": 74.16081412227948, \"ci_high\": 78.84852585174951, \"type\": \"Florida\"}, {\"seconds\": \"2011-06-01T00:00:00\", \"shipment_per_resident\": 64.17973614061361, \"ci_low\": 62.73460289042077, \"ci_high\": 65.62486939080645, \"type\": \"Florida\"}, {\"seconds\": \"2012-06-01T00:00:00\", \"shipment_per_resident\": 51.82103535216788, \"ci_low\": 49.69496355464592, \"ci_high\": 53.94710714968984, \"type\": \"Florida\"}, {\"seconds\": \"2010-07-01T00:00:00\", \"shipment_per_resident\": 75.49166172566646, \"ci_low\": 73.25689852707471, \"ci_high\": 77.72642492425821, \"type\": \"Florida\"}, {\"seconds\": \"2011-07-01T00:00:00\", \"shipment_per_resident\": 63.166727879265636, \"ci_low\": 61.728857967938744, \"ci_high\": 64.60459779059252, \"type\": \"Florida\"}, {\"seconds\": \"2012-07-01T00:00:00\", \"shipment_per_resident\": 50.80802709081979, \"ci_low\": 48.5766361127905, \"ci_high\": 53.03941806884908, \"type\": \"Florida\"}, {\"seconds\": \"2010-08-01T00:00:00\", \"shipment_per_resident\": 74.44488652227352, \"ci_low\": 72.3190114840835, \"ci_high\": 76.57076156046354, \"type\": \"Florida\"}, {\"seconds\": \"2011-08-01T00:00:00\", \"shipment_per_resident\": 62.119952675872696, \"ci_low\": 60.67525432587841, \"ci_high\": 63.56465102586698, \"type\": \"Florida\"}, {\"seconds\": \"2012-08-01T00:00:00\", \"shipment_per_resident\": 49.76125188742685, \"ci_low\": 47.41718506609878, \"ci_high\": 52.10531870875492, \"type\": \"Florida\"}, {\"seconds\": \"2010-09-01T00:00:00\", \"shipment_per_resident\": 73.39811131888058, \"ci_low\": 71.37659656902566, \"ci_high\": 75.4196260687355, \"type\": \"Florida\"}, {\"seconds\": \"2011-09-01T00:00:00\", \"shipment_per_resident\": 61.073177472479756, \"ci_low\": 59.60728667002706, \"ci_high\": 62.539068274932454, \"type\": \"Florida\"}, {\"seconds\": \"2012-09-01T00:00:00\", \"shipment_per_resident\": 48.71447668403391, \"ci_low\": 46.254356379956526, \"ci_high\": 51.1745969881113, \"type\": \"Florida\"}, {\"seconds\": \"2010-10-01T00:00:00\", \"shipment_per_resident\": 72.38510305753255, \"ci_low\": 70.45957719814392, \"ci_high\": 74.31062891692117, \"type\": \"Florida\"}, {\"seconds\": \"2011-10-01T00:00:00\", \"shipment_per_resident\": 60.060169211131665, \"ci_low\": 58.560663516588086, \"ci_high\": 61.559674905675244, \"type\": \"Florida\"}, {\"seconds\": \"2012-10-01T00:00:00\", \"shipment_per_resident\": 47.701468422685934, \"ci_low\": 45.12625230916982, \"ci_high\": 50.27668453620205, \"type\": \"Florida\"}, {\"seconds\": \"2010-11-01T00:00:00\", \"shipment_per_resident\": 71.3383278541396, \"ci_low\": 69.50598771232738, \"ci_high\": 73.17066799595183, \"type\": \"Florida\"}, {\"seconds\": \"2011-11-01T00:00:00\", \"shipment_per_resident\": 59.013394007738725, \"ci_low\": 57.46651223964899, \"ci_high\": 60.56027577582846, \"type\": \"Florida\"}, {\"seconds\": \"2012-11-01T00:00:00\", \"shipment_per_resident\": 46.654693219292994, \"ci_low\": 43.95804269813969, \"ci_high\": 49.351343740446296, \"type\": \"Florida\"}, {\"seconds\": \"2010-12-01T00:00:00\", \"shipment_per_resident\": 70.32531959279157, \"ci_low\": 68.57644115614187, \"ci_high\": 72.07419802944128, \"type\": \"Florida\"}, {\"seconds\": \"2011-12-01T00:00:00\", \"shipment_per_resident\": 58.00038574639075, \"ci_low\": 56.39648358999578, \"ci_high\": 59.604287902785714, \"type\": \"Florida\"}, {\"seconds\": \"2012-12-01T00:00:00\", \"shipment_per_resident\": 45.64168495794502, \"ci_low\": 42.825402373827714, \"ci_high\": 48.45796754206232, \"type\": \"Florida\"}], \"data-026215443e8f01f81c6329975f9f9552\": [{\"seconds\": \"2011-01-01T00:00:00\", \"shipment_per_resident\": 69.27854438939863, \"ci_low\": 67.60790388332286, \"ci_high\": 70.9491848954744, \"type\": \"Florida\"}, {\"seconds\": \"2012-01-01T00:00:00\", \"shipment_per_resident\": 56.95361054299781, \"ci_low\": 55.28044845939419, \"ci_high\": 58.62677262660143, \"type\": \"Florida\"}, {\"seconds\": \"2010-02-01T00:00:00\", \"shipment_per_resident\": 80.55670303240652, \"ci_low\": 77.7486846869814, \"ci_high\": 83.36472137783163, \"type\": \"Florida\"}, {\"seconds\": \"2011-02-01T00:00:00\", \"shipment_per_resident\": 68.23176918600569, \"ci_low\": 66.63005051639853, \"ci_high\": 69.83348785561286, \"type\": \"Florida\"}, {\"seconds\": \"2012-02-01T00:00:00\", \"shipment_per_resident\": 55.90683533960487, \"ci_low\": 54.15513911297381, \"ci_high\": 57.65853156623593, \"type\": \"Florida\"}, {\"seconds\": \"2010-03-01T00:00:00\", \"shipment_per_resident\": 79.61122865514841, \"ci_low\": 76.91480410968171, \"ci_high\": 82.3076532006151, \"type\": \"Florida\"}, {\"seconds\": \"2011-03-01T00:00:00\", \"shipment_per_resident\": 67.28629480874753, \"ci_low\": 65.73778230932068, \"ci_high\": 68.83480730817438, \"type\": \"Florida\"}, {\"seconds\": \"2012-03-01T00:00:00\", \"shipment_per_resident\": 54.92759402030174, \"ci_low\": 53.09508829046802, \"ci_high\": 56.76009975013546, \"type\": \"Florida\"}, {\"seconds\": \"2010-04-01T00:00:00\", \"shipment_per_resident\": 78.56445345175541, \"ci_low\": 75.9894589381431, \"ci_high\": 81.13944796536772, \"type\": \"Florida\"}, {\"seconds\": \"2011-04-01T00:00:00\", \"shipment_per_resident\": 66.23951960535459, \"ci_low\": 64.73875723476522, \"ci_high\": 67.74028197594396, \"type\": \"Florida\"}, {\"seconds\": \"2012-04-01T00:00:00\", \"shipment_per_resident\": 53.8808188169088, \"ci_low\": 51.95511528120719, \"ci_high\": 55.80652235261041, \"type\": \"Florida\"}, {\"seconds\": \"2010-05-01T00:00:00\", \"shipment_per_resident\": 77.55144519040743, \"ci_low\": 75.09154162630719, \"ci_high\": 80.01134875450768, \"type\": \"Florida\"}, {\"seconds\": \"2011-05-01T00:00:00\", \"shipment_per_resident\": 65.22651134400655, \"ci_low\": 63.75975641407568, \"ci_high\": 66.69326627393743, \"type\": \"Florida\"}, {\"seconds\": \"2012-05-01T00:00:00\", \"shipment_per_resident\": 52.86781055556082, \"ci_low\": 50.846108036286964, \"ci_high\": 54.88951307483468, \"type\": \"Florida\"}, {\"seconds\": \"2010-06-01T00:00:00\", \"shipment_per_resident\": 76.5046699870145, \"ci_low\": 74.16081412227948, \"ci_high\": 78.84852585174951, \"type\": \"Florida\"}, {\"seconds\": \"2011-06-01T00:00:00\", \"shipment_per_resident\": 64.17973614061361, \"ci_low\": 62.73460289042077, \"ci_high\": 65.62486939080645, \"type\": \"Florida\"}, {\"seconds\": \"2012-06-01T00:00:00\", \"shipment_per_resident\": 51.82103535216788, \"ci_low\": 49.69496355464592, \"ci_high\": 53.94710714968984, \"type\": \"Florida\"}, {\"seconds\": \"2010-07-01T00:00:00\", \"shipment_per_resident\": 75.49166172566646, \"ci_low\": 73.25689852707471, \"ci_high\": 77.72642492425821, \"type\": \"Florida\"}, {\"seconds\": \"2011-07-01T00:00:00\", \"shipment_per_resident\": 63.166727879265636, \"ci_low\": 61.728857967938744, \"ci_high\": 64.60459779059252, \"type\": \"Florida\"}, {\"seconds\": \"2012-07-01T00:00:00\", \"shipment_per_resident\": 50.80802709081979, \"ci_low\": 48.5766361127905, \"ci_high\": 53.03941806884908, \"type\": \"Florida\"}, {\"seconds\": \"2010-08-01T00:00:00\", \"shipment_per_resident\": 74.44488652227352, \"ci_low\": 72.3190114840835, \"ci_high\": 76.57076156046354, \"type\": \"Florida\"}, {\"seconds\": \"2011-08-01T00:00:00\", \"shipment_per_resident\": 62.119952675872696, \"ci_low\": 60.67525432587841, \"ci_high\": 63.56465102586698, \"type\": \"Florida\"}, {\"seconds\": \"2012-08-01T00:00:00\", \"shipment_per_resident\": 49.76125188742685, \"ci_low\": 47.41718506609878, \"ci_high\": 52.10531870875492, \"type\": \"Florida\"}, {\"seconds\": \"2010-09-01T00:00:00\", \"shipment_per_resident\": 73.39811131888058, \"ci_low\": 71.37659656902566, \"ci_high\": 75.4196260687355, \"type\": \"Florida\"}, {\"seconds\": \"2011-09-01T00:00:00\", \"shipment_per_resident\": 61.073177472479756, \"ci_low\": 59.60728667002706, \"ci_high\": 62.539068274932454, \"type\": \"Florida\"}, {\"seconds\": \"2012-09-01T00:00:00\", \"shipment_per_resident\": 48.71447668403391, \"ci_low\": 46.254356379956526, \"ci_high\": 51.1745969881113, \"type\": \"Florida\"}, {\"seconds\": \"2010-10-01T00:00:00\", \"shipment_per_resident\": 72.38510305753255, \"ci_low\": 70.45957719814392, \"ci_high\": 74.31062891692117, \"type\": \"Florida\"}, {\"seconds\": \"2011-10-01T00:00:00\", \"shipment_per_resident\": 60.060169211131665, \"ci_low\": 58.560663516588086, \"ci_high\": 61.559674905675244, \"type\": \"Florida\"}, {\"seconds\": \"2012-10-01T00:00:00\", \"shipment_per_resident\": 47.701468422685934, \"ci_low\": 45.12625230916982, \"ci_high\": 50.27668453620205, \"type\": \"Florida\"}, {\"seconds\": \"2010-11-01T00:00:00\", \"shipment_per_resident\": 71.3383278541396, \"ci_low\": 69.50598771232738, \"ci_high\": 73.17066799595183, \"type\": \"Florida\"}, {\"seconds\": \"2011-11-01T00:00:00\", \"shipment_per_resident\": 59.013394007738725, \"ci_low\": 57.46651223964899, \"ci_high\": 60.56027577582846, \"type\": \"Florida\"}, {\"seconds\": \"2012-11-01T00:00:00\", \"shipment_per_resident\": 46.654693219292994, \"ci_low\": 43.95804269813969, \"ci_high\": 49.351343740446296, \"type\": \"Florida\"}, {\"seconds\": \"2010-12-01T00:00:00\", \"shipment_per_resident\": 70.32531959279157, \"ci_low\": 68.57644115614187, \"ci_high\": 72.07419802944128, \"type\": \"Florida\"}, {\"seconds\": \"2011-12-01T00:00:00\", \"shipment_per_resident\": 58.00038574639075, \"ci_low\": 56.39648358999578, \"ci_high\": 59.604287902785714, \"type\": \"Florida\"}, {\"seconds\": \"2012-12-01T00:00:00\", \"shipment_per_resident\": 45.64168495794502, \"ci_low\": 42.825402373827714, \"ci_high\": 48.45796754206232, \"type\": \"Florida\"}, {\"seconds\": \"2011-01-01T00:00:00\", \"shipment_per_resident\": 75.01870692194063, \"ci_low\": 73.19970573139422, \"ci_high\": 76.83770811248705, \"type\": \"Control Counties\"}, {\"seconds\": \"2012-01-01T00:00:00\", \"shipment_per_resident\": 75.64988376516901, \"ci_low\": 73.82813706922592, \"ci_high\": 77.4716304611121, \"type\": \"Control Counties\"}, {\"seconds\": \"2010-02-01T00:00:00\", \"shipment_per_resident\": 74.44113687909606, \"ci_low\": 71.38375338167283, \"ci_high\": 77.4985203765193, \"type\": \"Control Counties\"}, {\"seconds\": \"2011-02-01T00:00:00\", \"shipment_per_resident\": 75.07231372232442, \"ci_low\": 73.32835494942272, \"ci_high\": 76.81627249522613, \"type\": \"Control Counties\"}, {\"seconds\": \"2012-02-01T00:00:00\", \"shipment_per_resident\": 75.70349056555278, \"ci_low\": 73.79623552766182, \"ci_high\": 77.61074560344375, \"type\": \"Control Counties\"}, {\"seconds\": \"2010-03-01T00:00:00\", \"shipment_per_resident\": 74.48955592460399, \"ci_low\": 71.55367627809515, \"ci_high\": 77.42543557111283, \"type\": \"Control Counties\"}, {\"seconds\": \"2011-03-01T00:00:00\", \"shipment_per_resident\": 75.12073276783235, \"ci_low\": 73.43470512167532, \"ci_high\": 76.80676041398938, \"type\": \"Control Counties\"}, {\"seconds\": \"2012-03-01T00:00:00\", \"shipment_per_resident\": 75.75363886268599, \"ci_low\": 73.75839806005489, \"ci_high\": 77.74887966531709, \"type\": \"Control Counties\"}, {\"seconds\": \"2010-04-01T00:00:00\", \"shipment_per_resident\": 74.54316272498777, \"ci_low\": 71.73949666465016, \"ci_high\": 77.34682878532537, \"type\": \"Control Counties\"}, {\"seconds\": \"2011-04-01T00:00:00\", \"shipment_per_resident\": 75.17433956821613, \"ci_low\": 73.54030248549175, \"ci_high\": 76.8083766509405, \"type\": \"Control Counties\"}, {\"seconds\": \"2012-04-01T00:00:00\", \"shipment_per_resident\": 75.80724566306978, \"ci_low\": 73.71053065386181, \"ci_high\": 77.90396067227775, \"type\": \"Control Counties\"}, {\"seconds\": \"2010-05-01T00:00:00\", \"shipment_per_resident\": 74.59504027374626, \"ci_low\": 71.91668577710041, \"ci_high\": 77.27339477039212, \"type\": \"Control Counties\"}, {\"seconds\": \"2011-05-01T00:00:00\", \"shipment_per_resident\": 75.22621711697462, \"ci_low\": 73.62920749456877, \"ci_high\": 76.82322673938047, \"type\": \"Control Counties\"}, {\"seconds\": \"2012-05-01T00:00:00\", \"shipment_per_resident\": 75.85912321182826, \"ci_low\": 73.65788406066736, \"ci_high\": 78.06036236298917, \"type\": \"Control Counties\"}, {\"seconds\": \"2010-06-01T00:00:00\", \"shipment_per_resident\": 74.64864707413004, \"ci_low\": 72.09664585488795, \"ci_high\": 77.20064829337213, \"type\": \"Control Counties\"}, {\"seconds\": \"2011-06-01T00:00:00\", \"shipment_per_resident\": 75.2798239173584, \"ci_low\": 73.70635608089741, \"ci_high\": 76.85329175381939, \"type\": \"Control Counties\"}, {\"seconds\": \"2012-06-01T00:00:00\", \"shipment_per_resident\": 75.91273001221205, \"ci_low\": 73.59785310313795, \"ci_high\": 78.22760692128615, \"type\": \"Control Counties\"}, {\"seconds\": \"2010-07-01T00:00:00\", \"shipment_per_resident\": 74.70052462288854, \"ci_low\": 72.26730400837403, \"ci_high\": 77.13374523740305, \"type\": \"Control Counties\"}, {\"seconds\": \"2011-07-01T00:00:00\", \"shipment_per_resident\": 75.3317014661169, \"ci_low\": 73.76614198695717, \"ci_high\": 76.89726094527663, \"type\": \"Control Counties\"}, {\"seconds\": \"2012-07-01T00:00:00\", \"shipment_per_resident\": 75.96460756097053, \"ci_low\": 73.53505863596405, \"ci_high\": 78.39415648597702, \"type\": \"Control Counties\"}, {\"seconds\": \"2010-08-01T00:00:00\", \"shipment_per_resident\": 74.75413142327231, \"ci_low\": 72.43946874667834, \"ci_high\": 77.06879409986628, \"type\": \"Control Counties\"}, {\"seconds\": \"2011-08-01T00:00:00\", \"shipment_per_resident\": 75.38530826650067, \"ci_low\": 73.81231395140819, \"ci_high\": 76.95830258159316, \"type\": \"Control Counties\"}, {\"seconds\": \"2012-08-01T00:00:00\", \"shipment_per_resident\": 76.01821436135432, \"ci_low\": 73.46598345158756, \"ci_high\": 78.57044527112109, \"type\": \"Control Counties\"}, {\"seconds\": \"2010-09-01T00:00:00\", \"shipment_per_resident\": 74.80773822365609, \"ci_low\": 72.60670351671597, \"ci_high\": 77.00877293059621, \"type\": \"Control Counties\"}, {\"seconds\": \"2011-09-01T00:00:00\", \"shipment_per_resident\": 75.43891506688445, \"ci_low\": 73.84284631051506, \"ci_high\": 77.03498382325384, \"type\": \"Control Counties\"}, {\"seconds\": \"2012-09-01T00:00:00\", \"shipment_per_resident\": 76.0718211617381, \"ci_low\": 73.39323067759227, \"ci_high\": 78.75041164588393, \"type\": \"Control Counties\"}, {\"seconds\": \"2010-10-01T00:00:00\", \"shipment_per_resident\": 74.85961577241459, \"ci_low\": 72.76309421800632, \"ci_high\": 76.95613732682286, \"type\": \"Control Counties\"}, {\"seconds\": \"2011-10-01T00:00:00\", \"shipment_per_resident\": 75.49079261564295, \"ci_low\": 73.85812380767017, \"ci_high\": 77.12346142361572, \"type\": \"Control Counties\"}, {\"seconds\": \"2012-10-01T00:00:00\", \"shipment_per_resident\": 76.1236987104966, \"ci_low\": 73.31979137114826, \"ci_high\": 78.92760604984494, \"type\": \"Control Counties\"}, {\"seconds\": \"2010-11-01T00:00:00\", \"shipment_per_resident\": 74.91322257279836, \"ci_low\": 72.91816206317887, \"ci_high\": 76.90828308241785, \"type\": \"Control Counties\"}, {\"seconds\": \"2011-11-01T00:00:00\", \"shipment_per_resident\": 75.54439941602672, \"ci_low\": 73.86014731777051, \"ci_high\": 77.22865151428293, \"type\": \"Control Counties\"}, {\"seconds\": \"2012-11-01T00:00:00\", \"shipment_per_resident\": 76.17730551088037, \"ci_low\": 73.24117982098798, \"ci_high\": 79.11343120077277, \"type\": \"Control Counties\"}, {\"seconds\": \"2010-12-01T00:00:00\", \"shipment_per_resident\": 74.96510012155686, \"ci_low\": 73.06091310656656, \"ci_high\": 76.86928713654716, \"type\": \"Control Counties\"}, {\"seconds\": \"2011-12-01T00:00:00\", \"shipment_per_resident\": 75.59627696478523, \"ci_low\": 73.84994080126474, \"ci_high\": 77.34261312830573, \"type\": \"Control Counties\"}, {\"seconds\": \"2012-12-01T00:00:00\", \"shipment_per_resident\": 76.22918305963887, \"ci_low\": 73.16280142050586, \"ci_high\": 79.29556469877188, \"type\": \"Control Counties\"}], \"data-a045c313b72cffe50a294064b7618ec1\": [{\"seconds\": \"2011-01-01T00:00:00\", \"shipment_per_resident\": 75.01870692194063, \"ci_low\": 73.19970573139422, \"ci_high\": 76.83770811248705, \"type\": \"Control Counties\"}, {\"seconds\": \"2012-01-01T00:00:00\", \"shipment_per_resident\": 75.64988376516901, \"ci_low\": 73.82813706922592, \"ci_high\": 77.4716304611121, \"type\": \"Control Counties\"}, {\"seconds\": \"2010-02-01T00:00:00\", \"shipment_per_resident\": 74.44113687909606, \"ci_low\": 71.38375338167283, \"ci_high\": 77.4985203765193, \"type\": \"Control Counties\"}, {\"seconds\": \"2011-02-01T00:00:00\", \"shipment_per_resident\": 75.07231372232442, \"ci_low\": 73.32835494942272, \"ci_high\": 76.81627249522613, \"type\": \"Control Counties\"}, {\"seconds\": \"2012-02-01T00:00:00\", \"shipment_per_resident\": 75.70349056555278, \"ci_low\": 73.79623552766182, \"ci_high\": 77.61074560344375, \"type\": \"Control Counties\"}, {\"seconds\": \"2010-03-01T00:00:00\", \"shipment_per_resident\": 74.48955592460399, \"ci_low\": 71.55367627809515, \"ci_high\": 77.42543557111283, \"type\": \"Control Counties\"}, {\"seconds\": \"2011-03-01T00:00:00\", \"shipment_per_resident\": 75.12073276783235, \"ci_low\": 73.43470512167532, \"ci_high\": 76.80676041398938, \"type\": \"Control Counties\"}, {\"seconds\": \"2012-03-01T00:00:00\", \"shipment_per_resident\": 75.75363886268599, \"ci_low\": 73.75839806005489, \"ci_high\": 77.74887966531709, \"type\": \"Control Counties\"}, {\"seconds\": \"2010-04-01T00:00:00\", \"shipment_per_resident\": 74.54316272498777, \"ci_low\": 71.73949666465016, \"ci_high\": 77.34682878532537, \"type\": \"Control Counties\"}, {\"seconds\": \"2011-04-01T00:00:00\", \"shipment_per_resident\": 75.17433956821613, \"ci_low\": 73.54030248549175, \"ci_high\": 76.8083766509405, \"type\": \"Control Counties\"}, {\"seconds\": \"2012-04-01T00:00:00\", \"shipment_per_resident\": 75.80724566306978, \"ci_low\": 73.71053065386181, \"ci_high\": 77.90396067227775, \"type\": \"Control Counties\"}, {\"seconds\": \"2010-05-01T00:00:00\", \"shipment_per_resident\": 74.59504027374626, \"ci_low\": 71.91668577710041, \"ci_high\": 77.27339477039212, \"type\": \"Control Counties\"}, {\"seconds\": \"2011-05-01T00:00:00\", \"shipment_per_resident\": 75.22621711697462, \"ci_low\": 73.62920749456877, \"ci_high\": 76.82322673938047, \"type\": \"Control Counties\"}, {\"seconds\": \"2012-05-01T00:00:00\", \"shipment_per_resident\": 75.85912321182826, \"ci_low\": 73.65788406066736, \"ci_high\": 78.06036236298917, \"type\": \"Control Counties\"}, {\"seconds\": \"2010-06-01T00:00:00\", \"shipment_per_resident\": 74.64864707413004, \"ci_low\": 72.09664585488795, \"ci_high\": 77.20064829337213, \"type\": \"Control Counties\"}, {\"seconds\": \"2011-06-01T00:00:00\", \"shipment_per_resident\": 75.2798239173584, \"ci_low\": 73.70635608089741, \"ci_high\": 76.85329175381939, \"type\": \"Control Counties\"}, {\"seconds\": \"2012-06-01T00:00:00\", \"shipment_per_resident\": 75.91273001221205, \"ci_low\": 73.59785310313795, \"ci_high\": 78.22760692128615, \"type\": \"Control Counties\"}, {\"seconds\": \"2010-07-01T00:00:00\", \"shipment_per_resident\": 74.70052462288854, \"ci_low\": 72.26730400837403, \"ci_high\": 77.13374523740305, \"type\": \"Control Counties\"}, {\"seconds\": \"2011-07-01T00:00:00\", \"shipment_per_resident\": 75.3317014661169, \"ci_low\": 73.76614198695717, \"ci_high\": 76.89726094527663, \"type\": \"Control Counties\"}, {\"seconds\": \"2012-07-01T00:00:00\", \"shipment_per_resident\": 75.96460756097053, \"ci_low\": 73.53505863596405, \"ci_high\": 78.39415648597702, \"type\": \"Control Counties\"}, {\"seconds\": \"2010-08-01T00:00:00\", \"shipment_per_resident\": 74.75413142327231, \"ci_low\": 72.43946874667834, \"ci_high\": 77.06879409986628, \"type\": \"Control Counties\"}, {\"seconds\": \"2011-08-01T00:00:00\", \"shipment_per_resident\": 75.38530826650067, \"ci_low\": 73.81231395140819, \"ci_high\": 76.95830258159316, \"type\": \"Control Counties\"}, {\"seconds\": \"2012-08-01T00:00:00\", \"shipment_per_resident\": 76.01821436135432, \"ci_low\": 73.46598345158756, \"ci_high\": 78.57044527112109, \"type\": \"Control Counties\"}, {\"seconds\": \"2010-09-01T00:00:00\", \"shipment_per_resident\": 74.80773822365609, \"ci_low\": 72.60670351671597, \"ci_high\": 77.00877293059621, \"type\": \"Control Counties\"}, {\"seconds\": \"2011-09-01T00:00:00\", \"shipment_per_resident\": 75.43891506688445, \"ci_low\": 73.84284631051506, \"ci_high\": 77.03498382325384, \"type\": \"Control Counties\"}, {\"seconds\": \"2012-09-01T00:00:00\", \"shipment_per_resident\": 76.0718211617381, \"ci_low\": 73.39323067759227, \"ci_high\": 78.75041164588393, \"type\": \"Control Counties\"}, {\"seconds\": \"2010-10-01T00:00:00\", \"shipment_per_resident\": 74.85961577241459, \"ci_low\": 72.76309421800632, \"ci_high\": 76.95613732682286, \"type\": \"Control Counties\"}, {\"seconds\": \"2011-10-01T00:00:00\", \"shipment_per_resident\": 75.49079261564295, \"ci_low\": 73.85812380767017, \"ci_high\": 77.12346142361572, \"type\": \"Control Counties\"}, {\"seconds\": \"2012-10-01T00:00:00\", \"shipment_per_resident\": 76.1236987104966, \"ci_low\": 73.31979137114826, \"ci_high\": 78.92760604984494, \"type\": \"Control Counties\"}, {\"seconds\": \"2010-11-01T00:00:00\", \"shipment_per_resident\": 74.91322257279836, \"ci_low\": 72.91816206317887, \"ci_high\": 76.90828308241785, \"type\": \"Control Counties\"}, {\"seconds\": \"2011-11-01T00:00:00\", \"shipment_per_resident\": 75.54439941602672, \"ci_low\": 73.86014731777051, \"ci_high\": 77.22865151428293, \"type\": \"Control Counties\"}, {\"seconds\": \"2012-11-01T00:00:00\", \"shipment_per_resident\": 76.17730551088037, \"ci_low\": 73.24117982098798, \"ci_high\": 79.11343120077277, \"type\": \"Control Counties\"}, {\"seconds\": \"2010-12-01T00:00:00\", \"shipment_per_resident\": 74.96510012155686, \"ci_low\": 73.06091310656656, \"ci_high\": 76.86928713654716, \"type\": \"Control Counties\"}, {\"seconds\": \"2011-12-01T00:00:00\", \"shipment_per_resident\": 75.59627696478523, \"ci_low\": 73.84994080126474, \"ci_high\": 77.34261312830573, \"type\": \"Control Counties\"}, {\"seconds\": \"2012-12-01T00:00:00\", \"shipment_per_resident\": 76.22918305963887, \"ci_low\": 73.16280142050586, \"ci_high\": 79.29556469877188, \"type\": \"Control Counties\"}], \"data-8f20a3bd00eabe1ead865fe2e1771dd9\": [{\"a\": \"2010-02-01\"}]}}, {\"mode\": \"vega-lite\"});\n",
       "</script>"
      ],
      "text/plain": [
       "alt.LayerChart(...)"
      ]
     },
     "metadata": {},
     "output_type": "display_data"
    }
   ],
   "source": [
    "final_chart.display()\n"
   ]
  },
  {
   "cell_type": "code",
   "execution_count": 15,
   "metadata": {},
   "outputs": [
    {
     "data": {
      "text/html": [
       "\n",
       "<div id=\"altair-viz-2654d97e4bb84234b9594760d360658f\"></div>\n",
       "<script type=\"text/javascript\">\n",
       "  (function(spec, embedOpt){\n",
       "    let outputDiv = document.currentScript.previousElementSibling;\n",
       "    if (outputDiv.id !== \"altair-viz-2654d97e4bb84234b9594760d360658f\") {\n",
       "      outputDiv = document.getElementById(\"altair-viz-2654d97e4bb84234b9594760d360658f\");\n",
       "    }\n",
       "    const paths = {\n",
       "      \"vega\": \"https://cdn.jsdelivr.net/npm//vega@5?noext\",\n",
       "      \"vega-lib\": \"https://cdn.jsdelivr.net/npm//vega-lib?noext\",\n",
       "      \"vega-lite\": \"https://cdn.jsdelivr.net/npm//vega-lite@4.8.1?noext\",\n",
       "      \"vega-embed\": \"https://cdn.jsdelivr.net/npm//vega-embed@6?noext\",\n",
       "    };\n",
       "\n",
       "    function loadScript(lib) {\n",
       "      return new Promise(function(resolve, reject) {\n",
       "        var s = document.createElement('script');\n",
       "        s.src = paths[lib];\n",
       "        s.async = true;\n",
       "        s.onload = () => resolve(paths[lib]);\n",
       "        s.onerror = () => reject(`Error loading script: ${paths[lib]}`);\n",
       "        document.getElementsByTagName(\"head\")[0].appendChild(s);\n",
       "      });\n",
       "    }\n",
       "\n",
       "    function showError(err) {\n",
       "      outputDiv.innerHTML = `<div class=\"error\" style=\"color:red;\">${err}</div>`;\n",
       "      throw err;\n",
       "    }\n",
       "\n",
       "    function displayChart(vegaEmbed) {\n",
       "      vegaEmbed(outputDiv, spec, embedOpt)\n",
       "        .catch(err => showError(`Javascript Error: ${err.message}<br>This usually means there's a typo in your chart specification. See the javascript console for the full traceback.`));\n",
       "    }\n",
       "\n",
       "    if(typeof define === \"function\" && define.amd) {\n",
       "      requirejs.config({paths});\n",
       "      require([\"vega-embed\"], displayChart, err => showError(`Error loading script: ${err.message}`));\n",
       "    } else if (typeof vegaEmbed === \"function\") {\n",
       "      displayChart(vegaEmbed);\n",
       "    } else {\n",
       "      loadScript(\"vega\")\n",
       "        .then(() => loadScript(\"vega-lite\"))\n",
       "        .then(() => loadScript(\"vega-embed\"))\n",
       "        .catch(showError)\n",
       "        .then(() => displayChart(vegaEmbed));\n",
       "    }\n",
       "  })({\"config\": {\"view\": {\"continuousWidth\": 400, \"continuousHeight\": 300}}, \"data\": {\"name\": \"data-17cfca8284d0a8a521cf15693f1f570f\"}, \"mark\": {\"type\": \"errorband\", \"color\": \"orange\"}, \"encoding\": {\"x\": {\"type\": \"temporal\", \"field\": \"seconds\"}, \"y\": {\"type\": \"quantitative\", \"field\": \"ci_low\", \"title\": \"\"}, \"y2\": {\"field\": \"ci_high\"}}, \"$schema\": \"https://vega.github.io/schema/vega-lite/v4.8.1.json\", \"datasets\": {\"data-17cfca8284d0a8a521cf15693f1f570f\": [{\"seconds\": \"2006-01-01T00:00:00\", \"shipment_per_resident\": 30.439887762174408, \"ci_low\": 28.65647214927887, \"ci_high\": 32.223303375069946, \"type\": \"Florida\"}, {\"seconds\": \"2007-01-01T00:00:00\", \"shipment_per_resident\": 38.391991524472076, \"ci_low\": 37.204215283027416, \"ci_high\": 39.579767765916735, \"type\": \"Florida\"}, {\"seconds\": \"2008-01-01T00:00:00\", \"shipment_per_resident\": 46.34409528676974, \"ci_low\": 45.43769976964297, \"ci_high\": 47.25049080389652, \"type\": \"Florida\"}, {\"seconds\": \"2009-01-01T00:00:00\", \"shipment_per_resident\": 54.3179856347175, \"ci_low\": 53.128013392555495, \"ci_high\": 55.50795787687951, \"type\": \"Florida\"}, {\"seconds\": \"2010-01-01T00:00:00\", \"shipment_per_resident\": 62.27008939701517, \"ci_low\": 60.48375035303028, \"ci_high\": 64.05642844100007, \"type\": \"Florida\"}, {\"seconds\": \"2006-02-01T00:00:00\", \"shipment_per_resident\": 31.11527191732847, \"ci_low\": 29.387733247785594, \"ci_high\": 32.842810586871344, \"type\": \"Florida\"}, {\"seconds\": \"2007-02-01T00:00:00\", \"shipment_per_resident\": 39.06737567962614, \"ci_low\": 37.92068801985666, \"ci_high\": 40.214063339395615, \"type\": \"Florida\"}, {\"seconds\": \"2008-02-01T00:00:00\", \"shipment_per_resident\": 47.01947944192375, \"ci_low\": 46.11069200490917, \"ci_high\": 47.92826687893833, \"type\": \"Florida\"}, {\"seconds\": \"2009-02-01T00:00:00\", \"shipment_per_resident\": 54.993369789871565, \"ci_low\": 53.76011718741209, \"ci_high\": 56.22662239233104, \"type\": \"Florida\"}, {\"seconds\": \"2006-03-01T00:00:00\", \"shipment_per_resident\": 31.725296315532148, \"ci_low\": 30.04764530974525, \"ci_high\": 33.40294732131905, \"type\": \"Florida\"}, {\"seconds\": \"2007-03-01T00:00:00\", \"shipment_per_resident\": 39.67740007782976, \"ci_low\": 38.56583609830673, \"ci_high\": 40.788964057352786, \"type\": \"Florida\"}, {\"seconds\": \"2008-03-01T00:00:00\", \"shipment_per_resident\": 47.651290425777574, \"ci_low\": 46.73604986453444, \"ci_high\": 48.566530987020705, \"type\": \"Florida\"}, {\"seconds\": \"2009-03-01T00:00:00\", \"shipment_per_resident\": 55.603394188075185, \"ci_low\": 54.329439841357235, \"ci_high\": 56.877348534793136, \"type\": \"Florida\"}, {\"seconds\": \"2006-04-01T00:00:00\", \"shipment_per_resident\": 32.400680470686154, \"ci_low\": 30.777554421826725, \"ci_high\": 34.02380651954559, \"type\": \"Florida\"}, {\"seconds\": \"2007-04-01T00:00:00\", \"shipment_per_resident\": 40.35278423298382, \"ci_low\": 39.277674314546594, \"ci_high\": 41.42789415142105, \"type\": \"Florida\"}, {\"seconds\": \"2008-04-01T00:00:00\", \"shipment_per_resident\": 48.32667458093158, \"ci_low\": 47.40012808277693, \"ci_high\": 49.25322107908623, \"type\": \"Florida\"}, {\"seconds\": \"2009-04-01T00:00:00\", \"shipment_per_resident\": 56.27877834322925, \"ci_low\": 54.95815561561156, \"ci_high\": 57.59940107084694, \"type\": \"Florida\"}, {\"seconds\": \"2006-05-01T00:00:00\", \"shipment_per_resident\": 33.05427804019007, \"ci_low\": 31.48313933085106, \"ci_high\": 34.62541674952908, \"type\": \"Florida\"}, {\"seconds\": \"2007-05-01T00:00:00\", \"shipment_per_resident\": 41.00638180248774, \"ci_low\": 39.96387168335639, \"ci_high\": 42.04889192161909, \"type\": \"Florida\"}, {\"seconds\": \"2008-05-01T00:00:00\", \"shipment_per_resident\": 48.980272150435496, \"ci_low\": 48.038599387949716, \"ci_high\": 49.921944912921276, \"type\": \"Florida\"}, {\"seconds\": \"2009-05-01T00:00:00\", \"shipment_per_resident\": 56.932375912733164, \"ci_low\": 55.56514114674121, \"ci_high\": 58.29961067872512, \"type\": \"Florida\"}, {\"seconds\": \"2006-06-01T00:00:00\", \"shipment_per_resident\": 33.72966219534413, \"ci_low\": 32.2113545313281, \"ci_high\": 35.24796985936017, \"type\": \"Florida\"}, {\"seconds\": \"2007-06-01T00:00:00\", \"shipment_per_resident\": 41.6817659576418, \"ci_low\": 40.66990121865808, \"ci_high\": 42.69363069662552, \"type\": \"Florida\"}, {\"seconds\": \"2008-06-01T00:00:00\", \"shipment_per_resident\": 49.65565630558956, \"ci_low\": 48.69423716428658, \"ci_high\": 50.61707544689254, \"type\": \"Florida\"}, {\"seconds\": \"2009-06-01T00:00:00\", \"shipment_per_resident\": 57.60776006788723, \"ci_low\": 56.19101320910328, \"ci_high\": 59.02450692667117, \"type\": \"Florida\"}, {\"seconds\": \"2006-07-01T00:00:00\", \"shipment_per_resident\": 34.38325976484805, \"ci_low\": 32.9151274942834, \"ci_high\": 35.8513920354127, \"type\": \"Florida\"}, {\"seconds\": \"2007-07-01T00:00:00\", \"shipment_per_resident\": 42.33536352714572, \"ci_low\": 41.349943926400066, \"ci_high\": 43.32078312789137, \"type\": \"Florida\"}, {\"seconds\": \"2008-07-01T00:00:00\", \"shipment_per_resident\": 50.309253875093475, \"ci_low\": 49.3249767436946, \"ci_high\": 51.29353100649235, \"type\": \"Florida\"}, {\"seconds\": \"2009-07-01T00:00:00\", \"shipment_per_resident\": 58.26135763739114, \"ci_low\": 56.79552213970498, \"ci_high\": 59.72719313507731, \"type\": \"Florida\"}, {\"seconds\": \"2006-08-01T00:00:00\", \"shipment_per_resident\": 35.05864392000211, \"ci_low\": 33.641269682950416, \"ci_high\": 36.47601815705381, \"type\": \"Florida\"}, {\"seconds\": \"2007-08-01T00:00:00\", \"shipment_per_resident\": 43.01074768229978, \"ci_low\": 42.04905608079793, \"ci_high\": 43.97243928380163, \"type\": \"Florida\"}, {\"seconds\": \"2008-08-01T00:00:00\", \"shipment_per_resident\": 50.98463803024754, \"ci_low\": 49.97313583528742, \"ci_high\": 51.996140225207654, \"type\": \"Florida\"}, {\"seconds\": \"2009-08-01T00:00:00\", \"shipment_per_resident\": 58.936741792545206, \"ci_low\": 57.41908883215802, \"ci_high\": 60.454394752932394, \"type\": \"Florida\"}, {\"seconds\": \"2006-09-01T00:00:00\", \"shipment_per_resident\": 35.734028075156175, \"ci_low\": 34.36618215577939, \"ci_high\": 37.10187399453296, \"type\": \"Florida\"}, {\"seconds\": \"2007-09-01T00:00:00\", \"shipment_per_resident\": 43.686131837453786, \"ci_low\": 42.74423744285442, \"ci_high\": 44.62802623205315, \"type\": \"Florida\"}, {\"seconds\": \"2008-09-01T00:00:00\", \"shipment_per_resident\": 51.6600221854016, \"ci_low\": 50.617915052359784, \"ci_high\": 52.70212931844342, \"type\": \"Florida\"}, {\"seconds\": \"2009-09-01T00:00:00\", \"shipment_per_resident\": 59.61212594769921, \"ci_low\": 58.04165382843685, \"ci_high\": 61.182598066961575, \"type\": \"Florida\"}, {\"seconds\": \"2006-10-01T00:00:00\", \"shipment_per_resident\": 36.38762564466009, \"ci_low\": 35.066409210373095, \"ci_high\": 37.708842078947086, \"type\": \"Florida\"}, {\"seconds\": \"2007-10-01T00:00:00\", \"shipment_per_resident\": 44.3397294069577, \"ci_low\": 43.41301327138878, \"ci_high\": 45.266445542526625, \"type\": \"Florida\"}, {\"seconds\": \"2008-10-01T00:00:00\", \"shipment_per_resident\": 52.31361975490552, \"ci_low\": 51.23894855464075, \"ci_high\": 53.388290955170284, \"type\": \"Florida\"}, {\"seconds\": \"2009-10-01T00:00:00\", \"shipment_per_resident\": 60.26572351720313, \"ci_low\": 58.6432744648153, \"ci_high\": 61.88817256959096, \"type\": \"Florida\"}, {\"seconds\": \"2006-11-01T00:00:00\", \"shipment_per_resident\": 37.0630097998141, \"ci_low\": 35.78848179192807, \"ci_high\": 38.33753780770012, \"type\": \"Florida\"}, {\"seconds\": \"2007-11-01T00:00:00\", \"shipment_per_resident\": 45.015113562111765, \"ci_low\": 44.09975944732306, \"ci_high\": 45.93046767690047, \"type\": \"Florida\"}, {\"seconds\": \"2008-11-01T00:00:00\", \"shipment_per_resident\": 52.98900391005952, \"ci_low\": 51.87791218550911, \"ci_high\": 54.100095634609936, \"type\": \"Florida\"}, {\"seconds\": \"2009-11-01T00:00:00\", \"shipment_per_resident\": 60.94110767235719, \"ci_low\": 59.264143408527865, \"ci_high\": 62.61807193618652, \"type\": \"Florida\"}, {\"seconds\": \"2006-12-01T00:00:00\", \"shipment_per_resident\": 37.71660736931801, \"ci_low\": 36.485653439340794, \"ci_high\": 38.94756129929523, \"type\": \"Florida\"}, {\"seconds\": \"2007-12-01T00:00:00\", \"shipment_per_resident\": 45.66871113161568, \"ci_low\": 44.76001622760627, \"ci_high\": 46.57740603562509, \"type\": \"Florida\"}, {\"seconds\": \"2008-12-01T00:00:00\", \"shipment_per_resident\": 53.64260147956344, \"ci_low\": 52.49383202485456, \"ci_high\": 54.791370934272315, \"type\": \"Florida\"}, {\"seconds\": \"2009-12-01T00:00:00\", \"shipment_per_resident\": 61.59470524186111, \"ci_low\": 59.864276705301386, \"ci_high\": 63.32513377842083, \"type\": \"Florida\"}]}}, {\"mode\": \"vega-lite\"});\n",
       "</script>"
      ],
      "text/plain": [
       "alt.Chart(...)"
      ]
     },
     "execution_count": 15,
     "metadata": {},
     "output_type": "execute_result"
    }
   ],
   "source": [
    "ci1flo"
   ]
  }
 ],
 "metadata": {
  "interpreter": {
   "hash": "84b1e2213175d1b29c0c106fcfdfa2350458511224f0b9c320f712c5e7a09711"
  },
  "kernelspec": {
   "display_name": "Python 3.9.7 64-bit ('base': conda)",
   "language": "python",
   "name": "python3"
  },
  "language_info": {
   "codemirror_mode": {
    "name": "ipython",
    "version": 3
   },
   "file_extension": ".py",
   "mimetype": "text/x-python",
   "name": "python",
   "nbconvert_exporter": "python",
   "pygments_lexer": "ipython3",
   "version": "3.9.7"
  },
  "orig_nbformat": 4
 },
 "nbformat": 4,
 "nbformat_minor": 2
}
