{
 "cells": [
  {
   "cell_type": "code",
   "execution_count": null,
   "metadata": {},
   "outputs": [],
   "source": [
    "import pandas as pd"
   ]
  },
  {
   "cell_type": "code",
   "execution_count": null,
   "metadata": {},
   "outputs": [],
   "source": [
    "# importing parquet files used in final analysis\n",
    "florida_mortality = pd.read_parquet(\"florida_mortality.parquet\")\n",
    "florida_shipment_annual = pd.read_parquet(\"florida_shipment_annual.parquet\")\n",
    "florida_shipment_monthly = pd.read_parquet(\"florida_shipment_monthly.parquet\")\n",
    "washington_mortality = pd.read_parquet(\"washington_mortality.parquet\")\n",
    "washington_shipment_annual = pd.read_parquet(\"washington_shipment_annual.parquet\")\n",
    "washington_shipment_monthly = pd.read_parquet(\"washington_shipment_monthly.parquet\")\n",
    "texas_mortality = pd.read_parquet(\"texas_mortality.parquet\")\n",
    "texas_shipment_annual = pd.read_parquet(\"texas_shipment_annual.parquet\")\n",
    "texas_shipment_monthly = pd.read_parquet(\"texas_shipment_monthly.parquet\")\n",
    "pop_clean = pd.read_parquet(\"population_clean.parquet\")\n",
    "\n",
    "df_list = [\n",
    "    florida_mortality,\n",
    "    florida_shipment_annual,\n",
    "    florida_shipment_monthly,\n",
    "    washington_mortality,\n",
    "    washington_shipment_annual,\n",
    "    washington_shipment_monthly,\n",
    "    texas_mortality,\n",
    "    texas_shipment_annual,\n",
    "    texas_shipment_monthly,\n",
    "    pop_clean,\n",
    "]\n",
    "df_list_mort = [\n",
    "    florida_mortality,\n",
    "    washington_mortality,\n",
    "    texas_mortality,\n",
    "]\n",
    "df_list_ship = [\n",
    "    florida_shipment_annual,\n",
    "    washington_shipment_annual,\n",
    "    texas_shipment_annual,\n",
    "    florida_shipment_monthly,\n",
    "    texas_shipment_monthly,\n",
    "    washington_shipment_monthly,\n",
    "]\n"
   ]
  },
  {
   "cell_type": "code",
   "execution_count": null,
   "metadata": {},
   "outputs": [],
   "source": [
    "# giving dataframes string names\n",
    "florida_mortality.Name = \"Florida Mortality Distribution\"\n",
    "florida_shipment_annual.Name = \"Florida Annual Opioid Shipment Distribution\"\n",
    "florida_shipment_monthly.Name = \"Florida Monthly Shipment Distribution\"\n",
    "washington_mortality.Name = \"Washington Mortality Distribution\"\n",
    "washington_shipment_annual.Name = \"Washington Annual Opioid Shipment Distribution\"\n",
    "washington_shipment_monthly.Name = \"Washington Monthly Shipment Distribution\"\n",
    "texas_mortality.Name = \"Texas Mortality Distribution\"\n",
    "texas_shipment_annual.Name = \"Texas Annual Opioid Shipment Distribution\"\n",
    "texas_shipment_monthly.Name = \"Texas Monthly Shipment Distribution\"\n",
    "pop_clean.Name = \"Population Distribution\"\n"
   ]
  },
  {
   "cell_type": "code",
   "execution_count": null,
   "metadata": {},
   "outputs": [],
   "source": [
    "from IPython.display import display\n",
    "\n",
    "for i in df_list:\n",
    "    display(i.head())\n"
   ]
  },
  {
   "cell_type": "code",
   "execution_count": null,
   "metadata": {},
   "outputs": [],
   "source": [
    "# calculating statistics summary for mortality dataframes\n",
    "for a in df_list_mort:\n",
    "    print(\"Data Statistics for\", a.Name, \":\")\n",
    "    fd = a[[\"Deaths\", \"deaths_per_100k\"]].describe()\n",
    "    print(fd.to_markdown())\n"
   ]
  },
  {
   "cell_type": "code",
   "execution_count": null,
   "metadata": {},
   "outputs": [],
   "source": [
    "# calculating summary statistics for shipment dataframes\n",
    "for a in df_list_ship:\n",
    "    print(\"Data Statistics for\", a.Name, \":\")\n",
    "    dl = a[[\"shipment\", \"shipment_per_resident\"]].describe()\n",
    "    print(dl.to_markdown())\n"
   ]
  },
  {
   "cell_type": "code",
   "execution_count": null,
   "metadata": {},
   "outputs": [],
   "source": [
    "print(\"Data Statistics for the population dataset: \")\n",
    "dfg = pop_clean[\"population\"].describe()\n",
    "print(dfg.to_markdown())\n"
   ]
  },
  {
   "cell_type": "code",
   "execution_count": null,
   "metadata": {},
   "outputs": [],
   "source": [
    "import altair as alt\n",
    "\n",
    "alt.data_transformers.disable_max_rows()\n",
    "\n",
    "# plotting county population data\n",
    "pop_chart = (\n",
    "    alt.Chart(pop_clean, title=\"County Population Histogram\")\n",
    "    .mark_bar(size=5)\n",
    "    .encode(\n",
    "        alt.X(\n",
    "            \"population\", bin=alt.Bin(step=40000), scale=alt.Scale(domain=[0, 2000000])\n",
    "        ),\n",
    "        y=\"count()\",\n",
    "    )\n",
    ")\n",
    "\n",
    "pop_chart\n"
   ]
  },
  {
   "cell_type": "code",
   "execution_count": null,
   "metadata": {},
   "outputs": [],
   "source": [
    "alt.data_transformers.disable_max_rows()\n",
    "\n",
    "# defining a function to make histogram plotting easier\n",
    "# x is dataframe, y is second number in graph x range, z is step size\n",
    "def plotting(x, y, z, col_name):\n",
    "    s = (\n",
    "        alt.Chart(x, title=str(x.Name))\n",
    "        .mark_bar()\n",
    "        .encode(\n",
    "            alt.X(str(col_name), bin=alt.Bin(step=z), scale=alt.Scale(domain=[0, y])),\n",
    "            alt.Y(\"count()\"),\n",
    "        )\n",
    "    )\n",
    "    return s.display()\n",
    "\n",
    "\n",
    "plotting(florida_shipment_annual, 2800, 100, \"shipment_per_resident\")\n",
    "plotting(washington_shipment_annual, 2800, 100, \"shipment_per_resident\")\n",
    "plotting(texas_shipment_annual, 2800, 100, \"shipment_per_resident\")\n",
    "plotting(florida_shipment_monthly, 300, 20, \"shipment_per_resident\")\n",
    "plotting(washington_shipment_monthly, 300, 20, \"shipment_per_resident\")\n",
    "plotting(texas_shipment_monthly, 300, 20, \"shipment_per_resident\")\n",
    "plotting(florida_mortality, 100, 5, \"deaths_per_100k\")\n",
    "plotting(washington_mortality, 100, 5, \"deaths_per_100k\")\n",
    "plotting(texas_mortality, 100, 5, \"deaths_per_100k\")\n"
   ]
  }
 ],
 "metadata": {
  "interpreter": {
   "hash": "0a1a2b61d11b277ce38ec6a342e4de69172ad4a2ed7aab502a2958596449cc10"
  },
  "kernelspec": {
   "display_name": "Python 3.9.6 64-bit ('base': conda)",
   "language": "python",
   "name": "python3"
  },
  "language_info": {
   "codemirror_mode": {
    "name": "ipython",
    "version": 3
   },
   "file_extension": ".py",
   "mimetype": "text/x-python",
   "name": "python",
   "nbconvert_exporter": "python",
   "pygments_lexer": "ipython3",
   "version": "3.9.6"
  },
  "orig_nbformat": 4
 },
 "nbformat": 4,
 "nbformat_minor": 2
}
