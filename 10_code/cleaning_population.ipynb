{
 "cells": [
  {
   "cell_type": "markdown",
   "metadata": {},
   "source": [
    "## Clean and Combine Population Files"
   ]
  },
  {
   "cell_type": "code",
   "execution_count": 1,
   "metadata": {},
   "outputs": [],
   "source": [
    "import pandas as pd\n"
   ]
  },
  {
   "cell_type": "markdown",
   "metadata": {},
   "source": [
    "Read in both population files, selecting only relevant columns."
   ]
  },
  {
   "cell_type": "code",
   "execution_count": 2,
   "metadata": {},
   "outputs": [],
   "source": [
    "pop_2000 = pd.read_csv(\n",
    "    \"../00_source/co-est00int-tot.csv\",\n",
    "    encoding=\"ISO-8859-1\",\n",
    "    usecols=[\n",
    "        \"STNAME\",\n",
    "        \"CTYNAME\",\n",
    "        \"POPESTIMATE2003\",\n",
    "        \"POPESTIMATE2004\",\n",
    "        \"POPESTIMATE2005\",\n",
    "        \"POPESTIMATE2006\",\n",
    "        \"POPESTIMATE2007\",\n",
    "        \"POPESTIMATE2008\",\n",
    "        \"POPESTIMATE2009\",\n",
    "    ],\n",
    ")\n",
    "pop_2010 = pd.read_csv(\n",
    "    \"../00_source/co-est2019-alldata.csv\",\n",
    "    encoding=\"ISO-8859-1\",\n",
    "    usecols=[\n",
    "        \"STNAME\",\n",
    "        \"CTYNAME\",\n",
    "        \"POPESTIMATE2010\",\n",
    "        \"POPESTIMATE2011\",\n",
    "        \"POPESTIMATE2012\",\n",
    "        \"POPESTIMATE2013\",\n",
    "        \"POPESTIMATE2014\",\n",
    "        \"POPESTIMATE2015\",\n",
    "    ],\n",
    ")\n"
   ]
  },
  {
   "cell_type": "markdown",
   "metadata": {},
   "source": [
    "Melt both datasets by state and county."
   ]
  },
  {
   "cell_type": "code",
   "execution_count": 3,
   "metadata": {},
   "outputs": [],
   "source": [
    "pop_2000_melt = pop_2000.melt(id_vars=[\"STNAME\", \"CTYNAME\"])\n",
    "pop_2010_melt = pop_2010.melt(id_vars=[\"STNAME\", \"CTYNAME\"])\n",
    "\n"
   ]
  },
  {
   "cell_type": "markdown",
   "metadata": {},
   "source": [
    "Combine datasets and rename variables to be more informative."
   ]
  },
  {
   "cell_type": "code",
   "execution_count": 4,
   "metadata": {},
   "outputs": [],
   "source": [
    "pop_total = pop_2000_melt.append(pop_2010_melt)\n",
    "pop_total.rename({\"STNAME\": \"state\", \"CTYNAME\": \"county\", 'variable':'year', 'value':'population'}, axis = 1, inplace=True)\n",
    "\n"
   ]
  },
  {
   "cell_type": "markdown",
   "metadata": {},
   "source": [
    "Removed \"POPESTIMATE\" from year column, and then dropped observations that were for the whole state.\n",
    "\n",
    "Needed to save DC from this, but then added back in."
   ]
  },
  {
   "cell_type": "code",
   "execution_count": 5,
   "metadata": {},
   "outputs": [],
   "source": [
    "pop_total[\"year\"] = pop_total[\"year\"].map(lambda x: x.lstrip(\"POPESTIMATE\")).astype(int)\n",
    "dc = pop_total[pop_total['state'] == \"District of Columbia\"].copy()\n",
    "dc.drop_duplicates(inplace=True)\n",
    "pop_total = pop_total[pop_total['county'] != pop_total['state']]\n",
    "pop_total = pop_total.append(dc)"
   ]
  },
  {
   "cell_type": "markdown",
   "metadata": {},
   "source": [
    "Now, do some asserts. Check that there are no duplicates for state, county, year populations. \n",
    "Also, checked that all years are between 2003 and 2015, and that all population values are greater than zero."
   ]
  },
  {
   "cell_type": "code",
   "execution_count": 6,
   "metadata": {},
   "outputs": [],
   "source": [
    "assert not pop_total.duplicated([\"year\", \"state\", \"county\"]).any()\n",
    "assert ((pop_total['year'] >= 2003) & (pop_total['year'] <= 2015)).all()\n",
    "assert (pop_total['population'] > 0).all()"
   ]
  },
  {
   "cell_type": "markdown",
   "metadata": {},
   "source": [
    "Below, I checked that all of the county-years had the same number of observations. \n",
    "\n",
    "I noticed that there are 9 counties that do not have observations for all years.\n",
    "\n",
    "It appears that this is due to renaming or changing boundaries between the two datasets.\n",
    "\n",
    "For now, I'll make note of this and move on, to see what the other datasets look like.\n",
    "Alaska Kusilvak Census Area (2010-2015)\n",
    "\n",
    "Alaska Petersburg Borough (2010-2015)\n",
    "\n",
    "Alaska Petersburg Census Area (2003-2009)\n",
    "\n",
    "Alaska Wade Hampton Census Area (2003-2009)\n",
    "\n",
    "Louisiana La Salle Parish (2003-2009)\n",
    "\n",
    "Louisiana LaSalle Parish (2010-2015)\n",
    "\n",
    "South Dakota Oglala Lakota County (2010-2015)\n",
    "\n",
    "South Dakota Shannon County (2003-2009)\n",
    "\n",
    "Virginia Bedford City (2003-2009)\n"
   ]
  },
  {
   "cell_type": "code",
   "execution_count": 7,
   "metadata": {},
   "outputs": [
    {
     "data": {
      "text/html": [
       "<div>\n",
       "<style scoped>\n",
       "    .dataframe tbody tr th:only-of-type {\n",
       "        vertical-align: middle;\n",
       "    }\n",
       "\n",
       "    .dataframe tbody tr th {\n",
       "        vertical-align: top;\n",
       "    }\n",
       "\n",
       "    .dataframe thead th {\n",
       "        text-align: right;\n",
       "    }\n",
       "</style>\n",
       "<table border=\"1\" class=\"dataframe\">\n",
       "  <thead>\n",
       "    <tr style=\"text-align: right;\">\n",
       "      <th></th>\n",
       "      <th>state</th>\n",
       "      <th>county</th>\n",
       "      <th>year</th>\n",
       "      <th>population</th>\n",
       "    </tr>\n",
       "  </thead>\n",
       "  <tbody>\n",
       "    <tr>\n",
       "      <th>81</th>\n",
       "      <td>Alaska</td>\n",
       "      <td>Kusilvak Census Area</td>\n",
       "      <td>6</td>\n",
       "      <td>6</td>\n",
       "    </tr>\n",
       "    <tr>\n",
       "      <th>87</th>\n",
       "      <td>Alaska</td>\n",
       "      <td>Petersburg Borough</td>\n",
       "      <td>6</td>\n",
       "      <td>6</td>\n",
       "    </tr>\n",
       "    <tr>\n",
       "      <th>88</th>\n",
       "      <td>Alaska</td>\n",
       "      <td>Petersburg Census Area</td>\n",
       "      <td>7</td>\n",
       "      <td>7</td>\n",
       "    </tr>\n",
       "    <tr>\n",
       "      <th>94</th>\n",
       "      <td>Alaska</td>\n",
       "      <td>Wade Hampton Census Area</td>\n",
       "      <td>7</td>\n",
       "      <td>7</td>\n",
       "    </tr>\n",
       "    <tr>\n",
       "      <th>1142</th>\n",
       "      <td>Louisiana</td>\n",
       "      <td>La Salle Parish</td>\n",
       "      <td>7</td>\n",
       "      <td>7</td>\n",
       "    </tr>\n",
       "    <tr>\n",
       "      <th>1143</th>\n",
       "      <td>Louisiana</td>\n",
       "      <td>LaSalle Parish</td>\n",
       "      <td>6</td>\n",
       "      <td>6</td>\n",
       "    </tr>\n",
       "    <tr>\n",
       "      <th>2415</th>\n",
       "      <td>South Dakota</td>\n",
       "      <td>Oglala Lakota County</td>\n",
       "      <td>6</td>\n",
       "      <td>6</td>\n",
       "    </tr>\n",
       "    <tr>\n",
       "      <th>2421</th>\n",
       "      <td>South Dakota</td>\n",
       "      <td>Shannon County</td>\n",
       "      <td>7</td>\n",
       "      <td>7</td>\n",
       "    </tr>\n",
       "    <tr>\n",
       "      <th>2835</th>\n",
       "      <td>Virginia</td>\n",
       "      <td>Bedford city</td>\n",
       "      <td>7</td>\n",
       "      <td>7</td>\n",
       "    </tr>\n",
       "  </tbody>\n",
       "</table>\n",
       "</div>"
      ],
      "text/plain": [
       "             state                    county  year  population\n",
       "81          Alaska      Kusilvak Census Area     6           6\n",
       "87          Alaska        Petersburg Borough     6           6\n",
       "88          Alaska    Petersburg Census Area     7           7\n",
       "94          Alaska  Wade Hampton Census Area     7           7\n",
       "1142     Louisiana           La Salle Parish     7           7\n",
       "1143     Louisiana            LaSalle Parish     6           6\n",
       "2415  South Dakota      Oglala Lakota County     6           6\n",
       "2421  South Dakota            Shannon County     7           7\n",
       "2835      Virginia              Bedford city     7           7"
      ]
     },
     "execution_count": 7,
     "metadata": {},
     "output_type": "execute_result"
    }
   ],
   "source": [
    "num_obs = pop_total.groupby(['state', 'county']).count().reset_index()\n",
    "num_obs[num_obs['year'] < 13]"
   ]
  },
  {
   "cell_type": "markdown",
   "metadata": {},
   "source": [
    "Finally, output to intermediate files folder in parquet format"
   ]
  },
  {
   "cell_type": "code",
   "execution_count": 8,
   "metadata": {},
   "outputs": [],
   "source": [
    "pop_total.to_parquet(\"../20_intermediate_files/population_clean.parquet\", engine=\"fastparquet\")"
   ]
  }
 ],
 "metadata": {
  "interpreter": {
   "hash": "84b1e2213175d1b29c0c106fcfdfa2350458511224f0b9c320f712c5e7a09711"
  },
  "kernelspec": {
   "display_name": "Python 3.9.6 64-bit ('base': conda)",
   "name": "python3"
  },
  "language_info": {
   "codemirror_mode": {
    "name": "ipython",
    "version": 3
   },
   "file_extension": ".py",
   "mimetype": "text/x-python",
   "name": "python",
   "nbconvert_exporter": "python",
   "pygments_lexer": "ipython3",
   "version": "3.9.6"
  },
  "orig_nbformat": 4
 },
 "nbformat": 4,
 "nbformat_minor": 2
}
