{
 "cells": [
  {
   "cell_type": "code",
   "execution_count": 1,
   "metadata": {},
   "outputs": [
    {
     "data": {
      "text/plain": [
       "DataTransformerRegistry.enable('default')"
      ]
     },
     "execution_count": 1,
     "metadata": {},
     "output_type": "execute_result"
    }
   ],
   "source": [
    "import pandas as pd\n",
    "import numpy as np\n",
    "import altair as alt\n",
    "import statsmodels.formula.api as smf\n",
    "import altair_saver\n",
    "from find_control_module import find_controls\n",
    "\n",
    "alt.data_transformers.disable_max_rows()\n"
   ]
  },
  {
   "cell_type": "code",
   "execution_count": 2,
   "metadata": {},
   "outputs": [],
   "source": [
    "washington = pd.read_parquet(f\"../20_intermediate_files/washington_shipment_monthly.parquet\")\n",
    "controls = pd.read_parquet(f\"../20_intermediate_files/other_shipment_monthly.parquet\")\n"
   ]
  },
  {
   "cell_type": "code",
   "execution_count": 3,
   "metadata": {},
   "outputs": [
    {
     "name": "stderr",
     "output_type": "stream",
     "text": [
      "/var/folders/lz/cw17t6h96s12fy8v30l0cs880000gn/T/ipykernel_98800/2134280898.py:1: FutureWarning: casting datetime64[ns] values to int64 with .astype(...) is deprecated and will raise in a future version. Use .view(...) instead.\n",
      "  controls.loc[:, \"seconds\"] = pd.to_datetime(controls[\"year\"]).astype(int) / 10 ** 9\n",
      "/var/folders/lz/cw17t6h96s12fy8v30l0cs880000gn/T/ipykernel_98800/2134280898.py:2: FutureWarning: casting datetime64[ns] values to int64 with .astype(...) is deprecated and will raise in a future version. Use .view(...) instead.\n",
      "  washington.loc[:, \"seconds\"] = pd.to_datetime(washington[\"year\"]).astype(int) / 10 ** 9\n"
     ]
    }
   ],
   "source": [
    "controls.loc[:, \"seconds\"] = pd.to_datetime(controls[\"year\"]).astype(int) / 10 ** 9\n",
    "washington.loc[:, \"seconds\"] = pd.to_datetime(washington[\"year\"]).astype(int) / 10 ** 9\n"
   ]
  },
  {
   "cell_type": "code",
   "execution_count": 4,
   "metadata": {},
   "outputs": [],
   "source": [
    "control_washington = controls.copy()\n",
    "control_washington[\"category_was\"] = np.where(\n",
    "    control_washington[\"year\"] >= pd.to_datetime(\"2012-01-01\"), \"post\", \"pre\"\n",
    ")\n",
    "control_washington[\"type\"] = \"Control States\"\n",
    "washington[\"type\"] = \"Washington\"\n",
    "washington_pre = washington[washington[\"category_was\"] == \"pre\"]\n",
    "washington_post = washington[washington[\"category_was\"] == \"post\"]\n",
    "control_washington_pre = control_washington[control_washington[\"category_was\"] == \"pre\"]\n",
    "control_washington_post = control_washington[control_washington[\"category_was\"] == \"post\"]\n"
   ]
  },
  {
   "cell_type": "code",
   "execution_count": 5,
   "metadata": {},
   "outputs": [
    {
     "name": "stderr",
     "output_type": "stream",
     "text": [
      "/Users/Razalamb1/MIDS/fall21/practicing/pds2021-opioids-team-9-1/10_code/find_control_module.py:34: FutureWarning: casting datetime64[ns] values to int64 with .astype(...) is deprecated and will raise in a future version. Use .view(...) instead.\n",
      "  df_pre.loc[:, \"seconds\"] = pd.to_datetime(df_pre[\"year\"]).array.astype(int) / 10 ** 9\n",
      "/Users/Razalamb1/opt/miniconda3/lib/python3.9/site-packages/pandas/core/indexing.py:1773: SettingWithCopyWarning: \n",
      "A value is trying to be set on a copy of a slice from a DataFrame.\n",
      "Try using .loc[row_indexer,col_indexer] = value instead\n",
      "\n",
      "See the caveats in the documentation: https://pandas.pydata.org/pandas-docs/stable/user_guide/indexing.html#returning-a-view-versus-a-copy\n",
      "  self._setitem_single_column(ilocs[0], value, pi)\n",
      "/Users/Razalamb1/MIDS/fall21/practicing/pds2021-opioids-team-9-1/10_code/find_control_module.py:34: FutureWarning: casting datetime64[ns] values to int64 with .astype(...) is deprecated and will raise in a future version. Use .view(...) instead.\n",
      "  df_pre.loc[:, \"seconds\"] = pd.to_datetime(df_pre[\"year\"]).array.astype(int) / 10 ** 9\n",
      "/Users/Razalamb1/opt/miniconda3/lib/python3.9/site-packages/pandas/core/indexing.py:1773: SettingWithCopyWarning: \n",
      "A value is trying to be set on a copy of a slice from a DataFrame.\n",
      "Try using .loc[row_indexer,col_indexer] = value instead\n",
      "\n",
      "See the caveats in the documentation: https://pandas.pydata.org/pandas-docs/stable/user_guide/indexing.html#returning-a-view-versus-a-copy\n",
      "  self._setitem_single_column(ilocs[0], value, pi)\n"
     ]
    }
   ],
   "source": [
    "selected_control_data = find_controls(\n",
    "    \"shipment\", washington_pre, control_washington_pre, control_washington, n=2\n",
    ")\n",
    "\n",
    "selected_control_pre = selected_control_data[\n",
    "    selected_control_data[\"category_was\"] == \"pre\"\n",
    "]\n",
    "selected_control_post = selected_control_data[\n",
    "    selected_control_data[\"category_was\"] == \"post\"\n",
    "]\n",
    "pre = pd.concat([washington_pre, selected_control_pre])\n",
    "post = pd.concat([washington_post, selected_control_post])\n"
   ]
  },
  {
   "cell_type": "code",
   "execution_count": 6,
   "metadata": {},
   "outputs": [],
   "source": [
    "def get_reg_fit(data, yvar, xvar, color, alpha=0.05):\n",
    "    # Grid for predicted values\n",
    "    x = data.loc[pd.notnull(data[yvar]), xvar]\n",
    "    grid = np.asarray(data[xvar].unique())\n",
    "    predictions = pd.DataFrame({xvar: grid})\n",
    "    # Fit model, get predictions\n",
    "    model = smf.ols(f\"{yvar} ~ {xvar}\", data=data).fit()\n",
    "    model_predict = model.get_prediction(predictions[xvar])\n",
    "    predictions[yvar] = model_predict.summary_frame()[\"mean\"]\n",
    "    predictions[[\"ci_low\", \"ci_high\"]] = model_predict.conf_int(alpha=alpha)\n",
    "    predictions[xvar] = pd.to_datetime(10 ** 9 * predictions[xvar])\n",
    "    return predictions\n"
   ]
  },
  {
   "cell_type": "code",
   "execution_count": 14,
   "metadata": {},
   "outputs": [
    {
     "name": "stderr",
     "output_type": "stream",
     "text": [
      "WARN x-scale's \"zero\" is dropped as it does not work with time scale.\n"
     ]
    }
   ],
   "source": [
    "was1 = get_reg_fit(washington[washington['category_was'] == \"pre\"], 'shipment_per_resident', 'seconds', 'orange')\n",
    "was2 = get_reg_fit(washington[washington['category_was'] == \"post\"], 'shipment_per_resident', 'seconds', 'orange')\n",
    "was = pd.concat([was1, was2])\n",
    "was['category_was'] = np.where(\n",
    "    pd.to_datetime(was[\"seconds\"]) >= pd.to_datetime(\"2012-01-01\"), \"post\", \"pre\"\n",
    ")\n",
    "reg_was = (\n",
    "    alt.Chart(\n",
    "        was, title=\"Opioid Shipments per County per Month in Washington\"\n",
    "    )\n",
    "    .mark_line(color = \"orange\")\n",
    "    .encode(\n",
    "        x=alt.X(\"seconds:T\", scale=alt.Scale(zero=False), title=\"Year\"),\n",
    "        y=alt.Y(\n",
    "            \"shipment_per_resident\",\n",
    "            scale=alt.Scale(zero=False),\n",
    "            title=\"Opioid Shipment Per Resident (MME)\",\n",
    "        ),\n",
    "        detail=\"category_was\",\n",
    "    )\n",
    ")\n",
    "ci_was = (\n",
    "    alt.Chart(was)\n",
    "    .mark_errorband(color=\"orange\")\n",
    "    .encode(x=f\"seconds:T\", y=alt.Y(\"ci_low\", title=\"\"), y2=\"ci_high\", detail = \"category_was\")\n",
    ")\n",
    "data = pd.DataFrame({\"a\": [\"2012-01-01\"]})\n",
    "sep_line = alt.Chart(data).mark_rule(color=\"black\", strokeDash=[10, 10]).encode(x=\"a:T\")\n",
    "\n",
    "pre_post = ((reg_was + ci_was + sep_line)\n",
    "    .properties(height=500, width=1000)\n",
    "    .configure_axis(labelFontSize=20, titleFontSize=20)\n",
    "    .configure_title(fontSize=30)\n",
    "    .configure_legend(titleFontSize=20, labelFontSize=18)\n",
    ")\n",
    "altair_saver.save(pre_post, f\"../30_results/prepost_washington_shipment_monthly.png\")"
   ]
  },
  {
   "cell_type": "code",
   "execution_count": 8,
   "metadata": {},
   "outputs": [],
   "source": [
    "predictions = get_reg_fit(\n",
    "    pre[pre[\"type\"] == \"Washington\"], \"shipment_per_resident\", \"seconds\", \"orange\"\n",
    ")\n",
    "predictions[\"type\"] = \"Washington\"\n",
    "predictions2 = get_reg_fit(\n",
    "    pre[pre[\"type\"] == \"Control States\"], \"shipment_per_resident\", \"seconds\", \"blue\"\n",
    ")\n",
    "predictions2[\"type\"] = \"Control Counties\"\n"
   ]
  },
  {
   "cell_type": "code",
   "execution_count": 9,
   "metadata": {},
   "outputs": [],
   "source": [
    "pred_final = pd.concat([predictions, predictions2])\n",
    "reg1 = (\n",
    "    alt.Chart(\n",
    "        pred_final, title=\"Opioid Shipments per County per Month, Washington vs. Controls\"\n",
    "    )\n",
    "    .mark_line()\n",
    "    .encode(\n",
    "        x=alt.X(\"seconds:T\", scale=alt.Scale(zero=False), title=\"Year\"),\n",
    "        y=alt.Y(\n",
    "            \"shipment_per_resident\",\n",
    "            scale=alt.Scale(zero=False),\n",
    "            title=\"Opioid Shipment Per Resident (MME)\",\n",
    "        ),\n",
    "        color=\"type\",\n",
    "    )\n",
    ")\n",
    "alt.X(\"year:O\", scale=alt.Scale(zero=False), title=\"Year\")\n",
    "ci1was = (\n",
    "    alt.Chart(pred_final[pred_final[\"type\"] == \"Washington\"])\n",
    "    .mark_errorband(color=\"orange\")\n",
    "    .encode(x=f\"seconds:T\", y=alt.Y(\"ci_low\", title=\"\"), y2=\"ci_high\")\n",
    ")\n",
    "ci1cont = (\n",
    "    alt.Chart(pred_final[pred_final[\"type\"] == \"Control Counties\"])\n",
    "    .mark_errorband(color=\"blue\")\n",
    "    .encode(x=f\"seconds:T\", y=alt.Y(\"ci_low\", title=\"\"), y2=\"ci_high\")\n",
    ")\n",
    "chart = ci1was + ci1cont + reg1\n"
   ]
  },
  {
   "cell_type": "code",
   "execution_count": 10,
   "metadata": {},
   "outputs": [],
   "source": [
    "ppredictions = get_reg_fit(\n",
    "    post[post[\"type\"] == \"Washington\"], \"shipment_per_resident\", \"seconds\", \"orange\"\n",
    ")\n",
    "ppredictions[\"type\"] = \"Washington\"\n",
    "ppredictions2 = get_reg_fit(\n",
    "    post[post[\"type\"] == \"Control States\"], \"shipment_per_resident\", \"seconds\", \"blue\"\n",
    ")\n",
    "ppredictions2[\"type\"] = \"Control Counties\"\n",
    "ppred_final = pd.concat([ppredictions, ppredictions2])\n"
   ]
  },
  {
   "cell_type": "code",
   "execution_count": 11,
   "metadata": {},
   "outputs": [],
   "source": [
    "reg2 = (\n",
    "    alt.Chart(ppred_final)\n",
    "    .mark_line()\n",
    "    .encode(x=\"seconds:T\", y=\"shipment_per_resident\", color=\"type\")\n",
    ")\n",
    "ci2was = (\n",
    "    alt.Chart(ppred_final[ppred_final[\"type\"] == \"Washington\"])\n",
    "    .mark_errorband(color=\"orange\")\n",
    "    .encode(\n",
    "        x=f\"seconds:T\",\n",
    "        y=alt.Y(\"ci_low\", title=\"\"),\n",
    "        y2=\"ci_high\",\n",
    "    )\n",
    ")\n",
    "ci2cont = (\n",
    "    alt.Chart(ppred_final[ppred_final[\"type\"] == \"Control Counties\"])\n",
    "    .mark_errorband(color=\"blue\")\n",
    "    .encode(\n",
    "        x=f\"seconds:T\",\n",
    "        y=alt.Y(\"ci_low\", title=\"\"),\n",
    "        y2=\"ci_high\",\n",
    "    )\n",
    ")\n",
    "data = pd.DataFrame({\"a\": [\"2012-01-01\"]})\n",
    "sep_line = alt.Chart(data).mark_rule(color=\"black\", strokeDash=[10, 10]).encode(x=\"a:T\")\n",
    "chart2 = ci2was + reg2 + ci2cont + sep_line\n"
   ]
  },
  {
   "cell_type": "code",
   "execution_count": 12,
   "metadata": {},
   "outputs": [
    {
     "name": "stderr",
     "output_type": "stream",
     "text": [
      "WARN x-scale's \"zero\" is dropped as it does not work with time scale.\n"
     ]
    }
   ],
   "source": [
    "final_chart = (\n",
    "    (chart + chart2)\n",
    "    .properties(height=500, width=1000)\n",
    "    .configure_axis(labelFontSize=20, titleFontSize=20)\n",
    "    .configure_title(fontSize=30)\n",
    "    .configure_legend(titleFontSize=20, labelFontSize=18)\n",
    ")\n",
    "\n",
    "altair_saver.save(final_chart, f\"../30_results/washington_shipment_monthly.png\")\n"
   ]
  },
  {
   "cell_type": "code",
   "execution_count": 13,
   "metadata": {},
   "outputs": [
    {
     "data": {
      "text/html": [
       "\n",
       "<div id=\"altair-viz-06507b692d51439ab5ad88242c6bb3b3\"></div>\n",
       "<script type=\"text/javascript\">\n",
       "  (function(spec, embedOpt){\n",
       "    let outputDiv = document.currentScript.previousElementSibling;\n",
       "    if (outputDiv.id !== \"altair-viz-06507b692d51439ab5ad88242c6bb3b3\") {\n",
       "      outputDiv = document.getElementById(\"altair-viz-06507b692d51439ab5ad88242c6bb3b3\");\n",
       "    }\n",
       "    const paths = {\n",
       "      \"vega\": \"https://cdn.jsdelivr.net/npm//vega@5?noext\",\n",
       "      \"vega-lib\": \"https://cdn.jsdelivr.net/npm//vega-lib?noext\",\n",
       "      \"vega-lite\": \"https://cdn.jsdelivr.net/npm//vega-lite@4.8.1?noext\",\n",
       "      \"vega-embed\": \"https://cdn.jsdelivr.net/npm//vega-embed@6?noext\",\n",
       "    };\n",
       "\n",
       "    function loadScript(lib) {\n",
       "      return new Promise(function(resolve, reject) {\n",
       "        var s = document.createElement('script');\n",
       "        s.src = paths[lib];\n",
       "        s.async = true;\n",
       "        s.onload = () => resolve(paths[lib]);\n",
       "        s.onerror = () => reject(`Error loading script: ${paths[lib]}`);\n",
       "        document.getElementsByTagName(\"head\")[0].appendChild(s);\n",
       "      });\n",
       "    }\n",
       "\n",
       "    function showError(err) {\n",
       "      outputDiv.innerHTML = `<div class=\"error\" style=\"color:red;\">${err}</div>`;\n",
       "      throw err;\n",
       "    }\n",
       "\n",
       "    function displayChart(vegaEmbed) {\n",
       "      vegaEmbed(outputDiv, spec, embedOpt)\n",
       "        .catch(err => showError(`Javascript Error: ${err.message}<br>This usually means there's a typo in your chart specification. See the javascript console for the full traceback.`));\n",
       "    }\n",
       "\n",
       "    if(typeof define === \"function\" && define.amd) {\n",
       "      requirejs.config({paths});\n",
       "      require([\"vega-embed\"], displayChart, err => showError(`Error loading script: ${err.message}`));\n",
       "    } else if (typeof vegaEmbed === \"function\") {\n",
       "      displayChart(vegaEmbed);\n",
       "    } else {\n",
       "      loadScript(\"vega\")\n",
       "        .then(() => loadScript(\"vega-lite\"))\n",
       "        .then(() => loadScript(\"vega-embed\"))\n",
       "        .catch(showError)\n",
       "        .then(() => displayChart(vegaEmbed));\n",
       "    }\n",
       "  })({\"config\": {\"view\": {\"continuousWidth\": 400, \"continuousHeight\": 300}, \"axis\": {\"labelFontSize\": 20, \"titleFontSize\": 20}, \"legend\": {\"labelFontSize\": 18, \"titleFontSize\": 20}, \"title\": {\"fontSize\": 30}}, \"layer\": [{\"data\": {\"name\": \"data-9233e4d8ed81c9a080b4b0257b74f171\"}, \"mark\": {\"type\": \"errorband\", \"color\": \"orange\"}, \"encoding\": {\"x\": {\"type\": \"temporal\", \"field\": \"seconds\"}, \"y\": {\"type\": \"quantitative\", \"field\": \"ci_low\", \"title\": \"\"}, \"y2\": {\"field\": \"ci_high\"}}}, {\"data\": {\"name\": \"data-e9eccef8abe5d5792eb5d47436f5039d\"}, \"mark\": {\"type\": \"errorband\", \"color\": \"blue\"}, \"encoding\": {\"x\": {\"type\": \"temporal\", \"field\": \"seconds\"}, \"y\": {\"type\": \"quantitative\", \"field\": \"ci_low\", \"title\": \"\"}, \"y2\": {\"field\": \"ci_high\"}}}, {\"data\": {\"name\": \"data-a80096d0f64d9a36461a47a7b0a1d24e\"}, \"mark\": \"line\", \"encoding\": {\"color\": {\"type\": \"nominal\", \"field\": \"type\"}, \"x\": {\"type\": \"temporal\", \"field\": \"seconds\", \"scale\": {\"zero\": false}, \"title\": \"Year\"}, \"y\": {\"type\": \"quantitative\", \"field\": \"shipment_per_resident\", \"scale\": {\"zero\": false}, \"title\": \"Opioid Shipment Per Resident (MME)\"}}, \"title\": \"Opioid Shipments per County per Month, Washington vs. Controls\"}, {\"layer\": [{\"data\": {\"name\": \"data-108fd6736a7c6c787c07c5e0ab1495fb\"}, \"mark\": {\"type\": \"errorband\", \"color\": \"orange\"}, \"encoding\": {\"x\": {\"type\": \"temporal\", \"field\": \"seconds\"}, \"y\": {\"type\": \"quantitative\", \"field\": \"ci_low\", \"title\": \"\"}, \"y2\": {\"field\": \"ci_high\"}}}, {\"data\": {\"name\": \"data-2d059b82de2967967bee83d48ed0c6f4\"}, \"mark\": \"line\", \"encoding\": {\"color\": {\"type\": \"nominal\", \"field\": \"type\"}, \"x\": {\"type\": \"temporal\", \"field\": \"seconds\"}, \"y\": {\"type\": \"quantitative\", \"field\": \"shipment_per_resident\"}}}, {\"data\": {\"name\": \"data-8e2c4808ebc48074f21a3ad20c22f636\"}, \"mark\": {\"type\": \"errorband\", \"color\": \"blue\"}, \"encoding\": {\"x\": {\"type\": \"temporal\", \"field\": \"seconds\"}, \"y\": {\"type\": \"quantitative\", \"field\": \"ci_low\", \"title\": \"\"}, \"y2\": {\"field\": \"ci_high\"}}}, {\"data\": {\"name\": \"data-082b9019dee60fad15036d480c67dec1\"}, \"mark\": {\"type\": \"rule\", \"color\": \"black\", \"strokeDash\": [10, 10]}, \"encoding\": {\"x\": {\"type\": \"temporal\", \"field\": \"a\"}}}]}], \"height\": 500, \"width\": 1000, \"$schema\": \"https://vega.github.io/schema/vega-lite/v4.8.1.json\", \"datasets\": {\"data-9233e4d8ed81c9a080b4b0257b74f171\": [{\"seconds\": \"2006-01-01T00:00:00\", \"shipment_per_resident\": 33.16299312581981, \"ci_low\": 31.941432535108063, \"ci_high\": 34.384553716531556, \"type\": \"Washington\"}, {\"seconds\": \"2007-01-01T00:00:00\", \"shipment_per_resident\": 34.98499667707213, \"ci_low\": 34.05330518086941, \"ci_high\": 35.916688173274856, \"type\": \"Washington\"}, {\"seconds\": \"2008-01-01T00:00:00\", \"shipment_per_resident\": 36.807000228324455, \"ci_low\": 36.101431561814344, \"ci_high\": 37.512568894834565, \"type\": \"Washington\"}, {\"seconds\": \"2009-01-01T00:00:00\", \"shipment_per_resident\": 38.633995570128164, \"ci_low\": 38.01627815355576, \"ci_high\": 39.25171298670057, \"type\": \"Washington\"}, {\"seconds\": \"2010-01-01T00:00:00\", \"shipment_per_resident\": 40.455999121380486, \"ci_low\": 39.73493928094172, \"ci_high\": 41.177058961819256, \"type\": \"Washington\"}, {\"seconds\": \"2011-01-01T00:00:00\", \"shipment_per_resident\": 42.27800267263281, \"ci_low\": 41.32290104872142, \"ci_high\": 43.2331042965442, \"type\": \"Washington\"}, {\"seconds\": \"2006-02-01T00:00:00\", \"shipment_per_resident\": 33.31773863291248, \"ci_low\": 32.12219211531389, \"ci_high\": 34.513285150511074, \"type\": \"Washington\"}, {\"seconds\": \"2007-02-01T00:00:00\", \"shipment_per_resident\": 35.1397421841648, \"ci_low\": 34.23049101251186, \"ci_high\": 36.04899335581774, \"type\": \"Washington\"}, {\"seconds\": \"2008-02-01T00:00:00\", \"shipment_per_resident\": 36.961745735417125, \"ci_low\": 36.27031009682864, \"ci_high\": 37.65318137400561, \"type\": \"Washington\"}, {\"seconds\": \"2009-02-01T00:00:00\", \"shipment_per_resident\": 38.78874107722082, \"ci_low\": 38.16950166884607, \"ci_high\": 39.40798048559557, \"type\": \"Washington\"}, {\"seconds\": \"2010-02-01T00:00:00\", \"shipment_per_resident\": 40.61074462847314, \"ci_low\": 39.87360327043205, \"ci_high\": 41.347885986514235, \"type\": \"Washington\"}, {\"seconds\": \"2011-02-01T00:00:00\", \"shipment_per_resident\": 42.432748179725465, \"ci_low\": 41.45436346483416, \"ci_high\": 43.41113289461677, \"type\": \"Washington\"}, {\"seconds\": \"2006-03-01T00:00:00\", \"shipment_per_resident\": 33.457508768351005, \"ci_low\": 32.28528346860982, \"ci_high\": 34.62973406809219, \"type\": \"Washington\"}, {\"seconds\": \"2007-03-01T00:00:00\", \"shipment_per_resident\": 35.27951231960334, \"ci_low\": 34.39013127175751, \"ci_high\": 36.16889336744917, \"type\": \"Washington\"}, {\"seconds\": \"2008-03-01T00:00:00\", \"shipment_per_resident\": 37.106507661407036, \"ci_low\": 36.427337989657644, \"ci_high\": 37.78567733315643, \"type\": \"Washington\"}, {\"seconds\": \"2009-03-01T00:00:00\", \"shipment_per_resident\": 38.92851121265936, \"ci_low\": 38.306633149345835, \"ci_high\": 39.55038927597288, \"type\": \"Washington\"}, {\"seconds\": \"2010-03-01T00:00:00\", \"shipment_per_resident\": 40.75051476391168, \"ci_low\": 39.99809696774725, \"ci_high\": 41.50293256007611, \"type\": \"Washington\"}, {\"seconds\": \"2011-03-01T00:00:00\", \"shipment_per_resident\": 42.572518315164004, \"ci_low\": 41.572782306966275, \"ci_high\": 43.57225432336173, \"type\": \"Washington\"}, {\"seconds\": \"2006-04-01T00:00:00\", \"shipment_per_resident\": 33.612254275443675, \"ci_low\": 32.465642049068514, \"ci_high\": 34.75886650181884, \"type\": \"Washington\"}, {\"seconds\": \"2007-04-01T00:00:00\", \"shipment_per_resident\": 35.434257826696, \"ci_low\": 34.56640211133733, \"ci_high\": 36.30211354205466, \"type\": \"Washington\"}, {\"seconds\": \"2008-04-01T00:00:00\", \"shipment_per_resident\": 37.26125316849969, \"ci_low\": 36.59411534433173, \"ci_high\": 37.92839099266765, \"type\": \"Washington\"}, {\"seconds\": \"2009-04-01T00:00:00\", \"shipment_per_resident\": 39.08325671975203, \"ci_low\": 38.45707686608723, \"ci_high\": 39.70943657341683, \"type\": \"Washington\"}, {\"seconds\": \"2010-04-01T00:00:00\", \"shipment_per_resident\": 40.90526027100435, \"ci_low\": 40.13515062064044, \"ci_high\": 41.675369921368265, \"type\": \"Washington\"}, {\"seconds\": \"2011-04-01T00:00:00\", \"shipment_per_resident\": 42.727263822256674, \"ci_low\": 41.70355689653062, \"ci_high\": 43.75097074798273, \"type\": \"Washington\"}, {\"seconds\": \"2006-05-01T00:00:00\", \"shipment_per_resident\": 33.76200799198496, \"ci_low\": 32.63996208979947, \"ci_high\": 34.88405389417045, \"type\": \"Washington\"}, {\"seconds\": \"2007-05-01T00:00:00\", \"shipment_per_resident\": 35.58401154323728, \"ci_low\": 34.736478253321145, \"ci_high\": 36.43154483315342, \"type\": \"Washington\"}, {\"seconds\": \"2008-05-01T00:00:00\", \"shipment_per_resident\": 37.41100688504099, \"ci_low\": 36.754393665574064, \"ci_high\": 38.06762010450792, \"type\": \"Washington\"}, {\"seconds\": \"2009-05-01T00:00:00\", \"shipment_per_resident\": 39.23301043629331, \"ci_low\": 38.60131353225161, \"ci_high\": 39.864707340335016, \"type\": \"Washington\"}, {\"seconds\": \"2010-05-01T00:00:00\", \"shipment_per_resident\": 41.055013987545635, \"ci_low\": 40.26705436363022, \"ci_high\": 41.84297361146105, \"type\": \"Washington\"}, {\"seconds\": \"2011-05-01T00:00:00\", \"shipment_per_resident\": 42.87701753879796, \"ci_low\": 41.82980261767913, \"ci_high\": 43.92423245991679, \"type\": \"Washington\"}, {\"seconds\": \"2006-06-01T00:00:00\", \"shipment_per_resident\": 33.91675349907763, \"ci_low\": 32.81984927623166, \"ci_high\": 35.0136577219236, \"type\": \"Washington\"}, {\"seconds\": \"2007-06-01T00:00:00\", \"shipment_per_resident\": 35.73875705032995, \"ci_low\": 34.91165851019353, \"ci_high\": 36.56585559046637, \"type\": \"Washington\"}, {\"seconds\": \"2008-06-01T00:00:00\", \"shipment_per_resident\": 37.565752392133646, \"ci_low\": 36.91880048004401, \"ci_high\": 38.21270430422328, \"type\": \"Washington\"}, {\"seconds\": \"2009-06-01T00:00:00\", \"shipment_per_resident\": 39.38775594338597, \"ci_low\": 38.74899598436596, \"ci_high\": 40.026515902405976, \"type\": \"Washington\"}, {\"seconds\": \"2010-06-01T00:00:00\", \"shipment_per_resident\": 41.20975949463829, \"ci_low\": 40.40265285627755, \"ci_high\": 42.016866132999034, \"type\": \"Washington\"}, {\"seconds\": \"2011-06-01T00:00:00\", \"shipment_per_resident\": 43.031763045890614, \"ci_low\": 41.959957420848184, \"ci_high\": 44.10356867093304, \"type\": \"Washington\"}, {\"seconds\": \"2006-07-01T00:00:00\", \"shipment_per_resident\": 34.06650721561891, \"ci_low\": 32.99368177106285, \"ci_high\": 35.13933266017497, \"type\": \"Washington\"}, {\"seconds\": \"2007-07-01T00:00:00\", \"shipment_per_resident\": 35.888510766871235, \"ci_low\": 35.08060032543454, \"ci_high\": 36.69642120830793, \"type\": \"Washington\"}, {\"seconds\": \"2008-07-01T00:00:00\", \"shipment_per_resident\": 37.71550610867493, \"ci_low\": 37.07667673274515, \"ci_high\": 38.35433548460471, \"type\": \"Washington\"}, {\"seconds\": \"2009-07-01T00:00:00\", \"shipment_per_resident\": 39.53750965992725, \"ci_low\": 38.890638570653074, \"ci_high\": 40.18438074920143, \"type\": \"Washington\"}, {\"seconds\": \"2010-07-01T00:00:00\", \"shipment_per_resident\": 41.35951321117959, \"ci_low\": 40.533244022310384, \"ci_high\": 42.185782400048794, \"type\": \"Washington\"}, {\"seconds\": \"2011-07-01T00:00:00\", \"shipment_per_resident\": 43.18151676243191, \"ci_low\": 42.08564328864114, \"ci_high\": 44.277390236222686, \"type\": \"Washington\"}, {\"seconds\": \"2006-08-01T00:00:00\", \"shipment_per_resident\": 34.22125272271157, \"ci_low\": 33.17303007215527, \"ci_high\": 35.269475373267866, \"type\": \"Washington\"}, {\"seconds\": \"2007-08-01T00:00:00\", \"shipment_per_resident\": 36.043256273963905, \"ci_low\": 35.25452119668608, \"ci_high\": 36.83199135124173, \"type\": \"Washington\"}, {\"seconds\": \"2008-08-01T00:00:00\", \"shipment_per_resident\": 37.8702516157676, \"ci_low\": 37.23849750909719, \"ci_high\": 38.50200572243801, \"type\": \"Washington\"}, {\"seconds\": \"2009-08-01T00:00:00\", \"shipment_per_resident\": 39.69225516701992, \"ci_low\": 39.03573408131399, \"ci_high\": 40.348776252725855, \"type\": \"Washington\"}, {\"seconds\": \"2010-08-01T00:00:00\", \"shipment_per_resident\": 41.514258718272245, \"ci_low\": 40.667579350148785, \"ci_high\": 42.360938086395706, \"type\": \"Washington\"}, {\"seconds\": \"2011-08-01T00:00:00\", \"shipment_per_resident\": 43.33626226952457, \"ci_low\": 42.21525767516142, \"ci_high\": 44.45726686388772, \"type\": \"Washington\"}, {\"seconds\": \"2006-09-01T00:00:00\", \"shipment_per_resident\": 34.37599822980424, \"ci_low\": 33.35207500425117, \"ci_high\": 35.39992145535731, \"type\": \"Washington\"}, {\"seconds\": \"2007-09-01T00:00:00\", \"shipment_per_resident\": 36.19800178105656, \"ci_low\": 35.42773006347252, \"ci_high\": 36.968273498640606, \"type\": \"Washington\"}, {\"seconds\": \"2008-09-01T00:00:00\", \"shipment_per_resident\": 38.024997122860256, \"ci_low\": 37.39893379772904, \"ci_high\": 38.65106044799147, \"type\": \"Washington\"}, {\"seconds\": \"2009-09-01T00:00:00\", \"shipment_per_resident\": 39.84700067411258, \"ci_low\": 39.179595683234055, \"ci_high\": 40.5144056649911, \"type\": \"Washington\"}, {\"seconds\": \"2010-09-01T00:00:00\", \"shipment_per_resident\": 41.669004225364915, \"ci_low\": 40.80133903165673, \"ci_high\": 42.5366694190731, \"type\": \"Washington\"}, {\"seconds\": \"2011-09-01T00:00:00\", \"shipment_per_resident\": 43.49100777661724, \"ci_low\": 42.34462403343013, \"ci_high\": 44.637391519804346, \"type\": \"Washington\"}, {\"seconds\": \"2006-10-01T00:00:00\", \"shipment_per_resident\": 34.52575194634552, \"ci_low\": 33.52503462821873, \"ci_high\": 35.52646926447232, \"type\": \"Washington\"}, {\"seconds\": \"2007-10-01T00:00:00\", \"shipment_per_resident\": 36.347755497597845, \"ci_low\": 35.59462428474127, \"ci_high\": 37.10088671045442, \"type\": \"Washington\"}, {\"seconds\": \"2008-10-01T00:00:00\", \"shipment_per_resident\": 38.174750839401554, \"ci_low\": 37.552840636356905, \"ci_high\": 38.7966610424462, \"type\": \"Washington\"}, {\"seconds\": \"2009-10-01T00:00:00\", \"shipment_per_resident\": 39.99675439065388, \"ci_low\": 39.31769757320534, \"ci_high\": 40.67581120810241, \"type\": \"Washington\"}, {\"seconds\": \"2010-10-01T00:00:00\", \"shipment_per_resident\": 41.8187579419062, \"ci_low\": 40.930274203313544, \"ci_high\": 42.70724168049885, \"type\": \"Washington\"}, {\"seconds\": \"2011-10-01T00:00:00\", \"shipment_per_resident\": 43.64076149315852, \"ci_low\": 42.46959631355674, \"ci_high\": 44.8119266727603, \"type\": \"Washington\"}, {\"seconds\": \"2006-11-01T00:00:00\", \"shipment_per_resident\": 34.68049745343819, \"ci_low\": 33.703416279403534, \"ci_high\": 35.65757862747285, \"type\": \"Washington\"}, {\"seconds\": \"2007-11-01T00:00:00\", \"shipment_per_resident\": 36.502501004690515, \"ci_low\": 35.76627648477384, \"ci_high\": 37.23872552460719, \"type\": \"Washington\"}, {\"seconds\": \"2008-11-01T00:00:00\", \"shipment_per_resident\": 38.32949634649421, \"ci_low\": 37.71044969268145, \"ci_high\": 38.94854300030697, \"type\": \"Washington\"}, {\"seconds\": \"2009-11-01T00:00:00\", \"shipment_per_resident\": 40.15149989774653, \"ci_low\": 39.4593062323878, \"ci_high\": 40.84369356310526, \"type\": \"Washington\"}, {\"seconds\": \"2010-11-01T00:00:00\", \"shipment_per_resident\": 41.973503448998855, \"ci_low\": 41.063017472788005, \"ci_high\": 42.883989425209705, \"type\": \"Washington\"}, {\"seconds\": \"2011-11-01T00:00:00\", \"shipment_per_resident\": 43.79550700025118, \"ci_low\": 42.59852049776321, \"ci_high\": 44.992493502739144, \"type\": \"Washington\"}, {\"seconds\": \"2006-12-01T00:00:00\", \"shipment_per_resident\": 34.830251169979476, \"ci_low\": 33.87568731612995, \"ci_high\": 35.784815023829005, \"type\": \"Washington\"}, {\"seconds\": \"2007-12-01T00:00:00\", \"shipment_per_resident\": 36.6522547212318, \"ci_low\": 35.93155866876117, \"ci_high\": 37.37295077370243, \"type\": \"Washington\"}, {\"seconds\": \"2008-12-01T00:00:00\", \"shipment_per_resident\": 38.479250063035494, \"ci_low\": 37.86157383342583, \"ci_high\": 39.09692629264516, \"type\": \"Washington\"}, {\"seconds\": \"2009-12-01T00:00:00\", \"shipment_per_resident\": 40.301253614287816, \"ci_low\": 39.59534359078068, \"ci_high\": 41.00716363779495, \"type\": \"Washington\"}, {\"seconds\": \"2010-12-01T00:00:00\", \"shipment_per_resident\": 42.12325716554014, \"ci_low\": 41.19103759392689, \"ci_high\": 43.055476737153384, \"type\": \"Washington\"}, {\"seconds\": \"2011-12-01T00:00:00\", \"shipment_per_resident\": 43.945260716792475, \"ci_low\": 42.723091730989935, \"ci_high\": 45.167429702595015, \"type\": \"Washington\"}], \"data-e9eccef8abe5d5792eb5d47436f5039d\": [{\"seconds\": \"2006-01-01T00:00:00\", \"shipment_per_resident\": 19.580492239131807, \"ci_low\": 18.721706343689704, \"ci_high\": 20.43927813457391, \"type\": \"Control Counties\"}, {\"seconds\": \"2007-01-01T00:00:00\", \"shipment_per_resident\": 21.402045884296548, \"ci_low\": 20.74704479640457, \"ci_high\": 22.057046972188527, \"type\": \"Control Counties\"}, {\"seconds\": \"2008-01-01T00:00:00\", \"shipment_per_resident\": 23.22359952946129, \"ci_low\": 22.727568122037194, \"ci_high\": 23.719630936885384, \"type\": \"Control Counties\"}, {\"seconds\": \"2009-01-01T00:00:00\", \"shipment_per_resident\": 25.05014373255799, \"ci_low\": 24.61587382506864, \"ci_high\": 25.484413640047343, \"type\": \"Control Counties\"}, {\"seconds\": \"2010-01-01T00:00:00\", \"shipment_per_resident\": 26.871697377722732, \"ci_low\": 26.364775309798496, \"ci_high\": 27.37861944564697, \"type\": \"Control Counties\"}, {\"seconds\": \"2011-01-01T00:00:00\", \"shipment_per_resident\": 28.693251022887473, \"ci_low\": 28.021792063286494, \"ci_high\": 29.364709982488453, \"type\": \"Control Counties\"}, {\"seconds\": \"2006-02-01T00:00:00\", \"shipment_per_resident\": 19.73519953502251, \"ci_low\": 18.89470214630078, \"ci_high\": 20.57569692374424, \"type\": \"Control Counties\"}, {\"seconds\": \"2007-02-01T00:00:00\", \"shipment_per_resident\": 21.55675318018725, \"ci_low\": 20.91752816951899, \"ci_high\": 22.19597819085551, \"type\": \"Control Counties\"}, {\"seconds\": \"2008-02-01T00:00:00\", \"shipment_per_resident\": 23.37830682535199, \"ci_low\": 22.892211269764708, \"ci_high\": 23.864402380939275, \"type\": \"Control Counties\"}, {\"seconds\": \"2009-02-01T00:00:00\", \"shipment_per_resident\": 25.204851028448694, \"ci_low\": 24.769511124838978, \"ci_high\": 25.64019093205841, \"type\": \"Control Counties\"}, {\"seconds\": \"2010-02-01T00:00:00\", \"shipment_per_resident\": 27.026404673613435, \"ci_low\": 26.50817691966822, \"ci_high\": 27.54463242755865, \"type\": \"Control Counties\"}, {\"seconds\": \"2011-02-01T00:00:00\", \"shipment_per_resident\": 28.847958318778176, \"ci_low\": 28.160130797283593, \"ci_high\": 29.53578584027276, \"type\": \"Control Counties\"}, {\"seconds\": \"2006-03-01T00:00:00\", \"shipment_per_resident\": 19.874935157117342, \"ci_low\": 19.050833134383005, \"ci_high\": 20.69903717985168, \"type\": \"Control Counties\"}, {\"seconds\": \"2007-03-01T00:00:00\", \"shipment_per_resident\": 21.696488802282083, \"ci_low\": 21.071232957118983, \"ci_high\": 22.321744647445183, \"type\": \"Control Counties\"}, {\"seconds\": \"2008-03-01T00:00:00\", \"shipment_per_resident\": 23.523033005378785, \"ci_low\": 23.045560713668422, \"ci_high\": 24.00050529708915, \"type\": \"Control Counties\"}, {\"seconds\": \"2009-03-01T00:00:00\", \"shipment_per_resident\": 25.344586650543526, \"ci_low\": 24.907391710301482, \"ci_high\": 25.78178159078557, \"type\": \"Control Counties\"}, {\"seconds\": \"2010-03-01T00:00:00\", \"shipment_per_resident\": 27.166140295708267, \"ci_low\": 26.637172845596805, \"ci_high\": 27.69510774581973, \"type\": \"Control Counties\"}, {\"seconds\": \"2011-03-01T00:00:00\", \"shipment_per_resident\": 28.987693940873008, \"ci_low\": 28.2848559567944, \"ci_high\": 29.690531924951618, \"type\": \"Control Counties\"}, {\"seconds\": \"2006-04-01T00:00:00\", \"shipment_per_resident\": 20.029642453008044, \"ci_low\": 19.223547024717664, \"ci_high\": 20.835737881298424, \"type\": \"Control Counties\"}, {\"seconds\": \"2007-04-01T00:00:00\", \"shipment_per_resident\": 21.851196098172785, \"ci_low\": 21.241073069241025, \"ci_high\": 22.461319127104545, \"type\": \"Control Counties\"}, {\"seconds\": \"2008-04-01T00:00:00\", \"shipment_per_resident\": 23.677740301269488, \"ci_low\": 23.2087266820782, \"ci_high\": 24.146753920460775, \"type\": \"Control Counties\"}, {\"seconds\": \"2009-04-01T00:00:00\", \"shipment_per_resident\": 25.49929394643423, \"ci_low\": 25.059074746153925, \"ci_high\": 25.939513146714532, \"type\": \"Control Counties\"}, {\"seconds\": \"2010-04-01T00:00:00\", \"shipment_per_resident\": 27.32084759159897, \"ci_low\": 26.77944235087255, \"ci_high\": 27.86225283232539, \"type\": \"Control Counties\"}, {\"seconds\": \"2011-04-01T00:00:00\", \"shipment_per_resident\": 29.14240123676371, \"ci_low\": 28.422711132511388, \"ci_high\": 29.862091341016033, \"type\": \"Control Counties\"}, {\"seconds\": \"2006-05-01T00:00:00\", \"shipment_per_resident\": 20.179359190966785, \"ci_low\": 19.390534467770664, \"ci_high\": 20.968183914162907, \"type\": \"Control Counties\"}, {\"seconds\": \"2007-05-01T00:00:00\", \"shipment_per_resident\": 22.000912836131526, \"ci_low\": 21.40507695141834, \"ci_high\": 22.59674872084471, \"type\": \"Control Counties\"}, {\"seconds\": \"2008-05-01T00:00:00\", \"shipment_per_resident\": 23.82745703922823, \"ci_low\": 23.365842465275563, \"ci_high\": 24.289071613180894, \"type\": \"Control Counties\"}, {\"seconds\": \"2009-05-01T00:00:00\", \"shipment_per_resident\": 25.64901068439297, \"ci_low\": 25.204912867624746, \"ci_high\": 26.093108501161193, \"type\": \"Control Counties\"}, {\"seconds\": \"2010-05-01T00:00:00\", \"shipment_per_resident\": 27.47056432955771, \"ci_low\": 26.91661013658396, \"ci_high\": 28.024518522531462, \"type\": \"Control Counties\"}, {\"seconds\": \"2011-05-01T00:00:00\", \"shipment_per_resident\": 29.29211797472245, \"ci_low\": 28.555901195471833, \"ci_high\": 30.02833475397307, \"type\": \"Control Counties\"}, {\"seconds\": \"2006-06-01T00:00:00\", \"shipment_per_resident\": 20.334066486857488, \"ci_low\": 19.56291695699086, \"ci_high\": 21.105216016724114, \"type\": \"Control Counties\"}, {\"seconds\": \"2007-06-01T00:00:00\", \"shipment_per_resident\": 22.15562013202223, \"ci_low\": 21.574150358184898, \"ci_high\": 22.73708990585956, \"type\": \"Control Counties\"}, {\"seconds\": \"2008-06-01T00:00:00\", \"shipment_per_resident\": 23.98216433511893, \"ci_low\": 23.52734188803269, \"ci_high\": 24.43698678220517, \"type\": \"Control Counties\"}, {\"seconds\": \"2009-06-01T00:00:00\", \"shipment_per_resident\": 25.803717980283672, \"ci_low\": 25.354654669343287, \"ci_high\": 26.252781291224057, \"type\": \"Control Counties\"}, {\"seconds\": \"2010-06-01T00:00:00\", \"shipment_per_resident\": 27.625271625448413, \"ci_low\": 27.057856629899256, \"ci_high\": 28.19268662099757, \"type\": \"Control Counties\"}, {\"seconds\": \"2011-06-01T00:00:00\", \"shipment_per_resident\": 29.446825270613154, \"ci_low\": 28.69332064674051, \"ci_high\": 30.200329894485797, \"type\": \"Control Counties\"}, {\"seconds\": \"2006-07-01T00:00:00\", \"shipment_per_resident\": 20.483783224816243, \"ci_low\": 19.72956164378171, \"ci_high\": 21.238004805850775, \"type\": \"Control Counties\"}, {\"seconds\": \"2007-07-01T00:00:00\", \"shipment_per_resident\": 22.305336869980984, \"ci_low\": 21.73735678191853, \"ci_high\": 22.87331695804344, \"type\": \"Control Counties\"}, {\"seconds\": \"2008-07-01T00:00:00\", \"shipment_per_resident\": 24.131881073077686, \"ci_low\": 23.68276896041312, \"ci_high\": 24.58099318574225, \"type\": \"Control Counties\"}, {\"seconds\": \"2009-07-01T00:00:00\", \"shipment_per_resident\": 25.953434718242413, \"ci_low\": 25.498669091500958, \"ci_high\": 26.408200344983868, \"type\": \"Control Counties\"}, {\"seconds\": \"2010-07-01T00:00:00\", \"shipment_per_resident\": 27.774988363407154, \"ci_low\": 27.194101643063902, \"ci_high\": 28.355875083750405, \"type\": \"Control Counties\"}, {\"seconds\": \"2011-07-01T00:00:00\", \"shipment_per_resident\": 29.596542008571895, \"ci_low\": 28.826117119592567, \"ci_high\": 30.366966897551222, \"type\": \"Control Counties\"}, {\"seconds\": \"2006-08-01T00:00:00\", \"shipment_per_resident\": 20.638490520706945, \"ci_low\": 19.901565283902993, \"ci_high\": 21.375415757510897, \"type\": \"Control Counties\"}, {\"seconds\": \"2007-08-01T00:00:00\", \"shipment_per_resident\": 22.460044165871686, \"ci_low\": 21.905544810901656, \"ci_high\": 23.014543520841716, \"type\": \"Control Counties\"}, {\"seconds\": \"2008-08-01T00:00:00\", \"shipment_per_resident\": 24.28658836896839, \"ci_low\": 23.842450337403545, \"ci_high\": 24.730726400533232, \"type\": \"Control Counties\"}, {\"seconds\": \"2009-08-01T00:00:00\", \"shipment_per_resident\": 26.10814201413313, \"ci_low\": 25.64659221238664, \"ci_high\": 26.56969181587962, \"type\": \"Control Counties\"}, {\"seconds\": \"2010-08-01T00:00:00\", \"shipment_per_resident\": 27.92969565929787, \"ci_low\": 27.334460101737474, \"ci_high\": 28.524931216858267, \"type\": \"Control Counties\"}, {\"seconds\": \"2011-08-01T00:00:00\", \"shipment_per_resident\": 29.75124930446261, \"ci_low\": 28.96315664521603, \"ci_high\": 30.53934196370919, \"type\": \"Control Counties\"}, {\"seconds\": \"2006-09-01T00:00:00\", \"shipment_per_resident\": 20.793197816597647, \"ci_low\": 20.073355648467324, \"ci_high\": 21.51303998472797, \"type\": \"Control Counties\"}, {\"seconds\": \"2007-09-01T00:00:00\", \"shipment_per_resident\": 22.61475146176239, \"ci_low\": 22.073232283959236, \"ci_high\": 23.15627063956554, \"type\": \"Control Counties\"}, {\"seconds\": \"2008-09-01T00:00:00\", \"shipment_per_resident\": 24.44129566485909, \"ci_low\": 24.00115838688524, \"ci_high\": 24.88143294283294, \"type\": \"Control Counties\"}, {\"seconds\": \"2009-09-01T00:00:00\", \"shipment_per_resident\": 26.26284931002383, \"ci_low\": 25.793647866336176, \"ci_high\": 26.732050753711487, \"type\": \"Control Counties\"}, {\"seconds\": \"2010-09-01T00:00:00\", \"shipment_per_resident\": 28.084402955188573, \"ci_low\": 27.47441386746895, \"ci_high\": 28.694392042908195, \"type\": \"Control Counties\"}, {\"seconds\": \"2011-09-01T00:00:00\", \"shipment_per_resident\": 29.905956600353313, \"ci_low\": 29.100021801130985, \"ci_high\": 30.71189139957564, \"type\": \"Control Counties\"}, {\"seconds\": \"2006-10-01T00:00:00\", \"shipment_per_resident\": 20.94291455455639, \"ci_low\": 20.23938668646175, \"ci_high\": 21.646442422651027, \"type\": \"Control Counties\"}, {\"seconds\": \"2007-10-01T00:00:00\", \"shipment_per_resident\": 22.76446819972113, \"ci_low\": 22.234999200855196, \"ci_high\": 23.293937198587063, \"type\": \"Control Counties\"}, {\"seconds\": \"2008-10-01T00:00:00\", \"shipment_per_resident\": 24.59101240281783, \"ci_low\": 24.15379486758707, \"ci_high\": 25.028229938048593, \"type\": \"Control Counties\"}, {\"seconds\": \"2009-10-01T00:00:00\", \"shipment_per_resident\": 26.412566047982573, \"ci_low\": 25.93517309550644, \"ci_high\": 26.889959000458706, \"type\": \"Control Counties\"}, {\"seconds\": \"2010-10-01T00:00:00\", \"shipment_per_resident\": 28.234119693147314, \"ci_low\": 27.609494677544664, \"ci_high\": 28.858744708749963, \"type\": \"Control Counties\"}, {\"seconds\": \"2011-10-01T00:00:00\", \"shipment_per_resident\": 30.055673338312054, \"ci_low\": 29.232316605029688, \"ci_high\": 30.87903007159442, \"type\": \"Control Counties\"}, {\"seconds\": \"2006-11-01T00:00:00\", \"shipment_per_resident\": 21.09762185044709, \"ci_low\": 20.410710748907725, \"ci_high\": 21.784532951986456, \"type\": \"Control Counties\"}, {\"seconds\": \"2007-11-01T00:00:00\", \"shipment_per_resident\": 22.91917549561183, \"ci_low\": 22.401592300483948, \"ci_high\": 23.436758690739715, \"type\": \"Control Counties\"}, {\"seconds\": \"2008-11-01T00:00:00\", \"shipment_per_resident\": 24.745719698708534, \"ci_low\": 24.310515306100378, \"ci_high\": 25.18092409131669, \"type\": \"Control Counties\"}, {\"seconds\": \"2009-11-01T00:00:00\", \"shipment_per_resident\": 26.567273343873275, \"ci_low\": 26.080644877594835, \"ci_high\": 27.053901810151714, \"type\": \"Control Counties\"}, {\"seconds\": \"2010-11-01T00:00:00\", \"shipment_per_resident\": 28.388826989038016, \"ci_low\": 27.748733881653138, \"ci_high\": 29.028920096422894, \"type\": \"Control Counties\"}, {\"seconds\": \"2011-11-01T00:00:00\", \"shipment_per_resident\": 30.210380634202757, \"ci_low\": 29.36887090215395, \"ci_high\": 31.051890366251563, \"type\": \"Control Counties\"}, {\"seconds\": \"2006-12-01T00:00:00\", \"shipment_per_resident\": 21.247338588405846, \"ci_low\": 20.57625769383711, \"ci_high\": 21.91841948297458, \"type\": \"Control Counties\"}, {\"seconds\": \"2007-12-01T00:00:00\", \"shipment_per_resident\": 23.068892233570587, \"ci_low\": 22.56222591716481, \"ci_high\": 23.575558549976364, \"type\": \"Control Counties\"}, {\"seconds\": \"2008-12-01T00:00:00\", \"shipment_per_resident\": 24.89543643666729, \"ci_low\": 24.461195484583786, \"ci_high\": 25.329677388750792, \"type\": \"Control Counties\"}, {\"seconds\": \"2009-12-01T00:00:00\", \"shipment_per_resident\": 26.71699008183203, \"ci_low\": 26.220718692391006, \"ci_high\": 27.213261471273054, \"type\": \"Control Counties\"}, {\"seconds\": \"2010-12-01T00:00:00\", \"shipment_per_resident\": 28.538543726996757, \"ci_low\": 27.883171389641003, \"ci_high\": 29.19391606435251, \"type\": \"Control Counties\"}, {\"seconds\": \"2011-12-01T00:00:00\", \"shipment_per_resident\": 30.360097372161498, \"ci_low\": 29.500883760626714, \"ci_high\": 31.219310983696282, \"type\": \"Control Counties\"}], \"data-a80096d0f64d9a36461a47a7b0a1d24e\": [{\"seconds\": \"2006-01-01T00:00:00\", \"shipment_per_resident\": 33.16299312581981, \"ci_low\": 31.941432535108063, \"ci_high\": 34.384553716531556, \"type\": \"Washington\"}, {\"seconds\": \"2007-01-01T00:00:00\", \"shipment_per_resident\": 34.98499667707213, \"ci_low\": 34.05330518086941, \"ci_high\": 35.916688173274856, \"type\": \"Washington\"}, {\"seconds\": \"2008-01-01T00:00:00\", \"shipment_per_resident\": 36.807000228324455, \"ci_low\": 36.101431561814344, \"ci_high\": 37.512568894834565, \"type\": \"Washington\"}, {\"seconds\": \"2009-01-01T00:00:00\", \"shipment_per_resident\": 38.633995570128164, \"ci_low\": 38.01627815355576, \"ci_high\": 39.25171298670057, \"type\": \"Washington\"}, {\"seconds\": \"2010-01-01T00:00:00\", \"shipment_per_resident\": 40.455999121380486, \"ci_low\": 39.73493928094172, \"ci_high\": 41.177058961819256, \"type\": \"Washington\"}, {\"seconds\": \"2011-01-01T00:00:00\", \"shipment_per_resident\": 42.27800267263281, \"ci_low\": 41.32290104872142, \"ci_high\": 43.2331042965442, \"type\": \"Washington\"}, {\"seconds\": \"2006-02-01T00:00:00\", \"shipment_per_resident\": 33.31773863291248, \"ci_low\": 32.12219211531389, \"ci_high\": 34.513285150511074, \"type\": \"Washington\"}, {\"seconds\": \"2007-02-01T00:00:00\", \"shipment_per_resident\": 35.1397421841648, \"ci_low\": 34.23049101251186, \"ci_high\": 36.04899335581774, \"type\": \"Washington\"}, {\"seconds\": \"2008-02-01T00:00:00\", \"shipment_per_resident\": 36.961745735417125, \"ci_low\": 36.27031009682864, \"ci_high\": 37.65318137400561, \"type\": \"Washington\"}, {\"seconds\": \"2009-02-01T00:00:00\", \"shipment_per_resident\": 38.78874107722082, \"ci_low\": 38.16950166884607, \"ci_high\": 39.40798048559557, \"type\": \"Washington\"}, {\"seconds\": \"2010-02-01T00:00:00\", \"shipment_per_resident\": 40.61074462847314, \"ci_low\": 39.87360327043205, \"ci_high\": 41.347885986514235, \"type\": \"Washington\"}, {\"seconds\": \"2011-02-01T00:00:00\", \"shipment_per_resident\": 42.432748179725465, \"ci_low\": 41.45436346483416, \"ci_high\": 43.41113289461677, \"type\": \"Washington\"}, {\"seconds\": \"2006-03-01T00:00:00\", \"shipment_per_resident\": 33.457508768351005, \"ci_low\": 32.28528346860982, \"ci_high\": 34.62973406809219, \"type\": \"Washington\"}, {\"seconds\": \"2007-03-01T00:00:00\", \"shipment_per_resident\": 35.27951231960334, \"ci_low\": 34.39013127175751, \"ci_high\": 36.16889336744917, \"type\": \"Washington\"}, {\"seconds\": \"2008-03-01T00:00:00\", \"shipment_per_resident\": 37.106507661407036, \"ci_low\": 36.427337989657644, \"ci_high\": 37.78567733315643, \"type\": \"Washington\"}, {\"seconds\": \"2009-03-01T00:00:00\", \"shipment_per_resident\": 38.92851121265936, \"ci_low\": 38.306633149345835, \"ci_high\": 39.55038927597288, \"type\": \"Washington\"}, {\"seconds\": \"2010-03-01T00:00:00\", \"shipment_per_resident\": 40.75051476391168, \"ci_low\": 39.99809696774725, \"ci_high\": 41.50293256007611, \"type\": \"Washington\"}, {\"seconds\": \"2011-03-01T00:00:00\", \"shipment_per_resident\": 42.572518315164004, \"ci_low\": 41.572782306966275, \"ci_high\": 43.57225432336173, \"type\": \"Washington\"}, {\"seconds\": \"2006-04-01T00:00:00\", \"shipment_per_resident\": 33.612254275443675, \"ci_low\": 32.465642049068514, \"ci_high\": 34.75886650181884, \"type\": \"Washington\"}, {\"seconds\": \"2007-04-01T00:00:00\", \"shipment_per_resident\": 35.434257826696, \"ci_low\": 34.56640211133733, \"ci_high\": 36.30211354205466, \"type\": \"Washington\"}, {\"seconds\": \"2008-04-01T00:00:00\", \"shipment_per_resident\": 37.26125316849969, \"ci_low\": 36.59411534433173, \"ci_high\": 37.92839099266765, \"type\": \"Washington\"}, {\"seconds\": \"2009-04-01T00:00:00\", \"shipment_per_resident\": 39.08325671975203, \"ci_low\": 38.45707686608723, \"ci_high\": 39.70943657341683, \"type\": \"Washington\"}, {\"seconds\": \"2010-04-01T00:00:00\", \"shipment_per_resident\": 40.90526027100435, \"ci_low\": 40.13515062064044, \"ci_high\": 41.675369921368265, \"type\": \"Washington\"}, {\"seconds\": \"2011-04-01T00:00:00\", \"shipment_per_resident\": 42.727263822256674, \"ci_low\": 41.70355689653062, \"ci_high\": 43.75097074798273, \"type\": \"Washington\"}, {\"seconds\": \"2006-05-01T00:00:00\", \"shipment_per_resident\": 33.76200799198496, \"ci_low\": 32.63996208979947, \"ci_high\": 34.88405389417045, \"type\": \"Washington\"}, {\"seconds\": \"2007-05-01T00:00:00\", \"shipment_per_resident\": 35.58401154323728, \"ci_low\": 34.736478253321145, \"ci_high\": 36.43154483315342, \"type\": \"Washington\"}, {\"seconds\": \"2008-05-01T00:00:00\", \"shipment_per_resident\": 37.41100688504099, \"ci_low\": 36.754393665574064, \"ci_high\": 38.06762010450792, \"type\": \"Washington\"}, {\"seconds\": \"2009-05-01T00:00:00\", \"shipment_per_resident\": 39.23301043629331, \"ci_low\": 38.60131353225161, \"ci_high\": 39.864707340335016, \"type\": \"Washington\"}, {\"seconds\": \"2010-05-01T00:00:00\", \"shipment_per_resident\": 41.055013987545635, \"ci_low\": 40.26705436363022, \"ci_high\": 41.84297361146105, \"type\": \"Washington\"}, {\"seconds\": \"2011-05-01T00:00:00\", \"shipment_per_resident\": 42.87701753879796, \"ci_low\": 41.82980261767913, \"ci_high\": 43.92423245991679, \"type\": \"Washington\"}, {\"seconds\": \"2006-06-01T00:00:00\", \"shipment_per_resident\": 33.91675349907763, \"ci_low\": 32.81984927623166, \"ci_high\": 35.0136577219236, \"type\": \"Washington\"}, {\"seconds\": \"2007-06-01T00:00:00\", \"shipment_per_resident\": 35.73875705032995, \"ci_low\": 34.91165851019353, \"ci_high\": 36.56585559046637, \"type\": \"Washington\"}, {\"seconds\": \"2008-06-01T00:00:00\", \"shipment_per_resident\": 37.565752392133646, \"ci_low\": 36.91880048004401, \"ci_high\": 38.21270430422328, \"type\": \"Washington\"}, {\"seconds\": \"2009-06-01T00:00:00\", \"shipment_per_resident\": 39.38775594338597, \"ci_low\": 38.74899598436596, \"ci_high\": 40.026515902405976, \"type\": \"Washington\"}, {\"seconds\": \"2010-06-01T00:00:00\", \"shipment_per_resident\": 41.20975949463829, \"ci_low\": 40.40265285627755, \"ci_high\": 42.016866132999034, \"type\": \"Washington\"}, {\"seconds\": \"2011-06-01T00:00:00\", \"shipment_per_resident\": 43.031763045890614, \"ci_low\": 41.959957420848184, \"ci_high\": 44.10356867093304, \"type\": \"Washington\"}, {\"seconds\": \"2006-07-01T00:00:00\", \"shipment_per_resident\": 34.06650721561891, \"ci_low\": 32.99368177106285, \"ci_high\": 35.13933266017497, \"type\": \"Washington\"}, {\"seconds\": \"2007-07-01T00:00:00\", \"shipment_per_resident\": 35.888510766871235, \"ci_low\": 35.08060032543454, \"ci_high\": 36.69642120830793, \"type\": \"Washington\"}, {\"seconds\": \"2008-07-01T00:00:00\", \"shipment_per_resident\": 37.71550610867493, \"ci_low\": 37.07667673274515, \"ci_high\": 38.35433548460471, \"type\": \"Washington\"}, {\"seconds\": \"2009-07-01T00:00:00\", \"shipment_per_resident\": 39.53750965992725, \"ci_low\": 38.890638570653074, \"ci_high\": 40.18438074920143, \"type\": \"Washington\"}, {\"seconds\": \"2010-07-01T00:00:00\", \"shipment_per_resident\": 41.35951321117959, \"ci_low\": 40.533244022310384, \"ci_high\": 42.185782400048794, \"type\": \"Washington\"}, {\"seconds\": \"2011-07-01T00:00:00\", \"shipment_per_resident\": 43.18151676243191, \"ci_low\": 42.08564328864114, \"ci_high\": 44.277390236222686, \"type\": \"Washington\"}, {\"seconds\": \"2006-08-01T00:00:00\", \"shipment_per_resident\": 34.22125272271157, \"ci_low\": 33.17303007215527, \"ci_high\": 35.269475373267866, \"type\": \"Washington\"}, {\"seconds\": \"2007-08-01T00:00:00\", \"shipment_per_resident\": 36.043256273963905, \"ci_low\": 35.25452119668608, \"ci_high\": 36.83199135124173, \"type\": \"Washington\"}, {\"seconds\": \"2008-08-01T00:00:00\", \"shipment_per_resident\": 37.8702516157676, \"ci_low\": 37.23849750909719, \"ci_high\": 38.50200572243801, \"type\": \"Washington\"}, {\"seconds\": \"2009-08-01T00:00:00\", \"shipment_per_resident\": 39.69225516701992, \"ci_low\": 39.03573408131399, \"ci_high\": 40.348776252725855, \"type\": \"Washington\"}, {\"seconds\": \"2010-08-01T00:00:00\", \"shipment_per_resident\": 41.514258718272245, \"ci_low\": 40.667579350148785, \"ci_high\": 42.360938086395706, \"type\": \"Washington\"}, {\"seconds\": \"2011-08-01T00:00:00\", \"shipment_per_resident\": 43.33626226952457, \"ci_low\": 42.21525767516142, \"ci_high\": 44.45726686388772, \"type\": \"Washington\"}, {\"seconds\": \"2006-09-01T00:00:00\", \"shipment_per_resident\": 34.37599822980424, \"ci_low\": 33.35207500425117, \"ci_high\": 35.39992145535731, \"type\": \"Washington\"}, {\"seconds\": \"2007-09-01T00:00:00\", \"shipment_per_resident\": 36.19800178105656, \"ci_low\": 35.42773006347252, \"ci_high\": 36.968273498640606, \"type\": \"Washington\"}, {\"seconds\": \"2008-09-01T00:00:00\", \"shipment_per_resident\": 38.024997122860256, \"ci_low\": 37.39893379772904, \"ci_high\": 38.65106044799147, \"type\": \"Washington\"}, {\"seconds\": \"2009-09-01T00:00:00\", \"shipment_per_resident\": 39.84700067411258, \"ci_low\": 39.179595683234055, \"ci_high\": 40.5144056649911, \"type\": \"Washington\"}, {\"seconds\": \"2010-09-01T00:00:00\", \"shipment_per_resident\": 41.669004225364915, \"ci_low\": 40.80133903165673, \"ci_high\": 42.5366694190731, \"type\": \"Washington\"}, {\"seconds\": \"2011-09-01T00:00:00\", \"shipment_per_resident\": 43.49100777661724, \"ci_low\": 42.34462403343013, \"ci_high\": 44.637391519804346, \"type\": \"Washington\"}, {\"seconds\": \"2006-10-01T00:00:00\", \"shipment_per_resident\": 34.52575194634552, \"ci_low\": 33.52503462821873, \"ci_high\": 35.52646926447232, \"type\": \"Washington\"}, {\"seconds\": \"2007-10-01T00:00:00\", \"shipment_per_resident\": 36.347755497597845, \"ci_low\": 35.59462428474127, \"ci_high\": 37.10088671045442, \"type\": \"Washington\"}, {\"seconds\": \"2008-10-01T00:00:00\", \"shipment_per_resident\": 38.174750839401554, \"ci_low\": 37.552840636356905, \"ci_high\": 38.7966610424462, \"type\": \"Washington\"}, {\"seconds\": \"2009-10-01T00:00:00\", \"shipment_per_resident\": 39.99675439065388, \"ci_low\": 39.31769757320534, \"ci_high\": 40.67581120810241, \"type\": \"Washington\"}, {\"seconds\": \"2010-10-01T00:00:00\", \"shipment_per_resident\": 41.8187579419062, \"ci_low\": 40.930274203313544, \"ci_high\": 42.70724168049885, \"type\": \"Washington\"}, {\"seconds\": \"2011-10-01T00:00:00\", \"shipment_per_resident\": 43.64076149315852, \"ci_low\": 42.46959631355674, \"ci_high\": 44.8119266727603, \"type\": \"Washington\"}, {\"seconds\": \"2006-11-01T00:00:00\", \"shipment_per_resident\": 34.68049745343819, \"ci_low\": 33.703416279403534, \"ci_high\": 35.65757862747285, \"type\": \"Washington\"}, {\"seconds\": \"2007-11-01T00:00:00\", \"shipment_per_resident\": 36.502501004690515, \"ci_low\": 35.76627648477384, \"ci_high\": 37.23872552460719, \"type\": \"Washington\"}, {\"seconds\": \"2008-11-01T00:00:00\", \"shipment_per_resident\": 38.32949634649421, \"ci_low\": 37.71044969268145, \"ci_high\": 38.94854300030697, \"type\": \"Washington\"}, {\"seconds\": \"2009-11-01T00:00:00\", \"shipment_per_resident\": 40.15149989774653, \"ci_low\": 39.4593062323878, \"ci_high\": 40.84369356310526, \"type\": \"Washington\"}, {\"seconds\": \"2010-11-01T00:00:00\", \"shipment_per_resident\": 41.973503448998855, \"ci_low\": 41.063017472788005, \"ci_high\": 42.883989425209705, \"type\": \"Washington\"}, {\"seconds\": \"2011-11-01T00:00:00\", \"shipment_per_resident\": 43.79550700025118, \"ci_low\": 42.59852049776321, \"ci_high\": 44.992493502739144, \"type\": \"Washington\"}, {\"seconds\": \"2006-12-01T00:00:00\", \"shipment_per_resident\": 34.830251169979476, \"ci_low\": 33.87568731612995, \"ci_high\": 35.784815023829005, \"type\": \"Washington\"}, {\"seconds\": \"2007-12-01T00:00:00\", \"shipment_per_resident\": 36.6522547212318, \"ci_low\": 35.93155866876117, \"ci_high\": 37.37295077370243, \"type\": \"Washington\"}, {\"seconds\": \"2008-12-01T00:00:00\", \"shipment_per_resident\": 38.479250063035494, \"ci_low\": 37.86157383342583, \"ci_high\": 39.09692629264516, \"type\": \"Washington\"}, {\"seconds\": \"2009-12-01T00:00:00\", \"shipment_per_resident\": 40.301253614287816, \"ci_low\": 39.59534359078068, \"ci_high\": 41.00716363779495, \"type\": \"Washington\"}, {\"seconds\": \"2010-12-01T00:00:00\", \"shipment_per_resident\": 42.12325716554014, \"ci_low\": 41.19103759392689, \"ci_high\": 43.055476737153384, \"type\": \"Washington\"}, {\"seconds\": \"2011-12-01T00:00:00\", \"shipment_per_resident\": 43.945260716792475, \"ci_low\": 42.723091730989935, \"ci_high\": 45.167429702595015, \"type\": \"Washington\"}, {\"seconds\": \"2006-01-01T00:00:00\", \"shipment_per_resident\": 19.580492239131807, \"ci_low\": 18.721706343689704, \"ci_high\": 20.43927813457391, \"type\": \"Control Counties\"}, {\"seconds\": \"2007-01-01T00:00:00\", \"shipment_per_resident\": 21.402045884296548, \"ci_low\": 20.74704479640457, \"ci_high\": 22.057046972188527, \"type\": \"Control Counties\"}, {\"seconds\": \"2008-01-01T00:00:00\", \"shipment_per_resident\": 23.22359952946129, \"ci_low\": 22.727568122037194, \"ci_high\": 23.719630936885384, \"type\": \"Control Counties\"}, {\"seconds\": \"2009-01-01T00:00:00\", \"shipment_per_resident\": 25.05014373255799, \"ci_low\": 24.61587382506864, \"ci_high\": 25.484413640047343, \"type\": \"Control Counties\"}, {\"seconds\": \"2010-01-01T00:00:00\", \"shipment_per_resident\": 26.871697377722732, \"ci_low\": 26.364775309798496, \"ci_high\": 27.37861944564697, \"type\": \"Control Counties\"}, {\"seconds\": \"2011-01-01T00:00:00\", \"shipment_per_resident\": 28.693251022887473, \"ci_low\": 28.021792063286494, \"ci_high\": 29.364709982488453, \"type\": \"Control Counties\"}, {\"seconds\": \"2006-02-01T00:00:00\", \"shipment_per_resident\": 19.73519953502251, \"ci_low\": 18.89470214630078, \"ci_high\": 20.57569692374424, \"type\": \"Control Counties\"}, {\"seconds\": \"2007-02-01T00:00:00\", \"shipment_per_resident\": 21.55675318018725, \"ci_low\": 20.91752816951899, \"ci_high\": 22.19597819085551, \"type\": \"Control Counties\"}, {\"seconds\": \"2008-02-01T00:00:00\", \"shipment_per_resident\": 23.37830682535199, \"ci_low\": 22.892211269764708, \"ci_high\": 23.864402380939275, \"type\": \"Control Counties\"}, {\"seconds\": \"2009-02-01T00:00:00\", \"shipment_per_resident\": 25.204851028448694, \"ci_low\": 24.769511124838978, \"ci_high\": 25.64019093205841, \"type\": \"Control Counties\"}, {\"seconds\": \"2010-02-01T00:00:00\", \"shipment_per_resident\": 27.026404673613435, \"ci_low\": 26.50817691966822, \"ci_high\": 27.54463242755865, \"type\": \"Control Counties\"}, {\"seconds\": \"2011-02-01T00:00:00\", \"shipment_per_resident\": 28.847958318778176, \"ci_low\": 28.160130797283593, \"ci_high\": 29.53578584027276, \"type\": \"Control Counties\"}, {\"seconds\": \"2006-03-01T00:00:00\", \"shipment_per_resident\": 19.874935157117342, \"ci_low\": 19.050833134383005, \"ci_high\": 20.69903717985168, \"type\": \"Control Counties\"}, {\"seconds\": \"2007-03-01T00:00:00\", \"shipment_per_resident\": 21.696488802282083, \"ci_low\": 21.071232957118983, \"ci_high\": 22.321744647445183, \"type\": \"Control Counties\"}, {\"seconds\": \"2008-03-01T00:00:00\", \"shipment_per_resident\": 23.523033005378785, \"ci_low\": 23.045560713668422, \"ci_high\": 24.00050529708915, \"type\": \"Control Counties\"}, {\"seconds\": \"2009-03-01T00:00:00\", \"shipment_per_resident\": 25.344586650543526, \"ci_low\": 24.907391710301482, \"ci_high\": 25.78178159078557, \"type\": \"Control Counties\"}, {\"seconds\": \"2010-03-01T00:00:00\", \"shipment_per_resident\": 27.166140295708267, \"ci_low\": 26.637172845596805, \"ci_high\": 27.69510774581973, \"type\": \"Control Counties\"}, {\"seconds\": \"2011-03-01T00:00:00\", \"shipment_per_resident\": 28.987693940873008, \"ci_low\": 28.2848559567944, \"ci_high\": 29.690531924951618, \"type\": \"Control Counties\"}, {\"seconds\": \"2006-04-01T00:00:00\", \"shipment_per_resident\": 20.029642453008044, \"ci_low\": 19.223547024717664, \"ci_high\": 20.835737881298424, \"type\": \"Control Counties\"}, {\"seconds\": \"2007-04-01T00:00:00\", \"shipment_per_resident\": 21.851196098172785, \"ci_low\": 21.241073069241025, \"ci_high\": 22.461319127104545, \"type\": \"Control Counties\"}, {\"seconds\": \"2008-04-01T00:00:00\", \"shipment_per_resident\": 23.677740301269488, \"ci_low\": 23.2087266820782, \"ci_high\": 24.146753920460775, \"type\": \"Control Counties\"}, {\"seconds\": \"2009-04-01T00:00:00\", \"shipment_per_resident\": 25.49929394643423, \"ci_low\": 25.059074746153925, \"ci_high\": 25.939513146714532, \"type\": \"Control Counties\"}, {\"seconds\": \"2010-04-01T00:00:00\", \"shipment_per_resident\": 27.32084759159897, \"ci_low\": 26.77944235087255, \"ci_high\": 27.86225283232539, \"type\": \"Control Counties\"}, {\"seconds\": \"2011-04-01T00:00:00\", \"shipment_per_resident\": 29.14240123676371, \"ci_low\": 28.422711132511388, \"ci_high\": 29.862091341016033, \"type\": \"Control Counties\"}, {\"seconds\": \"2006-05-01T00:00:00\", \"shipment_per_resident\": 20.179359190966785, \"ci_low\": 19.390534467770664, \"ci_high\": 20.968183914162907, \"type\": \"Control Counties\"}, {\"seconds\": \"2007-05-01T00:00:00\", \"shipment_per_resident\": 22.000912836131526, \"ci_low\": 21.40507695141834, \"ci_high\": 22.59674872084471, \"type\": \"Control Counties\"}, {\"seconds\": \"2008-05-01T00:00:00\", \"shipment_per_resident\": 23.82745703922823, \"ci_low\": 23.365842465275563, \"ci_high\": 24.289071613180894, \"type\": \"Control Counties\"}, {\"seconds\": \"2009-05-01T00:00:00\", \"shipment_per_resident\": 25.64901068439297, \"ci_low\": 25.204912867624746, \"ci_high\": 26.093108501161193, \"type\": \"Control Counties\"}, {\"seconds\": \"2010-05-01T00:00:00\", \"shipment_per_resident\": 27.47056432955771, \"ci_low\": 26.91661013658396, \"ci_high\": 28.024518522531462, \"type\": \"Control Counties\"}, {\"seconds\": \"2011-05-01T00:00:00\", \"shipment_per_resident\": 29.29211797472245, \"ci_low\": 28.555901195471833, \"ci_high\": 30.02833475397307, \"type\": \"Control Counties\"}, {\"seconds\": \"2006-06-01T00:00:00\", \"shipment_per_resident\": 20.334066486857488, \"ci_low\": 19.56291695699086, \"ci_high\": 21.105216016724114, \"type\": \"Control Counties\"}, {\"seconds\": \"2007-06-01T00:00:00\", \"shipment_per_resident\": 22.15562013202223, \"ci_low\": 21.574150358184898, \"ci_high\": 22.73708990585956, \"type\": \"Control Counties\"}, {\"seconds\": \"2008-06-01T00:00:00\", \"shipment_per_resident\": 23.98216433511893, \"ci_low\": 23.52734188803269, \"ci_high\": 24.43698678220517, \"type\": \"Control Counties\"}, {\"seconds\": \"2009-06-01T00:00:00\", \"shipment_per_resident\": 25.803717980283672, \"ci_low\": 25.354654669343287, \"ci_high\": 26.252781291224057, \"type\": \"Control Counties\"}, {\"seconds\": \"2010-06-01T00:00:00\", \"shipment_per_resident\": 27.625271625448413, \"ci_low\": 27.057856629899256, \"ci_high\": 28.19268662099757, \"type\": \"Control Counties\"}, {\"seconds\": \"2011-06-01T00:00:00\", \"shipment_per_resident\": 29.446825270613154, \"ci_low\": 28.69332064674051, \"ci_high\": 30.200329894485797, \"type\": \"Control Counties\"}, {\"seconds\": \"2006-07-01T00:00:00\", \"shipment_per_resident\": 20.483783224816243, \"ci_low\": 19.72956164378171, \"ci_high\": 21.238004805850775, \"type\": \"Control Counties\"}, {\"seconds\": \"2007-07-01T00:00:00\", \"shipment_per_resident\": 22.305336869980984, \"ci_low\": 21.73735678191853, \"ci_high\": 22.87331695804344, \"type\": \"Control Counties\"}, {\"seconds\": \"2008-07-01T00:00:00\", \"shipment_per_resident\": 24.131881073077686, \"ci_low\": 23.68276896041312, \"ci_high\": 24.58099318574225, \"type\": \"Control Counties\"}, {\"seconds\": \"2009-07-01T00:00:00\", \"shipment_per_resident\": 25.953434718242413, \"ci_low\": 25.498669091500958, \"ci_high\": 26.408200344983868, \"type\": \"Control Counties\"}, {\"seconds\": \"2010-07-01T00:00:00\", \"shipment_per_resident\": 27.774988363407154, \"ci_low\": 27.194101643063902, \"ci_high\": 28.355875083750405, \"type\": \"Control Counties\"}, {\"seconds\": \"2011-07-01T00:00:00\", \"shipment_per_resident\": 29.596542008571895, \"ci_low\": 28.826117119592567, \"ci_high\": 30.366966897551222, \"type\": \"Control Counties\"}, {\"seconds\": \"2006-08-01T00:00:00\", \"shipment_per_resident\": 20.638490520706945, \"ci_low\": 19.901565283902993, \"ci_high\": 21.375415757510897, \"type\": \"Control Counties\"}, {\"seconds\": \"2007-08-01T00:00:00\", \"shipment_per_resident\": 22.460044165871686, \"ci_low\": 21.905544810901656, \"ci_high\": 23.014543520841716, \"type\": \"Control Counties\"}, {\"seconds\": \"2008-08-01T00:00:00\", \"shipment_per_resident\": 24.28658836896839, \"ci_low\": 23.842450337403545, \"ci_high\": 24.730726400533232, \"type\": \"Control Counties\"}, {\"seconds\": \"2009-08-01T00:00:00\", \"shipment_per_resident\": 26.10814201413313, \"ci_low\": 25.64659221238664, \"ci_high\": 26.56969181587962, \"type\": \"Control Counties\"}, {\"seconds\": \"2010-08-01T00:00:00\", \"shipment_per_resident\": 27.92969565929787, \"ci_low\": 27.334460101737474, \"ci_high\": 28.524931216858267, \"type\": \"Control Counties\"}, {\"seconds\": \"2011-08-01T00:00:00\", \"shipment_per_resident\": 29.75124930446261, \"ci_low\": 28.96315664521603, \"ci_high\": 30.53934196370919, \"type\": \"Control Counties\"}, {\"seconds\": \"2006-09-01T00:00:00\", \"shipment_per_resident\": 20.793197816597647, \"ci_low\": 20.073355648467324, \"ci_high\": 21.51303998472797, \"type\": \"Control Counties\"}, {\"seconds\": \"2007-09-01T00:00:00\", \"shipment_per_resident\": 22.61475146176239, \"ci_low\": 22.073232283959236, \"ci_high\": 23.15627063956554, \"type\": \"Control Counties\"}, {\"seconds\": \"2008-09-01T00:00:00\", \"shipment_per_resident\": 24.44129566485909, \"ci_low\": 24.00115838688524, \"ci_high\": 24.88143294283294, \"type\": \"Control Counties\"}, {\"seconds\": \"2009-09-01T00:00:00\", \"shipment_per_resident\": 26.26284931002383, \"ci_low\": 25.793647866336176, \"ci_high\": 26.732050753711487, \"type\": \"Control Counties\"}, {\"seconds\": \"2010-09-01T00:00:00\", \"shipment_per_resident\": 28.084402955188573, \"ci_low\": 27.47441386746895, \"ci_high\": 28.694392042908195, \"type\": \"Control Counties\"}, {\"seconds\": \"2011-09-01T00:00:00\", \"shipment_per_resident\": 29.905956600353313, \"ci_low\": 29.100021801130985, \"ci_high\": 30.71189139957564, \"type\": \"Control Counties\"}, {\"seconds\": \"2006-10-01T00:00:00\", \"shipment_per_resident\": 20.94291455455639, \"ci_low\": 20.23938668646175, \"ci_high\": 21.646442422651027, \"type\": \"Control Counties\"}, {\"seconds\": \"2007-10-01T00:00:00\", \"shipment_per_resident\": 22.76446819972113, \"ci_low\": 22.234999200855196, \"ci_high\": 23.293937198587063, \"type\": \"Control Counties\"}, {\"seconds\": \"2008-10-01T00:00:00\", \"shipment_per_resident\": 24.59101240281783, \"ci_low\": 24.15379486758707, \"ci_high\": 25.028229938048593, \"type\": \"Control Counties\"}, {\"seconds\": \"2009-10-01T00:00:00\", \"shipment_per_resident\": 26.412566047982573, \"ci_low\": 25.93517309550644, \"ci_high\": 26.889959000458706, \"type\": \"Control Counties\"}, {\"seconds\": \"2010-10-01T00:00:00\", \"shipment_per_resident\": 28.234119693147314, \"ci_low\": 27.609494677544664, \"ci_high\": 28.858744708749963, \"type\": \"Control Counties\"}, {\"seconds\": \"2011-10-01T00:00:00\", \"shipment_per_resident\": 30.055673338312054, \"ci_low\": 29.232316605029688, \"ci_high\": 30.87903007159442, \"type\": \"Control Counties\"}, {\"seconds\": \"2006-11-01T00:00:00\", \"shipment_per_resident\": 21.09762185044709, \"ci_low\": 20.410710748907725, \"ci_high\": 21.784532951986456, \"type\": \"Control Counties\"}, {\"seconds\": \"2007-11-01T00:00:00\", \"shipment_per_resident\": 22.91917549561183, \"ci_low\": 22.401592300483948, \"ci_high\": 23.436758690739715, \"type\": \"Control Counties\"}, {\"seconds\": \"2008-11-01T00:00:00\", \"shipment_per_resident\": 24.745719698708534, \"ci_low\": 24.310515306100378, \"ci_high\": 25.18092409131669, \"type\": \"Control Counties\"}, {\"seconds\": \"2009-11-01T00:00:00\", \"shipment_per_resident\": 26.567273343873275, \"ci_low\": 26.080644877594835, \"ci_high\": 27.053901810151714, \"type\": \"Control Counties\"}, {\"seconds\": \"2010-11-01T00:00:00\", \"shipment_per_resident\": 28.388826989038016, \"ci_low\": 27.748733881653138, \"ci_high\": 29.028920096422894, \"type\": \"Control Counties\"}, {\"seconds\": \"2011-11-01T00:00:00\", \"shipment_per_resident\": 30.210380634202757, \"ci_low\": 29.36887090215395, \"ci_high\": 31.051890366251563, \"type\": \"Control Counties\"}, {\"seconds\": \"2006-12-01T00:00:00\", \"shipment_per_resident\": 21.247338588405846, \"ci_low\": 20.57625769383711, \"ci_high\": 21.91841948297458, \"type\": \"Control Counties\"}, {\"seconds\": \"2007-12-01T00:00:00\", \"shipment_per_resident\": 23.068892233570587, \"ci_low\": 22.56222591716481, \"ci_high\": 23.575558549976364, \"type\": \"Control Counties\"}, {\"seconds\": \"2008-12-01T00:00:00\", \"shipment_per_resident\": 24.89543643666729, \"ci_low\": 24.461195484583786, \"ci_high\": 25.329677388750792, \"type\": \"Control Counties\"}, {\"seconds\": \"2009-12-01T00:00:00\", \"shipment_per_resident\": 26.71699008183203, \"ci_low\": 26.220718692391006, \"ci_high\": 27.213261471273054, \"type\": \"Control Counties\"}, {\"seconds\": \"2010-12-01T00:00:00\", \"shipment_per_resident\": 28.538543726996757, \"ci_low\": 27.883171389641003, \"ci_high\": 29.19391606435251, \"type\": \"Control Counties\"}, {\"seconds\": \"2011-12-01T00:00:00\", \"shipment_per_resident\": 30.360097372161498, \"ci_low\": 29.500883760626714, \"ci_high\": 31.219310983696282, \"type\": \"Control Counties\"}], \"data-108fd6736a7c6c787c07c5e0ab1495fb\": [{\"seconds\": \"2012-01-01T00:00:00\", \"shipment_per_resident\": 40.704552590546186, \"ci_low\": 37.91059905993499, \"ci_high\": 43.498506121157384, \"type\": \"Washington\"}, {\"seconds\": \"2012-02-01T00:00:00\", \"shipment_per_resident\": 40.88332676141232, \"ci_low\": 38.44904305447504, \"ci_high\": 43.3176104683496, \"type\": \"Washington\"}, {\"seconds\": \"2012-03-01T00:00:00\", \"shipment_per_resident\": 41.050567114803215, \"ci_low\": 38.92590417501102, \"ci_high\": 43.17523005459541, \"type\": \"Washington\"}, {\"seconds\": \"2012-04-01T00:00:00\", \"shipment_per_resident\": 41.22934128566935, \"ci_low\": 39.391721396877685, \"ci_high\": 43.066961174461014, \"type\": \"Washington\"}, {\"seconds\": \"2012-05-01T00:00:00\", \"shipment_per_resident\": 41.40234854779787, \"ci_low\": 39.77700437066842, \"ci_high\": 43.02769272492732, \"type\": \"Washington\"}, {\"seconds\": \"2012-06-01T00:00:00\", \"shipment_per_resident\": 41.581122718664005, \"ci_low\": 40.07783424148264, \"ci_high\": 43.08441119584537, \"type\": \"Washington\"}, {\"seconds\": \"2012-07-01T00:00:00\", \"shipment_per_resident\": 41.75412998079251, \"ci_low\": 40.25217088689485, \"ci_high\": 43.25608907469017, \"type\": \"Washington\"}, {\"seconds\": \"2012-08-01T00:00:00\", \"shipment_per_resident\": 41.93290415165865, \"ci_low\": 40.31133331608886, \"ci_high\": 43.55447498722843, \"type\": \"Washington\"}, {\"seconds\": \"2012-09-01T00:00:00\", \"shipment_per_resident\": 42.11167832252478, \"ci_low\": 40.27128857394485, \"ci_high\": 43.95206807110471, \"type\": \"Washington\"}, {\"seconds\": \"2012-10-01T00:00:00\", \"shipment_per_resident\": 42.2846855846533, \"ci_low\": 40.166739871674366, \"ci_high\": 44.40263129763224, \"type\": \"Washington\"}, {\"seconds\": \"2012-11-01T00:00:00\", \"shipment_per_resident\": 42.46345975551942, \"ci_low\": 40.01423236743205, \"ci_high\": 44.912687143606796, \"type\": \"Washington\"}, {\"seconds\": \"2012-12-01T00:00:00\", \"shipment_per_resident\": 42.636467017647945, \"ci_low\": 39.838524478799506, \"ci_high\": 45.434409556496384, \"type\": \"Washington\"}], \"data-2d059b82de2967967bee83d48ed0c6f4\": [{\"seconds\": \"2012-01-01T00:00:00\", \"shipment_per_resident\": 40.704552590546186, \"ci_low\": 37.91059905993499, \"ci_high\": 43.498506121157384, \"type\": \"Washington\"}, {\"seconds\": \"2012-02-01T00:00:00\", \"shipment_per_resident\": 40.88332676141232, \"ci_low\": 38.44904305447504, \"ci_high\": 43.3176104683496, \"type\": \"Washington\"}, {\"seconds\": \"2012-03-01T00:00:00\", \"shipment_per_resident\": 41.050567114803215, \"ci_low\": 38.92590417501102, \"ci_high\": 43.17523005459541, \"type\": \"Washington\"}, {\"seconds\": \"2012-04-01T00:00:00\", \"shipment_per_resident\": 41.22934128566935, \"ci_low\": 39.391721396877685, \"ci_high\": 43.066961174461014, \"type\": \"Washington\"}, {\"seconds\": \"2012-05-01T00:00:00\", \"shipment_per_resident\": 41.40234854779787, \"ci_low\": 39.77700437066842, \"ci_high\": 43.02769272492732, \"type\": \"Washington\"}, {\"seconds\": \"2012-06-01T00:00:00\", \"shipment_per_resident\": 41.581122718664005, \"ci_low\": 40.07783424148264, \"ci_high\": 43.08441119584537, \"type\": \"Washington\"}, {\"seconds\": \"2012-07-01T00:00:00\", \"shipment_per_resident\": 41.75412998079251, \"ci_low\": 40.25217088689485, \"ci_high\": 43.25608907469017, \"type\": \"Washington\"}, {\"seconds\": \"2012-08-01T00:00:00\", \"shipment_per_resident\": 41.93290415165865, \"ci_low\": 40.31133331608886, \"ci_high\": 43.55447498722843, \"type\": \"Washington\"}, {\"seconds\": \"2012-09-01T00:00:00\", \"shipment_per_resident\": 42.11167832252478, \"ci_low\": 40.27128857394485, \"ci_high\": 43.95206807110471, \"type\": \"Washington\"}, {\"seconds\": \"2012-10-01T00:00:00\", \"shipment_per_resident\": 42.2846855846533, \"ci_low\": 40.166739871674366, \"ci_high\": 44.40263129763224, \"type\": \"Washington\"}, {\"seconds\": \"2012-11-01T00:00:00\", \"shipment_per_resident\": 42.46345975551942, \"ci_low\": 40.01423236743205, \"ci_high\": 44.912687143606796, \"type\": \"Washington\"}, {\"seconds\": \"2012-12-01T00:00:00\", \"shipment_per_resident\": 42.636467017647945, \"ci_low\": 39.838524478799506, \"ci_high\": 45.434409556496384, \"type\": \"Washington\"}, {\"seconds\": \"2012-01-01T00:00:00\", \"shipment_per_resident\": 30.230056932282977, \"ci_low\": 27.735809679916827, \"ci_high\": 32.72430418464913, \"type\": \"Control Counties\"}, {\"seconds\": \"2012-02-01T00:00:00\", \"shipment_per_resident\": 30.411333397312433, \"ci_low\": 28.238174330424982, \"ci_high\": 32.58449246419988, \"type\": \"Control Counties\"}, {\"seconds\": \"2012-03-01T00:00:00\", \"shipment_per_resident\": 30.580914606533526, \"ci_low\": 28.68416341088238, \"ci_high\": 32.47766580218467, \"type\": \"Control Counties\"}, {\"seconds\": \"2012-04-01T00:00:00\", \"shipment_per_resident\": 30.76219107156298, \"ci_low\": 29.12169193358436, \"ci_high\": 32.4026902095416, \"type\": \"Control Counties\"}, {\"seconds\": \"2012-05-01T00:00:00\", \"shipment_per_resident\": 30.937619908688248, \"ci_low\": 29.486625751646457, \"ci_high\": 32.38861406573004, \"type\": \"Control Counties\"}, {\"seconds\": \"2012-06-01T00:00:00\", \"shipment_per_resident\": 31.118896373717703, \"ci_low\": 29.77686505048807, \"ci_high\": 32.46092769694734, \"type\": \"Control Counties\"}, {\"seconds\": \"2012-07-01T00:00:00\", \"shipment_per_resident\": 31.294325210842985, \"ci_low\": 29.95348066848178, \"ci_high\": 32.63516975320419, \"type\": \"Control Counties\"}, {\"seconds\": \"2012-08-01T00:00:00\", \"shipment_per_resident\": 31.475601675872426, \"ci_low\": 30.027976095550503, \"ci_high\": 32.92322725619435, \"type\": \"Control Counties\"}, {\"seconds\": \"2012-09-01T00:00:00\", \"shipment_per_resident\": 31.65687814090188, \"ci_low\": 30.013906264889325, \"ci_high\": 33.29985001691444, \"type\": \"Control Counties\"}, {\"seconds\": \"2012-10-01T00:00:00\", \"shipment_per_resident\": 31.832306978027162, \"ci_low\": 29.941552454953648, \"ci_high\": 33.72306150110068, \"type\": \"Control Counties\"}, {\"seconds\": \"2012-11-01T00:00:00\", \"shipment_per_resident\": 32.0135834430566, \"ci_low\": 29.827083697721324, \"ci_high\": 34.20008318839188, \"type\": \"Control Counties\"}, {\"seconds\": \"2012-12-01T00:00:00\", \"shipment_per_resident\": 32.189012280181885, \"ci_low\": 29.691203918896544, \"ci_high\": 34.68682064146722, \"type\": \"Control Counties\"}], \"data-8e2c4808ebc48074f21a3ad20c22f636\": [{\"seconds\": \"2012-01-01T00:00:00\", \"shipment_per_resident\": 30.230056932282977, \"ci_low\": 27.735809679916827, \"ci_high\": 32.72430418464913, \"type\": \"Control Counties\"}, {\"seconds\": \"2012-02-01T00:00:00\", \"shipment_per_resident\": 30.411333397312433, \"ci_low\": 28.238174330424982, \"ci_high\": 32.58449246419988, \"type\": \"Control Counties\"}, {\"seconds\": \"2012-03-01T00:00:00\", \"shipment_per_resident\": 30.580914606533526, \"ci_low\": 28.68416341088238, \"ci_high\": 32.47766580218467, \"type\": \"Control Counties\"}, {\"seconds\": \"2012-04-01T00:00:00\", \"shipment_per_resident\": 30.76219107156298, \"ci_low\": 29.12169193358436, \"ci_high\": 32.4026902095416, \"type\": \"Control Counties\"}, {\"seconds\": \"2012-05-01T00:00:00\", \"shipment_per_resident\": 30.937619908688248, \"ci_low\": 29.486625751646457, \"ci_high\": 32.38861406573004, \"type\": \"Control Counties\"}, {\"seconds\": \"2012-06-01T00:00:00\", \"shipment_per_resident\": 31.118896373717703, \"ci_low\": 29.77686505048807, \"ci_high\": 32.46092769694734, \"type\": \"Control Counties\"}, {\"seconds\": \"2012-07-01T00:00:00\", \"shipment_per_resident\": 31.294325210842985, \"ci_low\": 29.95348066848178, \"ci_high\": 32.63516975320419, \"type\": \"Control Counties\"}, {\"seconds\": \"2012-08-01T00:00:00\", \"shipment_per_resident\": 31.475601675872426, \"ci_low\": 30.027976095550503, \"ci_high\": 32.92322725619435, \"type\": \"Control Counties\"}, {\"seconds\": \"2012-09-01T00:00:00\", \"shipment_per_resident\": 31.65687814090188, \"ci_low\": 30.013906264889325, \"ci_high\": 33.29985001691444, \"type\": \"Control Counties\"}, {\"seconds\": \"2012-10-01T00:00:00\", \"shipment_per_resident\": 31.832306978027162, \"ci_low\": 29.941552454953648, \"ci_high\": 33.72306150110068, \"type\": \"Control Counties\"}, {\"seconds\": \"2012-11-01T00:00:00\", \"shipment_per_resident\": 32.0135834430566, \"ci_low\": 29.827083697721324, \"ci_high\": 34.20008318839188, \"type\": \"Control Counties\"}, {\"seconds\": \"2012-12-01T00:00:00\", \"shipment_per_resident\": 32.189012280181885, \"ci_low\": 29.691203918896544, \"ci_high\": 34.68682064146722, \"type\": \"Control Counties\"}], \"data-082b9019dee60fad15036d480c67dec1\": [{\"a\": \"2012-01-01\"}]}}, {\"mode\": \"vega-lite\"});\n",
       "</script>"
      ],
      "text/plain": [
       "alt.LayerChart(...)"
      ]
     },
     "execution_count": 13,
     "metadata": {},
     "output_type": "execute_result"
    }
   ],
   "source": [
    "final_chart\n"
   ]
  }
 ],
 "metadata": {
  "interpreter": {
   "hash": "84b1e2213175d1b29c0c106fcfdfa2350458511224f0b9c320f712c5e7a09711"
  },
  "kernelspec": {
   "display_name": "Python 3.9.7 64-bit ('base': conda)",
   "language": "python",
   "name": "python3"
  },
  "language_info": {
   "codemirror_mode": {
    "name": "ipython",
    "version": 3
   },
   "file_extension": ".py",
   "mimetype": "text/x-python",
   "name": "python",
   "nbconvert_exporter": "python",
   "pygments_lexer": "ipython3",
   "version": "3.9.7"
  },
  "orig_nbformat": 4
 },
 "nbformat": 4,
 "nbformat_minor": 2
}
