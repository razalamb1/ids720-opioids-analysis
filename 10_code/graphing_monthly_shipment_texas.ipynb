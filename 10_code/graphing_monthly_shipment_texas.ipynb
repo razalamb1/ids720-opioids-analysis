{
 "cells": [
  {
   "cell_type": "code",
   "execution_count": 1,
   "metadata": {},
   "outputs": [
    {
     "data": {
      "text/plain": [
       "DataTransformerRegistry.enable('default')"
      ]
     },
     "execution_count": 1,
     "metadata": {},
     "output_type": "execute_result"
    }
   ],
   "source": [
    "import pandas as pd\n",
    "import numpy as np\n",
    "import altair as alt\n",
    "import statsmodels.formula.api as smf\n",
    "import altair_saver\n",
    "from find_control_module import find_controls\n",
    "\n",
    "alt.data_transformers.disable_max_rows()\n"
   ]
  },
  {
   "cell_type": "code",
   "execution_count": 2,
   "metadata": {},
   "outputs": [],
   "source": [
    "texas = pd.read_parquet(f\"../20_intermediate_files/texas_shipment_monthly.parquet\")\n",
    "controls = pd.read_parquet(f\"../20_intermediate_files/other_shipment_monthly.parquet\")\n"
   ]
  },
  {
   "cell_type": "code",
   "execution_count": 3,
   "metadata": {},
   "outputs": [
    {
     "name": "stderr",
     "output_type": "stream",
     "text": [
      "/var/folders/lz/cw17t6h96s12fy8v30l0cs880000gn/T/ipykernel_98830/1987189428.py:1: FutureWarning: casting datetime64[ns] values to int64 with .astype(...) is deprecated and will raise in a future version. Use .view(...) instead.\n",
      "  controls.loc[:, \"seconds\"] = pd.to_datetime(controls[\"year\"]).astype(int) / 10 ** 9\n",
      "/var/folders/lz/cw17t6h96s12fy8v30l0cs880000gn/T/ipykernel_98830/1987189428.py:2: FutureWarning: casting datetime64[ns] values to int64 with .astype(...) is deprecated and will raise in a future version. Use .view(...) instead.\n",
      "  texas.loc[:, \"seconds\"] = pd.to_datetime(texas[\"year\"]).astype(int) / 10 ** 9\n"
     ]
    }
   ],
   "source": [
    "controls.loc[:, \"seconds\"] = pd.to_datetime(controls[\"year\"]).astype(int) / 10 ** 9\n",
    "texas.loc[:, \"seconds\"] = pd.to_datetime(texas[\"year\"]).astype(int) / 10 ** 9\n"
   ]
  },
  {
   "cell_type": "code",
   "execution_count": 4,
   "metadata": {},
   "outputs": [],
   "source": [
    "control_texas = controls.copy()\n",
    "control_texas[\"category_tex\"] = np.where(\n",
    "    control_texas[\"year\"] >= pd.to_datetime(\"2007-01-01\"), \"post\", \"pre\"\n",
    ")\n",
    "control_texas[\"type\"] = \"Control States\"\n",
    "texas[\"type\"] = \"Texas\"\n",
    "texas_pre = texas[texas[\"category_tex\"] == \"pre\"]\n",
    "texas_post = texas[texas[\"category_tex\"] == \"post\"]\n",
    "control_texas_pre = control_texas[control_texas[\"category_tex\"] == \"pre\"]\n",
    "control_texas_post = control_texas[control_texas[\"category_tex\"] == \"post\"]\n"
   ]
  },
  {
   "cell_type": "code",
   "execution_count": 5,
   "metadata": {},
   "outputs": [
    {
     "name": "stderr",
     "output_type": "stream",
     "text": [
      "/Users/Razalamb1/MIDS/fall21/practicing/pds2021-opioids-team-9-1/10_code/find_control_module.py:34: FutureWarning: casting datetime64[ns] values to int64 with .astype(...) is deprecated and will raise in a future version. Use .view(...) instead.\n",
      "  df_pre.loc[:, \"seconds\"] = pd.to_datetime(df_pre[\"year\"]).array.astype(int) / 10 ** 9\n",
      "/Users/Razalamb1/opt/miniconda3/lib/python3.9/site-packages/pandas/core/indexing.py:1773: SettingWithCopyWarning: \n",
      "A value is trying to be set on a copy of a slice from a DataFrame.\n",
      "Try using .loc[row_indexer,col_indexer] = value instead\n",
      "\n",
      "See the caveats in the documentation: https://pandas.pydata.org/pandas-docs/stable/user_guide/indexing.html#returning-a-view-versus-a-copy\n",
      "  self._setitem_single_column(ilocs[0], value, pi)\n",
      "/Users/Razalamb1/MIDS/fall21/practicing/pds2021-opioids-team-9-1/10_code/find_control_module.py:34: FutureWarning: casting datetime64[ns] values to int64 with .astype(...) is deprecated and will raise in a future version. Use .view(...) instead.\n",
      "  df_pre.loc[:, \"seconds\"] = pd.to_datetime(df_pre[\"year\"]).array.astype(int) / 10 ** 9\n",
      "/Users/Razalamb1/opt/miniconda3/lib/python3.9/site-packages/pandas/core/indexing.py:1773: SettingWithCopyWarning: \n",
      "A value is trying to be set on a copy of a slice from a DataFrame.\n",
      "Try using .loc[row_indexer,col_indexer] = value instead\n",
      "\n",
      "See the caveats in the documentation: https://pandas.pydata.org/pandas-docs/stable/user_guide/indexing.html#returning-a-view-versus-a-copy\n",
      "  self._setitem_single_column(ilocs[0], value, pi)\n"
     ]
    }
   ],
   "source": [
    "selected_control_data = find_controls(\n",
    "    \"shipment\", texas_pre, control_texas_pre, control_texas, n=2\n",
    ")\n",
    "\n",
    "selected_control_pre = selected_control_data[\n",
    "    selected_control_data[\"category_tex\"] == \"pre\"\n",
    "]\n",
    "selected_control_post = selected_control_data[\n",
    "    selected_control_data[\"category_tex\"] == \"post\"\n",
    "]\n",
    "pre = pd.concat([texas_pre, selected_control_pre])\n",
    "post = pd.concat([texas_post, selected_control_post])\n"
   ]
  },
  {
   "cell_type": "code",
   "execution_count": 6,
   "metadata": {},
   "outputs": [],
   "source": [
    "def get_reg_fit(data, yvar, xvar, color, alpha=0.05):\n",
    "    # Grid for predicted values\n",
    "    x = data.loc[pd.notnull(data[yvar]), xvar]\n",
    "    grid = np.asarray(data[xvar].unique())\n",
    "    predictions = pd.DataFrame({xvar: grid})\n",
    "    # Fit model, get predictions\n",
    "    model = smf.ols(f\"{yvar} ~ {xvar}\", data=data).fit()\n",
    "    model_predict = model.get_prediction(predictions[xvar])\n",
    "    predictions[yvar] = model_predict.summary_frame()[\"mean\"]\n",
    "    predictions[[\"ci_low\", \"ci_high\"]] = model_predict.conf_int(alpha=alpha)\n",
    "    predictions[xvar] = pd.to_datetime(10 ** 9 * predictions[xvar])\n",
    "    return predictions\n"
   ]
  },
  {
   "cell_type": "code",
   "execution_count": 14,
   "metadata": {},
   "outputs": [
    {
     "name": "stderr",
     "output_type": "stream",
     "text": [
      "WARN x-scale's \"zero\" is dropped as it does not work with time scale.\n"
     ]
    }
   ],
   "source": [
    "tex1 = get_reg_fit(texas[texas['category_tex'] == \"pre\"], 'shipment_per_resident', 'seconds', 'orange')\n",
    "tex2 = get_reg_fit(texas[texas['category_tex'] == \"post\"], 'shipment_per_resident', 'seconds', 'orange')\n",
    "tex = pd.concat([tex1, tex2])\n",
    "tex['category_tex'] = np.where(\n",
    "    pd.to_datetime(tex[\"seconds\"]) >= pd.to_datetime(\"2007-01-01\"), \"post\", \"pre\"\n",
    ")\n",
    "reg_tex = (\n",
    "    alt.Chart(\n",
    "        tex, title=\"Opioid Shipments per County per Month in Texas\"\n",
    "    )\n",
    "    .mark_line(color = \"orange\")\n",
    "    .encode(\n",
    "        x=alt.X(\"seconds:T\", scale=alt.Scale(zero=False), title=\"Year\"),\n",
    "        y=alt.Y(\n",
    "            \"shipment_per_resident\",\n",
    "            scale=alt.Scale(zero=False),\n",
    "            title=\"Opioid Shipment Per Resident (MME)\",\n",
    "        ),\n",
    "        detail=\"category_tex\",\n",
    "    )\n",
    ")\n",
    "ci_tex = (\n",
    "    alt.Chart(tex)\n",
    "    .mark_errorband(color=\"orange\")\n",
    "    .encode(x=f\"seconds:T\", y=alt.Y(\"ci_low\", title=\"\"), y2=\"ci_high\", detail = \"category_tex\")\n",
    ")\n",
    "data = pd.DataFrame({\"a\": [\"2007-01-01\"]})\n",
    "sep_line = alt.Chart(data).mark_rule(color=\"black\", strokeDash=[10, 10]).encode(x=\"a:T\")\n",
    "\n",
    "pre_post = ((reg_tex + ci_tex + sep_line)\n",
    "    .properties(height=500, width=1000)\n",
    "    .configure_axis(labelFontSize=20, titleFontSize=20)\n",
    "    .configure_title(fontSize=30)\n",
    "    .configure_legend(titleFontSize=20, labelFontSize=18)\n",
    ")\n",
    "altair_saver.save(pre_post, f\"../30_results/prepost_texas_shipment_monthly.png\")"
   ]
  },
  {
   "cell_type": "code",
   "execution_count": 8,
   "metadata": {},
   "outputs": [],
   "source": [
    "predictions = get_reg_fit(\n",
    "    pre[pre[\"type\"] == \"Texas\"], \"shipment_per_resident\", \"seconds\", \"orange\"\n",
    ")\n",
    "predictions[\"type\"] = \"Texas\"\n",
    "predictions2 = get_reg_fit(\n",
    "    pre[pre[\"type\"] == \"Control States\"], \"shipment_per_resident\", \"seconds\", \"blue\"\n",
    ")\n",
    "predictions2[\"type\"] = \"Control Counties\"\n"
   ]
  },
  {
   "cell_type": "code",
   "execution_count": 9,
   "metadata": {},
   "outputs": [],
   "source": [
    "pred_final = pd.concat([predictions, predictions2])\n",
    "reg1 = (\n",
    "    alt.Chart(\n",
    "        pred_final, title=\"Opioid Shipments per County per Month, Texas vs. Controls\"\n",
    "    )\n",
    "    .mark_line()\n",
    "    .encode(\n",
    "        x=alt.X(\"seconds:T\", scale=alt.Scale(zero=False), title=\"Year\"),\n",
    "        y=alt.Y(\n",
    "            \"shipment_per_resident\",\n",
    "            scale=alt.Scale(zero=False),\n",
    "            title=\"Opioid Shipment Per Resident (MME)\",\n",
    "        ),\n",
    "        color=\"type\",\n",
    "    )\n",
    ")\n",
    "alt.X(\"year:O\", scale=alt.Scale(zero=False), title=\"Year\")\n",
    "ci1tex = (\n",
    "    alt.Chart(pred_final[pred_final[\"type\"] == \"Texas\"])\n",
    "    .mark_errorband(color=\"orange\")\n",
    "    .encode(x=f\"seconds:T\", y=alt.Y(\"ci_low\", title=\"\"), y2=\"ci_high\")\n",
    ")\n",
    "ci1cont = (\n",
    "    alt.Chart(pred_final[pred_final[\"type\"] == \"Control Counties\"])\n",
    "    .mark_errorband(color=\"blue\")\n",
    "    .encode(x=f\"seconds:T\", y=alt.Y(\"ci_low\", title=\"\"), y2=\"ci_high\")\n",
    ")\n",
    "chart = ci1tex + ci1cont + reg1\n"
   ]
  },
  {
   "cell_type": "code",
   "execution_count": 10,
   "metadata": {},
   "outputs": [],
   "source": [
    "ppredictions = get_reg_fit(\n",
    "    post[post[\"type\"] == \"Texas\"], \"shipment_per_resident\", \"seconds\", \"orange\"\n",
    ")\n",
    "ppredictions[\"type\"] = \"Texas\"\n",
    "ppredictions2 = get_reg_fit(\n",
    "    post[post[\"type\"] == \"Control States\"], \"shipment_per_resident\", \"seconds\", \"blue\"\n",
    ")\n",
    "ppredictions2[\"type\"] = \"Control Counties\"\n",
    "ppred_final = pd.concat([ppredictions, ppredictions2])\n"
   ]
  },
  {
   "cell_type": "code",
   "execution_count": 11,
   "metadata": {},
   "outputs": [],
   "source": [
    "reg2 = (\n",
    "    alt.Chart(ppred_final)\n",
    "    .mark_line()\n",
    "    .encode(x=\"seconds:T\", y=\"shipment_per_resident\", color=\"type\")\n",
    ")\n",
    "ci2tex = (\n",
    "    alt.Chart(ppred_final[ppred_final[\"type\"] == \"Texas\"])\n",
    "    .mark_errorband(color=\"orange\")\n",
    "    .encode(\n",
    "        x=f\"seconds:T\",\n",
    "        y=alt.Y(\"ci_low\", title=\"\"),\n",
    "        y2=\"ci_high\",\n",
    "    )\n",
    ")\n",
    "ci2cont = (\n",
    "    alt.Chart(ppred_final[ppred_final[\"type\"] == \"Control Counties\"])\n",
    "    .mark_errorband(color=\"blue\")\n",
    "    .encode(\n",
    "        x=f\"seconds:T\",\n",
    "        y=alt.Y(\"ci_low\", title=\"\"),\n",
    "        y2=\"ci_high\",\n",
    "    )\n",
    ")\n",
    "data = pd.DataFrame({\"a\": [\"2007-01-01\"]})\n",
    "sep_line = alt.Chart(data).mark_rule(color=\"black\", strokeDash=[10, 10]).encode(x=\"a:T\")\n",
    "chart2 = ci2tex + reg2 + ci2cont + sep_line\n"
   ]
  },
  {
   "cell_type": "code",
   "execution_count": 12,
   "metadata": {},
   "outputs": [
    {
     "name": "stderr",
     "output_type": "stream",
     "text": [
      "WARN x-scale's \"zero\" is dropped as it does not work with time scale.\n"
     ]
    }
   ],
   "source": [
    "final_chart = (\n",
    "    (chart + chart2)\n",
    "    .properties(height=500, width=1000)\n",
    "    .configure_axis(labelFontSize=20, titleFontSize=20)\n",
    "    .configure_title(fontSize=30)\n",
    "    .configure_legend(titleFontSize=20, labelFontSize=18)\n",
    ")\n",
    "\n",
    "altair_saver.save(final_chart, f\"../30_results/texas_shipment_monthly.png\")\n"
   ]
  },
  {
   "cell_type": "code",
   "execution_count": 13,
   "metadata": {},
   "outputs": [
    {
     "data": {
      "text/html": [
       "\n",
       "<div id=\"altair-viz-e87e1598b3a04ed9bc7e04a0b8d87d6c\"></div>\n",
       "<script type=\"text/javascript\">\n",
       "  (function(spec, embedOpt){\n",
       "    let outputDiv = document.currentScript.previousElementSibling;\n",
       "    if (outputDiv.id !== \"altair-viz-e87e1598b3a04ed9bc7e04a0b8d87d6c\") {\n",
       "      outputDiv = document.getElementById(\"altair-viz-e87e1598b3a04ed9bc7e04a0b8d87d6c\");\n",
       "    }\n",
       "    const paths = {\n",
       "      \"vega\": \"https://cdn.jsdelivr.net/npm//vega@5?noext\",\n",
       "      \"vega-lib\": \"https://cdn.jsdelivr.net/npm//vega-lib?noext\",\n",
       "      \"vega-lite\": \"https://cdn.jsdelivr.net/npm//vega-lite@4.8.1?noext\",\n",
       "      \"vega-embed\": \"https://cdn.jsdelivr.net/npm//vega-embed@6?noext\",\n",
       "    };\n",
       "\n",
       "    function loadScript(lib) {\n",
       "      return new Promise(function(resolve, reject) {\n",
       "        var s = document.createElement('script');\n",
       "        s.src = paths[lib];\n",
       "        s.async = true;\n",
       "        s.onload = () => resolve(paths[lib]);\n",
       "        s.onerror = () => reject(`Error loading script: ${paths[lib]}`);\n",
       "        document.getElementsByTagName(\"head\")[0].appendChild(s);\n",
       "      });\n",
       "    }\n",
       "\n",
       "    function showError(err) {\n",
       "      outputDiv.innerHTML = `<div class=\"error\" style=\"color:red;\">${err}</div>`;\n",
       "      throw err;\n",
       "    }\n",
       "\n",
       "    function displayChart(vegaEmbed) {\n",
       "      vegaEmbed(outputDiv, spec, embedOpt)\n",
       "        .catch(err => showError(`Javascript Error: ${err.message}<br>This usually means there's a typo in your chart specification. See the javascript console for the full traceback.`));\n",
       "    }\n",
       "\n",
       "    if(typeof define === \"function\" && define.amd) {\n",
       "      requirejs.config({paths});\n",
       "      require([\"vega-embed\"], displayChart, err => showError(`Error loading script: ${err.message}`));\n",
       "    } else if (typeof vegaEmbed === \"function\") {\n",
       "      displayChart(vegaEmbed);\n",
       "    } else {\n",
       "      loadScript(\"vega\")\n",
       "        .then(() => loadScript(\"vega-lite\"))\n",
       "        .then(() => loadScript(\"vega-embed\"))\n",
       "        .catch(showError)\n",
       "        .then(() => displayChart(vegaEmbed));\n",
       "    }\n",
       "  })({\"config\": {\"view\": {\"continuousWidth\": 400, \"continuousHeight\": 300}, \"axis\": {\"labelFontSize\": 20, \"titleFontSize\": 20}, \"legend\": {\"labelFontSize\": 18, \"titleFontSize\": 20}, \"title\": {\"fontSize\": 30}}, \"layer\": [{\"data\": {\"name\": \"data-24d88a5ca0f27785991244e07faaf5c1\"}, \"mark\": {\"type\": \"errorband\", \"color\": \"orange\"}, \"encoding\": {\"x\": {\"type\": \"temporal\", \"field\": \"seconds\"}, \"y\": {\"type\": \"quantitative\", \"field\": \"ci_low\", \"title\": \"\"}, \"y2\": {\"field\": \"ci_high\"}}}, {\"data\": {\"name\": \"data-5d10a5f9b022490157cf9fee98173867\"}, \"mark\": {\"type\": \"errorband\", \"color\": \"blue\"}, \"encoding\": {\"x\": {\"type\": \"temporal\", \"field\": \"seconds\"}, \"y\": {\"type\": \"quantitative\", \"field\": \"ci_low\", \"title\": \"\"}, \"y2\": {\"field\": \"ci_high\"}}}, {\"data\": {\"name\": \"data-ed85aa5efa084e541e8869d88c8dd1b0\"}, \"mark\": \"line\", \"encoding\": {\"color\": {\"type\": \"nominal\", \"field\": \"type\"}, \"x\": {\"type\": \"temporal\", \"field\": \"seconds\", \"scale\": {\"zero\": false}, \"title\": \"Year\"}, \"y\": {\"type\": \"quantitative\", \"field\": \"shipment_per_resident\", \"scale\": {\"zero\": false}, \"title\": \"Opioid Shipment Per Resident (MME)\"}}, \"title\": \"Opioid Shipments per County per Month, Texas vs. Controls\"}, {\"layer\": [{\"data\": {\"name\": \"data-13113f7d4144eae6b27727a4e0a9cadf\"}, \"mark\": {\"type\": \"errorband\", \"color\": \"orange\"}, \"encoding\": {\"x\": {\"type\": \"temporal\", \"field\": \"seconds\"}, \"y\": {\"type\": \"quantitative\", \"field\": \"ci_low\", \"title\": \"\"}, \"y2\": {\"field\": \"ci_high\"}}}, {\"data\": {\"name\": \"data-f68814f645163da0ae8e7e0ec337dd89\"}, \"mark\": \"line\", \"encoding\": {\"color\": {\"type\": \"nominal\", \"field\": \"type\"}, \"x\": {\"type\": \"temporal\", \"field\": \"seconds\"}, \"y\": {\"type\": \"quantitative\", \"field\": \"shipment_per_resident\"}}}, {\"data\": {\"name\": \"data-865cf1cc072fa80cd4921975330c36dc\"}, \"mark\": {\"type\": \"errorband\", \"color\": \"blue\"}, \"encoding\": {\"x\": {\"type\": \"temporal\", \"field\": \"seconds\"}, \"y\": {\"type\": \"quantitative\", \"field\": \"ci_low\", \"title\": \"\"}, \"y2\": {\"field\": \"ci_high\"}}}, {\"data\": {\"name\": \"data-4baf03b0d276882f7f410bd4cff0cb52\"}, \"mark\": {\"type\": \"rule\", \"color\": \"black\", \"strokeDash\": [10, 10]}, \"encoding\": {\"x\": {\"type\": \"temporal\", \"field\": \"a\"}}}]}], \"height\": 500, \"width\": 1000, \"$schema\": \"https://vega.github.io/schema/vega-lite/v4.8.1.json\", \"datasets\": {\"data-24d88a5ca0f27785991244e07faaf5c1\": [{\"seconds\": \"2006-01-01T00:00:00\", \"shipment_per_resident\": 15.18025933331711, \"ci_low\": 14.28958824193828, \"ci_high\": 16.07093042469594, \"type\": \"Texas\"}, {\"seconds\": \"2006-02-01T00:00:00\", \"shipment_per_resident\": 15.511485260351122, \"ci_low\": 14.735834502369789, \"ci_high\": 16.287136018332454, \"type\": \"Texas\"}, {\"seconds\": \"2006-03-01T00:00:00\", \"shipment_per_resident\": 15.810657065414063, \"ci_low\": 15.13070035021941, \"ci_high\": 16.490613780608715, \"type\": \"Texas\"}, {\"seconds\": \"2006-04-01T00:00:00\", \"shipment_per_resident\": 16.141882992448075, \"ci_low\": 15.554033003662829, \"ci_high\": 16.729732981233322, \"type\": \"Texas\"}, {\"seconds\": \"2006-05-01T00:00:00\", \"shipment_per_resident\": 16.462424212158368, \"ci_low\": 15.942784790119568, \"ci_high\": 16.982063634197168, \"type\": \"Texas\"}, {\"seconds\": \"2006-06-01T00:00:00\", \"shipment_per_resident\": 16.79365013919238, \"ci_low\": 16.31336113448165, \"ci_high\": 17.27393914390311, \"type\": \"Texas\"}, {\"seconds\": \"2006-07-01T00:00:00\", \"shipment_per_resident\": 17.114191358902673, \"ci_low\": 16.634542152149628, \"ci_high\": 17.593840565655718, \"type\": \"Texas\"}, {\"seconds\": \"2006-08-01T00:00:00\", \"shipment_per_resident\": 17.445417285936685, \"ci_low\": 16.927593295587016, \"ci_high\": 17.963241276286354, \"type\": \"Texas\"}, {\"seconds\": \"2006-09-01T00:00:00\", \"shipment_per_resident\": 17.77664321297067, \"ci_low\": 17.188793224185577, \"ci_high\": 18.36449320175576, \"type\": \"Texas\"}, {\"seconds\": \"2006-10-01T00:00:00\", \"shipment_per_resident\": 18.09718443268099, \"ci_low\": 17.420456954207737, \"ci_high\": 18.773911911154244, \"type\": \"Texas\"}, {\"seconds\": \"2006-11-01T00:00:00\", \"shipment_per_resident\": 18.428410359714974, \"ci_low\": 17.6455873089641, \"ci_high\": 19.211233410465848, \"type\": \"Texas\"}, {\"seconds\": \"2006-12-01T00:00:00\", \"shipment_per_resident\": 18.748951579425295, \"ci_low\": 17.85445020242005, \"ci_high\": 19.64345295643054, \"type\": \"Texas\"}], \"data-5d10a5f9b022490157cf9fee98173867\": [{\"seconds\": \"2006-01-01T00:00:00\", \"shipment_per_resident\": 19.499352869027717, \"ci_low\": 18.718065826501267, \"ci_high\": 20.280639911554168, \"type\": \"Control Counties\"}, {\"seconds\": \"2006-02-01T00:00:00\", \"shipment_per_resident\": 19.83036884566195, \"ci_low\": 19.149976394844877, \"ci_high\": 20.510761296479025, \"type\": \"Control Counties\"}, {\"seconds\": \"2006-03-01T00:00:00\", \"shipment_per_resident\": 20.12935101810575, \"ci_low\": 19.532900346023354, \"ci_high\": 20.72580169018815, \"type\": \"Control Counties\"}, {\"seconds\": \"2006-04-01T00:00:00\", \"shipment_per_resident\": 20.460366994739985, \"ci_low\": 19.944711346288276, \"ci_high\": 20.976022643191694, \"type\": \"Control Counties\"}, {\"seconds\": \"2006-05-01T00:00:00\", \"shipment_per_resident\": 20.780705036644093, \"ci_low\": 20.324882959170264, \"ci_high\": 21.236527114117923, \"type\": \"Control Counties\"}, {\"seconds\": \"2006-06-01T00:00:00\", \"shipment_per_resident\": 21.111721013278327, \"ci_low\": 20.69041669603594, \"ci_high\": 21.533025330520715, \"type\": \"Control Counties\"}, {\"seconds\": \"2006-07-01T00:00:00\", \"shipment_per_resident\": 21.432059055182407, \"ci_low\": 21.011315961785108, \"ci_high\": 21.852802148579705, \"type\": \"Control Counties\"}, {\"seconds\": \"2006-08-01T00:00:00\", \"shipment_per_resident\": 21.76307503181664, \"ci_low\": 21.308845431374365, \"ci_high\": 22.217304632258916, \"type\": \"Control Counties\"}, {\"seconds\": \"2006-09-01T00:00:00\", \"shipment_per_resident\": 22.094091008450874, \"ci_low\": 21.578435359999382, \"ci_high\": 22.609746656902367, \"type\": \"Control Counties\"}, {\"seconds\": \"2006-10-01T00:00:00\", \"shipment_per_resident\": 22.414429050354983, \"ci_low\": 21.820811029778067, \"ci_high\": 23.008047070931898, \"type\": \"Control Counties\"}, {\"seconds\": \"2006-11-01T00:00:00\", \"shipment_per_resident\": 22.745445026989216, \"ci_low\": 22.058761118573166, \"ci_high\": 23.432128935405267, \"type\": \"Control Counties\"}, {\"seconds\": \"2006-12-01T00:00:00\", \"shipment_per_resident\": 23.065783068893296, \"ci_low\": 22.281136141267044, \"ci_high\": 23.850429996519548, \"type\": \"Control Counties\"}], \"data-ed85aa5efa084e541e8869d88c8dd1b0\": [{\"seconds\": \"2006-01-01T00:00:00\", \"shipment_per_resident\": 15.18025933331711, \"ci_low\": 14.28958824193828, \"ci_high\": 16.07093042469594, \"type\": \"Texas\"}, {\"seconds\": \"2006-02-01T00:00:00\", \"shipment_per_resident\": 15.511485260351122, \"ci_low\": 14.735834502369789, \"ci_high\": 16.287136018332454, \"type\": \"Texas\"}, {\"seconds\": \"2006-03-01T00:00:00\", \"shipment_per_resident\": 15.810657065414063, \"ci_low\": 15.13070035021941, \"ci_high\": 16.490613780608715, \"type\": \"Texas\"}, {\"seconds\": \"2006-04-01T00:00:00\", \"shipment_per_resident\": 16.141882992448075, \"ci_low\": 15.554033003662829, \"ci_high\": 16.729732981233322, \"type\": \"Texas\"}, {\"seconds\": \"2006-05-01T00:00:00\", \"shipment_per_resident\": 16.462424212158368, \"ci_low\": 15.942784790119568, \"ci_high\": 16.982063634197168, \"type\": \"Texas\"}, {\"seconds\": \"2006-06-01T00:00:00\", \"shipment_per_resident\": 16.79365013919238, \"ci_low\": 16.31336113448165, \"ci_high\": 17.27393914390311, \"type\": \"Texas\"}, {\"seconds\": \"2006-07-01T00:00:00\", \"shipment_per_resident\": 17.114191358902673, \"ci_low\": 16.634542152149628, \"ci_high\": 17.593840565655718, \"type\": \"Texas\"}, {\"seconds\": \"2006-08-01T00:00:00\", \"shipment_per_resident\": 17.445417285936685, \"ci_low\": 16.927593295587016, \"ci_high\": 17.963241276286354, \"type\": \"Texas\"}, {\"seconds\": \"2006-09-01T00:00:00\", \"shipment_per_resident\": 17.77664321297067, \"ci_low\": 17.188793224185577, \"ci_high\": 18.36449320175576, \"type\": \"Texas\"}, {\"seconds\": \"2006-10-01T00:00:00\", \"shipment_per_resident\": 18.09718443268099, \"ci_low\": 17.420456954207737, \"ci_high\": 18.773911911154244, \"type\": \"Texas\"}, {\"seconds\": \"2006-11-01T00:00:00\", \"shipment_per_resident\": 18.428410359714974, \"ci_low\": 17.6455873089641, \"ci_high\": 19.211233410465848, \"type\": \"Texas\"}, {\"seconds\": \"2006-12-01T00:00:00\", \"shipment_per_resident\": 18.748951579425295, \"ci_low\": 17.85445020242005, \"ci_high\": 19.64345295643054, \"type\": \"Texas\"}, {\"seconds\": \"2006-01-01T00:00:00\", \"shipment_per_resident\": 19.499352869027717, \"ci_low\": 18.718065826501267, \"ci_high\": 20.280639911554168, \"type\": \"Control Counties\"}, {\"seconds\": \"2006-02-01T00:00:00\", \"shipment_per_resident\": 19.83036884566195, \"ci_low\": 19.149976394844877, \"ci_high\": 20.510761296479025, \"type\": \"Control Counties\"}, {\"seconds\": \"2006-03-01T00:00:00\", \"shipment_per_resident\": 20.12935101810575, \"ci_low\": 19.532900346023354, \"ci_high\": 20.72580169018815, \"type\": \"Control Counties\"}, {\"seconds\": \"2006-04-01T00:00:00\", \"shipment_per_resident\": 20.460366994739985, \"ci_low\": 19.944711346288276, \"ci_high\": 20.976022643191694, \"type\": \"Control Counties\"}, {\"seconds\": \"2006-05-01T00:00:00\", \"shipment_per_resident\": 20.780705036644093, \"ci_low\": 20.324882959170264, \"ci_high\": 21.236527114117923, \"type\": \"Control Counties\"}, {\"seconds\": \"2006-06-01T00:00:00\", \"shipment_per_resident\": 21.111721013278327, \"ci_low\": 20.69041669603594, \"ci_high\": 21.533025330520715, \"type\": \"Control Counties\"}, {\"seconds\": \"2006-07-01T00:00:00\", \"shipment_per_resident\": 21.432059055182407, \"ci_low\": 21.011315961785108, \"ci_high\": 21.852802148579705, \"type\": \"Control Counties\"}, {\"seconds\": \"2006-08-01T00:00:00\", \"shipment_per_resident\": 21.76307503181664, \"ci_low\": 21.308845431374365, \"ci_high\": 22.217304632258916, \"type\": \"Control Counties\"}, {\"seconds\": \"2006-09-01T00:00:00\", \"shipment_per_resident\": 22.094091008450874, \"ci_low\": 21.578435359999382, \"ci_high\": 22.609746656902367, \"type\": \"Control Counties\"}, {\"seconds\": \"2006-10-01T00:00:00\", \"shipment_per_resident\": 22.414429050354983, \"ci_low\": 21.820811029778067, \"ci_high\": 23.008047070931898, \"type\": \"Control Counties\"}, {\"seconds\": \"2006-11-01T00:00:00\", \"shipment_per_resident\": 22.745445026989216, \"ci_low\": 22.058761118573166, \"ci_high\": 23.432128935405267, \"type\": \"Control Counties\"}, {\"seconds\": \"2006-12-01T00:00:00\", \"shipment_per_resident\": 23.065783068893296, \"ci_low\": 22.281136141267044, \"ci_high\": 23.850429996519548, \"type\": \"Control Counties\"}], \"data-13113f7d4144eae6b27727a4e0a9cadf\": [{\"seconds\": \"2007-01-01T00:00:00\", \"shipment_per_resident\": 18.40602916120391, \"ci_low\": 17.9506588911009, \"ci_high\": 18.86139943130692, \"type\": \"Texas\"}, {\"seconds\": \"2008-01-01T00:00:00\", \"shipment_per_resident\": 19.804744390609358, \"ci_low\": 19.45741274757569, \"ci_high\": 20.152076033643024, \"type\": \"Texas\"}, {\"seconds\": \"2009-01-01T00:00:00\", \"shipment_per_resident\": 21.207291716533724, \"ci_low\": 20.94443241247875, \"ci_high\": 21.4701510205887, \"type\": \"Texas\"}, {\"seconds\": \"2010-01-01T00:00:00\", \"shipment_per_resident\": 22.60600694593917, \"ci_low\": 22.375765820322894, \"ci_high\": 22.83624807155545, \"type\": \"Texas\"}, {\"seconds\": \"2011-01-01T00:00:00\", \"shipment_per_resident\": 24.004722175344618, \"ci_low\": 23.736025303376625, \"ci_high\": 24.27341904731261, \"type\": \"Texas\"}, {\"seconds\": \"2012-01-01T00:00:00\", \"shipment_per_resident\": 25.403437404750065, \"ci_low\": 25.047549623322737, \"ci_high\": 25.759325186177392, \"type\": \"Texas\"}, {\"seconds\": \"2007-02-01T00:00:00\", \"shipment_per_resident\": 18.524824153290403, \"ci_low\": 18.07914940347871, \"ci_high\": 18.970498903102097, \"type\": \"Texas\"}, {\"seconds\": \"2008-02-01T00:00:00\", \"shipment_per_resident\": 19.92353938269585, \"ci_low\": 19.58457213475466, \"ci_high\": 20.26250663063704, \"type\": \"Texas\"}, {\"seconds\": \"2009-02-01T00:00:00\", \"shipment_per_resident\": 21.326086708620217, \"ci_low\": 21.06848552259174, \"ci_high\": 21.583687894648694, \"type\": \"Texas\"}, {\"seconds\": \"2010-02-01T00:00:00\", \"shipment_per_resident\": 22.724801938025664, \"ci_low\": 22.493999081807644, \"ci_high\": 22.955604794243683, \"type\": \"Texas\"}, {\"seconds\": \"2011-02-01T00:00:00\", \"shipment_per_resident\": 24.12351716743111, \"ci_low\": 23.84883077039431, \"ci_high\": 24.39820356446791, \"type\": \"Texas\"}, {\"seconds\": \"2012-02-01T00:00:00\", \"shipment_per_resident\": 25.522232396836557, \"ci_low\": 25.15766917066136, \"ci_high\": 25.886795623011754, \"type\": \"Texas\"}, {\"seconds\": \"2007-03-01T00:00:00\", \"shipment_per_resident\": 18.632122855820135, \"ci_low\": 18.195140026217253, \"ci_high\": 19.06910568542302, \"type\": \"Texas\"}, {\"seconds\": \"2008-03-01T00:00:00\", \"shipment_per_resident\": 20.034670181744502, \"ci_low\": 19.70337121673974, \"ci_high\": 20.365969146749265, \"type\": \"Texas\"}, {\"seconds\": \"2009-03-01T00:00:00\", \"shipment_per_resident\": 21.43338541114995, \"ci_low\": 21.180195271708502, \"ci_high\": 21.686575550591396, \"type\": \"Texas\"}, {\"seconds\": \"2010-03-01T00:00:00\", \"shipment_per_resident\": 22.832100640555396, \"ci_low\": 22.60031936415223, \"ci_high\": 23.06388191695856, \"type\": \"Texas\"}, {\"seconds\": \"2011-03-01T00:00:00\", \"shipment_per_resident\": 24.230815869960843, \"ci_low\": 23.950439436651394, \"ci_high\": 24.511192303270292, \"type\": \"Texas\"}, {\"seconds\": \"2012-03-01T00:00:00\", \"shipment_per_resident\": 25.63336319588521, \"ci_low\": 25.26055806067686, \"ci_high\": 26.00616833109356, \"type\": \"Texas\"}, {\"seconds\": \"2007-04-01T00:00:00\", \"shipment_per_resident\": 18.750917847906628, \"ci_low\": 18.323481165530286, \"ci_high\": 19.17835453028297, \"type\": \"Texas\"}, {\"seconds\": \"2008-04-01T00:00:00\", \"shipment_per_resident\": 20.153465173830995, \"ci_low\": 19.830183623666077, \"ci_high\": 20.476746723995912, \"type\": \"Texas\"}, {\"seconds\": \"2009-04-01T00:00:00\", \"shipment_per_resident\": 21.55218040323644, \"ci_low\": 21.303478114600978, \"ci_high\": 21.800882691871905, \"type\": \"Texas\"}, {\"seconds\": \"2010-04-01T00:00:00\", \"shipment_per_resident\": 22.95089563264188, \"ci_low\": 22.717516612694602, \"ci_high\": 23.18427465258916, \"type\": \"Texas\"}, {\"seconds\": \"2011-04-01T00:00:00\", \"shipment_per_resident\": 24.349610862047328, \"ci_low\": 24.062644354569315, \"ci_high\": 24.63657736952534, \"type\": \"Texas\"}, {\"seconds\": \"2012-04-01T00:00:00\", \"shipment_per_resident\": 25.752158187971695, \"ci_low\": 25.370417001711726, \"ci_high\": 26.133899374231664, \"type\": \"Texas\"}, {\"seconds\": \"2007-05-01T00:00:00\", \"shipment_per_resident\": 18.865880743474193, \"ci_low\": 18.447600125219278, \"ci_high\": 19.284161361729108, \"type\": \"Texas\"}, {\"seconds\": \"2008-05-01T00:00:00\", \"shipment_per_resident\": 20.26842806939856, \"ci_low\": 19.95271545733586, \"ci_high\": 20.58414068146126, \"type\": \"Texas\"}, {\"seconds\": \"2009-05-01T00:00:00\", \"shipment_per_resident\": 21.667143298804007, \"ci_low\": 21.42236725169492, \"ci_high\": 21.911919345913095, \"type\": \"Texas\"}, {\"seconds\": \"2010-05-01T00:00:00\", \"shipment_per_resident\": 23.065858528209453, \"ci_low\": 22.83042861518905, \"ci_high\": 23.301288441229858, \"type\": \"Texas\"}, {\"seconds\": \"2011-05-01T00:00:00\", \"shipment_per_resident\": 24.4645737576149, \"ci_low\": 24.17095794480028, \"ci_high\": 24.758189570429522, \"type\": \"Texas\"}, {\"seconds\": \"2012-05-01T00:00:00\", \"shipment_per_resident\": 25.867121083539267, \"ci_low\": 25.4766166188024, \"ci_high\": 26.257625548276135, \"type\": \"Texas\"}, {\"seconds\": \"2007-06-01T00:00:00\", \"shipment_per_resident\": 18.984675735560685, \"ci_low\": 18.575765674040245, \"ci_high\": 19.393585797081126, \"type\": \"Texas\"}, {\"seconds\": \"2008-06-01T00:00:00\", \"shipment_per_resident\": 20.387223061485052, \"ci_low\": 20.079120726844373, \"ci_high\": 20.69532539612573, \"type\": \"Texas\"}, {\"seconds\": \"2009-06-01T00:00:00\", \"shipment_per_resident\": 21.7859382908905, \"ci_low\": 21.544767120075523, \"ci_high\": 22.027109461705475, \"type\": \"Texas\"}, {\"seconds\": \"2010-06-01T00:00:00\", \"shipment_per_resident\": 23.184653520295946, \"ci_low\": 22.946596616306504, \"ci_high\": 23.422710424285388, \"type\": \"Texas\"}, {\"seconds\": \"2011-06-01T00:00:00\", \"shipment_per_resident\": 24.583368749701393, \"ci_low\": 24.282620156478814, \"ci_high\": 24.88411734292397, \"type\": \"Texas\"}, {\"seconds\": \"2012-06-01T00:00:00\", \"shipment_per_resident\": 25.98591607562576, \"ci_low\": 25.586244910590484, \"ci_high\": 26.385587240661035, \"type\": \"Texas\"}, {\"seconds\": \"2007-07-01T00:00:00\", \"shipment_per_resident\": 19.099638631128258, \"ci_low\": 18.699703029218735, \"ci_high\": 19.49957423303778, \"type\": \"Texas\"}, {\"seconds\": \"2008-07-01T00:00:00\", \"shipment_per_resident\": 20.502185957052625, \"ci_low\": 20.2012290989405, \"ci_high\": 20.803142815164748, \"type\": \"Texas\"}, {\"seconds\": \"2009-07-01T00:00:00\", \"shipment_per_resident\": 21.90090118645807, \"ci_low\": 21.662761505612227, \"ci_high\": 22.139040867303915, \"type\": \"Texas\"}, {\"seconds\": \"2010-07-01T00:00:00\", \"shipment_per_resident\": 23.299616415863518, \"ci_low\": 23.058541623266795, \"ci_high\": 23.54069120846024, \"type\": \"Texas\"}, {\"seconds\": \"2011-07-01T00:00:00\", \"shipment_per_resident\": 24.698331645268965, \"ci_low\": 24.390444207166517, \"ci_high\": 25.006219083371413, \"type\": \"Texas\"}, {\"seconds\": \"2012-07-01T00:00:00\", \"shipment_per_resident\": 26.100878971193332, \"ci_low\": 25.69223617736456, \"ci_high\": 26.509521765022104, \"type\": \"Texas\"}, {\"seconds\": \"2007-08-01T00:00:00\", \"shipment_per_resident\": 19.21843362321475, \"ci_low\": 18.827667852948927, \"ci_high\": 19.609199393480573, \"type\": \"Texas\"}, {\"seconds\": \"2008-08-01T00:00:00\", \"shipment_per_resident\": 20.62098094913911, \"ci_low\": 20.32716423012522, \"ci_high\": 20.914797668153, \"type\": \"Texas\"}, {\"seconds\": \"2009-08-01T00:00:00\", \"shipment_per_resident\": 22.019696178544557, \"ci_low\": 21.784198053883117, \"ci_high\": 22.255194303205997, \"type\": \"Texas\"}, {\"seconds\": \"2010-08-01T00:00:00\", \"shipment_per_resident\": 23.418411407950003, \"ci_low\": 23.173745227308764, \"ci_high\": 23.663077588591243, \"type\": \"Texas\"}, {\"seconds\": \"2011-08-01T00:00:00\", \"shipment_per_resident\": 24.81712663735545, \"ci_low\": 24.50163529981409, \"ci_high\": 25.13261797489681, \"type\": \"Texas\"}, {\"seconds\": \"2012-08-01T00:00:00\", \"shipment_per_resident\": 26.219673963279817, \"ci_low\": 25.801663347551962, \"ci_high\": 26.637684579007672, \"type\": \"Texas\"}, {\"seconds\": \"2007-09-01T00:00:00\", \"shipment_per_resident\": 19.337228615301235, \"ci_low\": 18.955519679448017, \"ci_high\": 19.718937551154454, \"type\": \"Texas\"}, {\"seconds\": \"2008-09-01T00:00:00\", \"shipment_per_resident\": 20.739775941225602, \"ci_low\": 20.452833575476838, \"ci_high\": 21.026718306974367, \"type\": \"Texas\"}, {\"seconds\": \"2009-09-01T00:00:00\", \"shipment_per_resident\": 22.13849117063105, \"ci_low\": 21.905118831210125, \"ci_high\": 22.371863510051973, \"type\": \"Texas\"}, {\"seconds\": \"2010-09-01T00:00:00\", \"shipment_per_resident\": 23.537206400036496, \"ci_low\": 23.28848879463703, \"ci_high\": 23.785924005435962, \"type\": \"Texas\"}, {\"seconds\": \"2011-09-01T00:00:00\", \"shipment_per_resident\": 24.935921629441943, \"ci_low\": 24.61261169060919, \"ci_high\": 25.259231568274696, \"type\": \"Texas\"}, {\"seconds\": \"2012-09-01T00:00:00\", \"shipment_per_resident\": 26.33846895536631, \"ci_low\": 25.91099820813764, \"ci_high\": 26.765939702594977, \"type\": \"Texas\"}, {\"seconds\": \"2007-10-01T00:00:00\", \"shipment_per_resident\": 19.452191510868808, \"ci_low\": 19.07913191263111, \"ci_high\": 19.825251109106507, \"type\": \"Texas\"}, {\"seconds\": \"2008-10-01T00:00:00\", \"shipment_per_resident\": 20.854738836793175, \"ci_low\": 20.57417759934193, \"ci_high\": 21.13530007424442, \"type\": \"Texas\"}, {\"seconds\": \"2009-10-01T00:00:00\", \"shipment_per_resident\": 22.25345406619862, \"ci_low\": 22.02163446471314, \"ci_high\": 22.4852736676841, \"type\": \"Texas\"}, {\"seconds\": \"2010-10-01T00:00:00\", \"shipment_per_resident\": 23.652169295604068, \"ci_low\": 23.399113732161677, \"ci_high\": 23.90522485904646, \"type\": \"Texas\"}, {\"seconds\": \"2011-10-01T00:00:00\", \"shipment_per_resident\": 25.050884525009515, \"ci_low\": 24.719818097190323, \"ci_high\": 25.381950952828706, \"type\": \"Texas\"}, {\"seconds\": \"2012-10-01T00:00:00\", \"shipment_per_resident\": 26.45343185093388, \"ci_low\": 26.016723896588243, \"ci_high\": 26.89013980527952, \"type\": \"Texas\"}, {\"seconds\": \"2007-11-01T00:00:00\", \"shipment_per_resident\": 19.5709865029553, \"ci_low\": 19.20673668886089, \"ci_high\": 19.93523631704971, \"type\": \"Texas\"}, {\"seconds\": \"2008-11-01T00:00:00\", \"shipment_per_resident\": 20.973533828879667, \"ci_low\": 20.699265887659113, \"ci_high\": 21.24780177010022, \"type\": \"Texas\"}, {\"seconds\": \"2009-11-01T00:00:00\", \"shipment_per_resident\": 22.372249058285114, \"ci_low\": 22.14150190564309, \"ci_high\": 22.602996210927138, \"type\": \"Texas\"}, {\"seconds\": \"2010-11-01T00:00:00\", \"shipment_per_resident\": 23.77096428769056, \"ci_low\": 23.513017269473657, \"ci_high\": 24.028911305907464, \"type\": \"Texas\"}, {\"seconds\": \"2011-11-01T00:00:00\", \"shipment_per_resident\": 25.169679517096007, \"ci_low\": 24.830415385709962, \"ci_high\": 25.508943648482052, \"type\": \"Texas\"}, {\"seconds\": \"2012-11-01T00:00:00\", \"shipment_per_resident\": 26.572226843020367, \"ci_low\": 26.125894185694484, \"ci_high\": 27.01855950034625, \"type\": \"Texas\"}, {\"seconds\": \"2007-12-01T00:00:00\", \"shipment_per_resident\": 19.685949398522872, \"ci_low\": 19.330092449328177, \"ci_high\": 20.041806347717568, \"type\": \"Texas\"}, {\"seconds\": \"2008-12-01T00:00:00\", \"shipment_per_resident\": 21.088496724447232, \"ci_low\": 20.820008215614358, \"ci_high\": 21.356985233280106, \"type\": \"Texas\"}, {\"seconds\": \"2009-12-01T00:00:00\", \"shipment_per_resident\": 22.48721195385268, \"ci_low\": 22.256980730136693, \"ci_high\": 22.717443177568665, \"type\": \"Texas\"}, {\"seconds\": \"2010-12-01T00:00:00\", \"shipment_per_resident\": 23.885927183258126, \"ci_low\": 23.62287239000059, \"ci_high\": 24.14898197651566, \"type\": \"Texas\"}, {\"seconds\": \"2011-12-01T00:00:00\", \"shipment_per_resident\": 25.284642412663572, \"ci_low\": 24.937280493303778, \"ci_high\": 25.632004332023367, \"type\": \"Texas\"}, {\"seconds\": \"2012-12-01T00:00:00\", \"shipment_per_resident\": 26.68718973858794, \"ci_low\": 26.23147060606949, \"ci_high\": 27.14290887110639, \"type\": \"Texas\"}], \"data-f68814f645163da0ae8e7e0ec337dd89\": [{\"seconds\": \"2007-01-01T00:00:00\", \"shipment_per_resident\": 18.40602916120391, \"ci_low\": 17.9506588911009, \"ci_high\": 18.86139943130692, \"type\": \"Texas\"}, {\"seconds\": \"2008-01-01T00:00:00\", \"shipment_per_resident\": 19.804744390609358, \"ci_low\": 19.45741274757569, \"ci_high\": 20.152076033643024, \"type\": \"Texas\"}, {\"seconds\": \"2009-01-01T00:00:00\", \"shipment_per_resident\": 21.207291716533724, \"ci_low\": 20.94443241247875, \"ci_high\": 21.4701510205887, \"type\": \"Texas\"}, {\"seconds\": \"2010-01-01T00:00:00\", \"shipment_per_resident\": 22.60600694593917, \"ci_low\": 22.375765820322894, \"ci_high\": 22.83624807155545, \"type\": \"Texas\"}, {\"seconds\": \"2011-01-01T00:00:00\", \"shipment_per_resident\": 24.004722175344618, \"ci_low\": 23.736025303376625, \"ci_high\": 24.27341904731261, \"type\": \"Texas\"}, {\"seconds\": \"2012-01-01T00:00:00\", \"shipment_per_resident\": 25.403437404750065, \"ci_low\": 25.047549623322737, \"ci_high\": 25.759325186177392, \"type\": \"Texas\"}, {\"seconds\": \"2007-02-01T00:00:00\", \"shipment_per_resident\": 18.524824153290403, \"ci_low\": 18.07914940347871, \"ci_high\": 18.970498903102097, \"type\": \"Texas\"}, {\"seconds\": \"2008-02-01T00:00:00\", \"shipment_per_resident\": 19.92353938269585, \"ci_low\": 19.58457213475466, \"ci_high\": 20.26250663063704, \"type\": \"Texas\"}, {\"seconds\": \"2009-02-01T00:00:00\", \"shipment_per_resident\": 21.326086708620217, \"ci_low\": 21.06848552259174, \"ci_high\": 21.583687894648694, \"type\": \"Texas\"}, {\"seconds\": \"2010-02-01T00:00:00\", \"shipment_per_resident\": 22.724801938025664, \"ci_low\": 22.493999081807644, \"ci_high\": 22.955604794243683, \"type\": \"Texas\"}, {\"seconds\": \"2011-02-01T00:00:00\", \"shipment_per_resident\": 24.12351716743111, \"ci_low\": 23.84883077039431, \"ci_high\": 24.39820356446791, \"type\": \"Texas\"}, {\"seconds\": \"2012-02-01T00:00:00\", \"shipment_per_resident\": 25.522232396836557, \"ci_low\": 25.15766917066136, \"ci_high\": 25.886795623011754, \"type\": \"Texas\"}, {\"seconds\": \"2007-03-01T00:00:00\", \"shipment_per_resident\": 18.632122855820135, \"ci_low\": 18.195140026217253, \"ci_high\": 19.06910568542302, \"type\": \"Texas\"}, {\"seconds\": \"2008-03-01T00:00:00\", \"shipment_per_resident\": 20.034670181744502, \"ci_low\": 19.70337121673974, \"ci_high\": 20.365969146749265, \"type\": \"Texas\"}, {\"seconds\": \"2009-03-01T00:00:00\", \"shipment_per_resident\": 21.43338541114995, \"ci_low\": 21.180195271708502, \"ci_high\": 21.686575550591396, \"type\": \"Texas\"}, {\"seconds\": \"2010-03-01T00:00:00\", \"shipment_per_resident\": 22.832100640555396, \"ci_low\": 22.60031936415223, \"ci_high\": 23.06388191695856, \"type\": \"Texas\"}, {\"seconds\": \"2011-03-01T00:00:00\", \"shipment_per_resident\": 24.230815869960843, \"ci_low\": 23.950439436651394, \"ci_high\": 24.511192303270292, \"type\": \"Texas\"}, {\"seconds\": \"2012-03-01T00:00:00\", \"shipment_per_resident\": 25.63336319588521, \"ci_low\": 25.26055806067686, \"ci_high\": 26.00616833109356, \"type\": \"Texas\"}, {\"seconds\": \"2007-04-01T00:00:00\", \"shipment_per_resident\": 18.750917847906628, \"ci_low\": 18.323481165530286, \"ci_high\": 19.17835453028297, \"type\": \"Texas\"}, {\"seconds\": \"2008-04-01T00:00:00\", \"shipment_per_resident\": 20.153465173830995, \"ci_low\": 19.830183623666077, \"ci_high\": 20.476746723995912, \"type\": \"Texas\"}, {\"seconds\": \"2009-04-01T00:00:00\", \"shipment_per_resident\": 21.55218040323644, \"ci_low\": 21.303478114600978, \"ci_high\": 21.800882691871905, \"type\": \"Texas\"}, {\"seconds\": \"2010-04-01T00:00:00\", \"shipment_per_resident\": 22.95089563264188, \"ci_low\": 22.717516612694602, \"ci_high\": 23.18427465258916, \"type\": \"Texas\"}, {\"seconds\": \"2011-04-01T00:00:00\", \"shipment_per_resident\": 24.349610862047328, \"ci_low\": 24.062644354569315, \"ci_high\": 24.63657736952534, \"type\": \"Texas\"}, {\"seconds\": \"2012-04-01T00:00:00\", \"shipment_per_resident\": 25.752158187971695, \"ci_low\": 25.370417001711726, \"ci_high\": 26.133899374231664, \"type\": \"Texas\"}, {\"seconds\": \"2007-05-01T00:00:00\", \"shipment_per_resident\": 18.865880743474193, \"ci_low\": 18.447600125219278, \"ci_high\": 19.284161361729108, \"type\": \"Texas\"}, {\"seconds\": \"2008-05-01T00:00:00\", \"shipment_per_resident\": 20.26842806939856, \"ci_low\": 19.95271545733586, \"ci_high\": 20.58414068146126, \"type\": \"Texas\"}, {\"seconds\": \"2009-05-01T00:00:00\", \"shipment_per_resident\": 21.667143298804007, \"ci_low\": 21.42236725169492, \"ci_high\": 21.911919345913095, \"type\": \"Texas\"}, {\"seconds\": \"2010-05-01T00:00:00\", \"shipment_per_resident\": 23.065858528209453, \"ci_low\": 22.83042861518905, \"ci_high\": 23.301288441229858, \"type\": \"Texas\"}, {\"seconds\": \"2011-05-01T00:00:00\", \"shipment_per_resident\": 24.4645737576149, \"ci_low\": 24.17095794480028, \"ci_high\": 24.758189570429522, \"type\": \"Texas\"}, {\"seconds\": \"2012-05-01T00:00:00\", \"shipment_per_resident\": 25.867121083539267, \"ci_low\": 25.4766166188024, \"ci_high\": 26.257625548276135, \"type\": \"Texas\"}, {\"seconds\": \"2007-06-01T00:00:00\", \"shipment_per_resident\": 18.984675735560685, \"ci_low\": 18.575765674040245, \"ci_high\": 19.393585797081126, \"type\": \"Texas\"}, {\"seconds\": \"2008-06-01T00:00:00\", \"shipment_per_resident\": 20.387223061485052, \"ci_low\": 20.079120726844373, \"ci_high\": 20.69532539612573, \"type\": \"Texas\"}, {\"seconds\": \"2009-06-01T00:00:00\", \"shipment_per_resident\": 21.7859382908905, \"ci_low\": 21.544767120075523, \"ci_high\": 22.027109461705475, \"type\": \"Texas\"}, {\"seconds\": \"2010-06-01T00:00:00\", \"shipment_per_resident\": 23.184653520295946, \"ci_low\": 22.946596616306504, \"ci_high\": 23.422710424285388, \"type\": \"Texas\"}, {\"seconds\": \"2011-06-01T00:00:00\", \"shipment_per_resident\": 24.583368749701393, \"ci_low\": 24.282620156478814, \"ci_high\": 24.88411734292397, \"type\": \"Texas\"}, {\"seconds\": \"2012-06-01T00:00:00\", \"shipment_per_resident\": 25.98591607562576, \"ci_low\": 25.586244910590484, \"ci_high\": 26.385587240661035, \"type\": \"Texas\"}, {\"seconds\": \"2007-07-01T00:00:00\", \"shipment_per_resident\": 19.099638631128258, \"ci_low\": 18.699703029218735, \"ci_high\": 19.49957423303778, \"type\": \"Texas\"}, {\"seconds\": \"2008-07-01T00:00:00\", \"shipment_per_resident\": 20.502185957052625, \"ci_low\": 20.2012290989405, \"ci_high\": 20.803142815164748, \"type\": \"Texas\"}, {\"seconds\": \"2009-07-01T00:00:00\", \"shipment_per_resident\": 21.90090118645807, \"ci_low\": 21.662761505612227, \"ci_high\": 22.139040867303915, \"type\": \"Texas\"}, {\"seconds\": \"2010-07-01T00:00:00\", \"shipment_per_resident\": 23.299616415863518, \"ci_low\": 23.058541623266795, \"ci_high\": 23.54069120846024, \"type\": \"Texas\"}, {\"seconds\": \"2011-07-01T00:00:00\", \"shipment_per_resident\": 24.698331645268965, \"ci_low\": 24.390444207166517, \"ci_high\": 25.006219083371413, \"type\": \"Texas\"}, {\"seconds\": \"2012-07-01T00:00:00\", \"shipment_per_resident\": 26.100878971193332, \"ci_low\": 25.69223617736456, \"ci_high\": 26.509521765022104, \"type\": \"Texas\"}, {\"seconds\": \"2007-08-01T00:00:00\", \"shipment_per_resident\": 19.21843362321475, \"ci_low\": 18.827667852948927, \"ci_high\": 19.609199393480573, \"type\": \"Texas\"}, {\"seconds\": \"2008-08-01T00:00:00\", \"shipment_per_resident\": 20.62098094913911, \"ci_low\": 20.32716423012522, \"ci_high\": 20.914797668153, \"type\": \"Texas\"}, {\"seconds\": \"2009-08-01T00:00:00\", \"shipment_per_resident\": 22.019696178544557, \"ci_low\": 21.784198053883117, \"ci_high\": 22.255194303205997, \"type\": \"Texas\"}, {\"seconds\": \"2010-08-01T00:00:00\", \"shipment_per_resident\": 23.418411407950003, \"ci_low\": 23.173745227308764, \"ci_high\": 23.663077588591243, \"type\": \"Texas\"}, {\"seconds\": \"2011-08-01T00:00:00\", \"shipment_per_resident\": 24.81712663735545, \"ci_low\": 24.50163529981409, \"ci_high\": 25.13261797489681, \"type\": \"Texas\"}, {\"seconds\": \"2012-08-01T00:00:00\", \"shipment_per_resident\": 26.219673963279817, \"ci_low\": 25.801663347551962, \"ci_high\": 26.637684579007672, \"type\": \"Texas\"}, {\"seconds\": \"2007-09-01T00:00:00\", \"shipment_per_resident\": 19.337228615301235, \"ci_low\": 18.955519679448017, \"ci_high\": 19.718937551154454, \"type\": \"Texas\"}, {\"seconds\": \"2008-09-01T00:00:00\", \"shipment_per_resident\": 20.739775941225602, \"ci_low\": 20.452833575476838, \"ci_high\": 21.026718306974367, \"type\": \"Texas\"}, {\"seconds\": \"2009-09-01T00:00:00\", \"shipment_per_resident\": 22.13849117063105, \"ci_low\": 21.905118831210125, \"ci_high\": 22.371863510051973, \"type\": \"Texas\"}, {\"seconds\": \"2010-09-01T00:00:00\", \"shipment_per_resident\": 23.537206400036496, \"ci_low\": 23.28848879463703, \"ci_high\": 23.785924005435962, \"type\": \"Texas\"}, {\"seconds\": \"2011-09-01T00:00:00\", \"shipment_per_resident\": 24.935921629441943, \"ci_low\": 24.61261169060919, \"ci_high\": 25.259231568274696, \"type\": \"Texas\"}, {\"seconds\": \"2012-09-01T00:00:00\", \"shipment_per_resident\": 26.33846895536631, \"ci_low\": 25.91099820813764, \"ci_high\": 26.765939702594977, \"type\": \"Texas\"}, {\"seconds\": \"2007-10-01T00:00:00\", \"shipment_per_resident\": 19.452191510868808, \"ci_low\": 19.07913191263111, \"ci_high\": 19.825251109106507, \"type\": \"Texas\"}, {\"seconds\": \"2008-10-01T00:00:00\", \"shipment_per_resident\": 20.854738836793175, \"ci_low\": 20.57417759934193, \"ci_high\": 21.13530007424442, \"type\": \"Texas\"}, {\"seconds\": \"2009-10-01T00:00:00\", \"shipment_per_resident\": 22.25345406619862, \"ci_low\": 22.02163446471314, \"ci_high\": 22.4852736676841, \"type\": \"Texas\"}, {\"seconds\": \"2010-10-01T00:00:00\", \"shipment_per_resident\": 23.652169295604068, \"ci_low\": 23.399113732161677, \"ci_high\": 23.90522485904646, \"type\": \"Texas\"}, {\"seconds\": \"2011-10-01T00:00:00\", \"shipment_per_resident\": 25.050884525009515, \"ci_low\": 24.719818097190323, \"ci_high\": 25.381950952828706, \"type\": \"Texas\"}, {\"seconds\": \"2012-10-01T00:00:00\", \"shipment_per_resident\": 26.45343185093388, \"ci_low\": 26.016723896588243, \"ci_high\": 26.89013980527952, \"type\": \"Texas\"}, {\"seconds\": \"2007-11-01T00:00:00\", \"shipment_per_resident\": 19.5709865029553, \"ci_low\": 19.20673668886089, \"ci_high\": 19.93523631704971, \"type\": \"Texas\"}, {\"seconds\": \"2008-11-01T00:00:00\", \"shipment_per_resident\": 20.973533828879667, \"ci_low\": 20.699265887659113, \"ci_high\": 21.24780177010022, \"type\": \"Texas\"}, {\"seconds\": \"2009-11-01T00:00:00\", \"shipment_per_resident\": 22.372249058285114, \"ci_low\": 22.14150190564309, \"ci_high\": 22.602996210927138, \"type\": \"Texas\"}, {\"seconds\": \"2010-11-01T00:00:00\", \"shipment_per_resident\": 23.77096428769056, \"ci_low\": 23.513017269473657, \"ci_high\": 24.028911305907464, \"type\": \"Texas\"}, {\"seconds\": \"2011-11-01T00:00:00\", \"shipment_per_resident\": 25.169679517096007, \"ci_low\": 24.830415385709962, \"ci_high\": 25.508943648482052, \"type\": \"Texas\"}, {\"seconds\": \"2012-11-01T00:00:00\", \"shipment_per_resident\": 26.572226843020367, \"ci_low\": 26.125894185694484, \"ci_high\": 27.01855950034625, \"type\": \"Texas\"}, {\"seconds\": \"2007-12-01T00:00:00\", \"shipment_per_resident\": 19.685949398522872, \"ci_low\": 19.330092449328177, \"ci_high\": 20.041806347717568, \"type\": \"Texas\"}, {\"seconds\": \"2008-12-01T00:00:00\", \"shipment_per_resident\": 21.088496724447232, \"ci_low\": 20.820008215614358, \"ci_high\": 21.356985233280106, \"type\": \"Texas\"}, {\"seconds\": \"2009-12-01T00:00:00\", \"shipment_per_resident\": 22.48721195385268, \"ci_low\": 22.256980730136693, \"ci_high\": 22.717443177568665, \"type\": \"Texas\"}, {\"seconds\": \"2010-12-01T00:00:00\", \"shipment_per_resident\": 23.885927183258126, \"ci_low\": 23.62287239000059, \"ci_high\": 24.14898197651566, \"type\": \"Texas\"}, {\"seconds\": \"2011-12-01T00:00:00\", \"shipment_per_resident\": 25.284642412663572, \"ci_low\": 24.937280493303778, \"ci_high\": 25.632004332023367, \"type\": \"Texas\"}, {\"seconds\": \"2012-12-01T00:00:00\", \"shipment_per_resident\": 26.68718973858794, \"ci_low\": 26.23147060606949, \"ci_high\": 27.14290887110639, \"type\": \"Texas\"}, {\"seconds\": \"2007-01-01T00:00:00\", \"shipment_per_resident\": 22.498031995810393, \"ci_low\": 22.024015469027372, \"ci_high\": 22.972048522593415, \"type\": \"Control Counties\"}, {\"seconds\": \"2008-01-01T00:00:00\", \"shipment_per_resident\": 25.14654432281415, \"ci_low\": 24.78499033064126, \"ci_high\": 25.50809831498704, \"type\": \"Control Counties\"}, {\"seconds\": \"2009-01-01T00:00:00\", \"shipment_per_resident\": 27.802312847974093, \"ci_low\": 27.52869012264244, \"ci_high\": 28.075935573305745, \"type\": \"Control Counties\"}, {\"seconds\": \"2010-01-01T00:00:00\", \"shipment_per_resident\": 30.45082517497785, \"ci_low\": 30.211156259696313, \"ci_high\": 30.69049409025939, \"type\": \"Control Counties\"}, {\"seconds\": \"2011-01-01T00:00:00\", \"shipment_per_resident\": 33.09933750198162, \"ci_low\": 32.81963817514862, \"ci_high\": 33.37903682881463, \"type\": \"Control Counties\"}, {\"seconds\": \"2012-01-01T00:00:00\", \"shipment_per_resident\": 35.74784982898538, \"ci_low\": 35.377389346269965, \"ci_high\": 36.118310311700796, \"type\": \"Control Counties\"}, {\"seconds\": \"2007-02-01T00:00:00\", \"shipment_per_resident\": 22.722974138651807, \"ci_low\": 22.259050139105597, \"ci_high\": 23.186898138198018, \"type\": \"Control Counties\"}, {\"seconds\": \"2008-02-01T00:00:00\", \"shipment_per_resident\": 25.371486465655565, \"ci_low\": 25.0186393693226, \"ci_high\": 25.72433356198853, \"type\": \"Control Counties\"}, {\"seconds\": \"2009-02-01T00:00:00\", \"shipment_per_resident\": 28.027254990815507, \"ci_low\": 27.759105690096707, \"ci_high\": 28.295404291534307, \"type\": \"Control Counties\"}, {\"seconds\": \"2010-02-01T00:00:00\", \"shipment_per_resident\": 30.675767317819265, \"ci_low\": 30.43551367049372, \"ci_high\": 30.91602096514481, \"type\": \"Control Counties\"}, {\"seconds\": \"2011-02-01T00:00:00\", \"shipment_per_resident\": 33.32427964482304, \"ci_low\": 33.038345537073056, \"ci_high\": 33.61021375257302, \"type\": \"Control Counties\"}, {\"seconds\": \"2012-02-01T00:00:00\", \"shipment_per_resident\": 35.972791971826794, \"ci_low\": 35.59330080692224, \"ci_high\": 36.35228313673135, \"type\": \"Control Counties\"}, {\"seconds\": \"2007-03-01T00:00:00\", \"shipment_per_resident\": 22.926147687024695, \"ci_low\": 22.471271519756886, \"ci_high\": 23.381023854292504, \"type\": \"Control Counties\"}, {\"seconds\": \"2008-03-01T00:00:00\", \"shipment_per_resident\": 25.581916212184638, \"ci_low\": 25.237051395509713, \"ci_high\": 25.926781028859562, \"type\": \"Control Counties\"}, {\"seconds\": \"2009-03-01T00:00:00\", \"shipment_per_resident\": 28.230428539188395, \"ci_low\": 27.96687090621768, \"ci_high\": 28.49398617215911, \"type\": \"Control Counties\"}, {\"seconds\": \"2010-03-01T00:00:00\", \"shipment_per_resident\": 30.878940866192167, \"ci_low\": 30.63766873485844, \"ci_high\": 31.120212997525893, \"type\": \"Control Counties\"}, {\"seconds\": \"2011-03-01T00:00:00\", \"shipment_per_resident\": 33.527453193195925, \"ci_low\": 33.23559605663111, \"ci_high\": 33.81931032976074, \"type\": \"Control Counties\"}, {\"seconds\": \"2012-03-01T00:00:00\", \"shipment_per_resident\": 36.18322171835587, \"ci_low\": 35.79515115916393, \"ci_high\": 36.571292277547805, \"type\": \"Control Counties\"}, {\"seconds\": \"2007-04-01T00:00:00\", \"shipment_per_resident\": 23.15108982986611, \"ci_low\": 22.70615070032249, \"ci_high\": 23.59602895940973, \"type\": \"Control Counties\"}, {\"seconds\": \"2008-04-01T00:00:00\", \"shipment_per_resident\": 25.80685835502605, \"ci_low\": 25.470339245977815, \"ci_high\": 26.143377464074288, \"type\": \"Control Counties\"}, {\"seconds\": \"2009-04-01T00:00:00\", \"shipment_per_resident\": 28.45537068202981, \"ci_low\": 28.196484665963933, \"ci_high\": 28.714256698095685, \"type\": \"Control Counties\"}, {\"seconds\": \"2010-04-01T00:00:00\", \"shipment_per_resident\": 31.10388300903358, \"ci_low\": 30.860947710613203, \"ci_high\": 31.346818307453958, \"type\": \"Control Counties\"}, {\"seconds\": \"2011-04-01T00:00:00\", \"shipment_per_resident\": 33.75239533603734, \"ci_low\": 33.45367827849454, \"ci_high\": 34.051112393580134, \"type\": \"Control Counties\"}, {\"seconds\": \"2012-04-01T00:00:00\", \"shipment_per_resident\": 36.40816386119728, \"ci_low\": 36.01079134234581, \"ci_high\": 36.80553638004875, \"type\": \"Control Counties\"}, {\"seconds\": \"2007-05-01T00:00:00\", \"shipment_per_resident\": 23.368775774551352, \"ci_low\": 22.933367626713817, \"ci_high\": 23.804183922388887, \"type\": \"Control Counties\"}, {\"seconds\": \"2008-05-01T00:00:00\", \"shipment_per_resident\": 26.024544299711295, \"ci_low\": 25.695904057568104, \"ci_high\": 26.353184541854485, \"type\": \"Control Counties\"}, {\"seconds\": \"2009-05-01T00:00:00\", \"shipment_per_resident\": 28.673056626715052, \"ci_low\": 28.41825762179997, \"ci_high\": 28.927855631630134, \"type\": \"Control Counties\"}, {\"seconds\": \"2010-05-01T00:00:00\", \"shipment_per_resident\": 31.321568953718824, \"ci_low\": 31.076498783359817, \"ci_high\": 31.56663912407783, \"type\": \"Control Counties\"}, {\"seconds\": \"2011-05-01T00:00:00\", \"shipment_per_resident\": 33.97008128072258, \"ci_low\": 33.664442645667776, \"ci_high\": 34.27571991577739, \"type\": \"Control Counties\"}, {\"seconds\": \"2012-05-01T00:00:00\", \"shipment_per_resident\": 36.625849805882524, \"ci_low\": 36.21935517454462, \"ci_high\": 37.03234443722043, \"type\": \"Control Counties\"}, {\"seconds\": \"2007-06-01T00:00:00\", \"shipment_per_resident\": 23.593717917392766, \"ci_low\": 23.16806402680242, \"ci_high\": 24.019371807983113, \"type\": \"Control Counties\"}, {\"seconds\": \"2008-06-01T00:00:00\", \"shipment_per_resident\": 26.24948644255271, \"ci_low\": 25.928768099374576, \"ci_high\": 26.57020478573084, \"type\": \"Control Counties\"}, {\"seconds\": \"2009-06-01T00:00:00\", \"shipment_per_resident\": 28.897998769556466, \"ci_low\": 28.646952251469383, \"ci_high\": 29.14904528764355, \"type\": \"Control Counties\"}, {\"seconds\": \"2010-06-01T00:00:00\", \"shipment_per_resident\": 31.546511096560238, \"ci_low\": 31.298706366620177, \"ci_high\": 31.7943158265003, \"type\": \"Control Counties\"}, {\"seconds\": \"2011-06-01T00:00:00\", \"shipment_per_resident\": 34.195023423563995, \"ci_low\": 33.88195993884887, \"ci_high\": 34.50808690827912, \"type\": \"Control Counties\"}, {\"seconds\": \"2012-06-01T00:00:00\", \"shipment_per_resident\": 36.85079194872394, \"ci_low\": 36.434755263978516, \"ci_high\": 37.26682863346936, \"type\": \"Control Counties\"}, {\"seconds\": \"2007-07-01T00:00:00\", \"shipment_per_resident\": 23.81140386207801, \"ci_low\": 23.395091912439504, \"ci_high\": 24.227715811716514, \"type\": \"Control Counties\"}, {\"seconds\": \"2008-07-01T00:00:00\", \"shipment_per_resident\": 26.46717238723795, \"ci_low\": 26.153892109714644, \"ci_high\": 26.78045266476126, \"type\": \"Control Counties\"}, {\"seconds\": \"2009-07-01T00:00:00\", \"shipment_per_resident\": 29.11568471424171, \"ci_low\": 28.867793817943067, \"ci_high\": 29.36357561054035, \"type\": \"Control Counties\"}, {\"seconds\": \"2010-07-01T00:00:00\", \"shipment_per_resident\": 31.76419704124548, \"ci_low\": 31.513250847820068, \"ci_high\": 32.015143234670894, \"type\": \"Control Counties\"}, {\"seconds\": \"2011-07-01T00:00:00\", \"shipment_per_resident\": 34.41270936824924, \"ci_low\": 34.092214721077156, \"ci_high\": 34.73320401542132, \"type\": \"Control Counties\"}, {\"seconds\": \"2012-07-01T00:00:00\", \"shipment_per_resident\": 37.06847789340918, \"ci_low\": 36.64310221444413, \"ci_high\": 37.493853572374235, \"type\": \"Control Counties\"}, {\"seconds\": \"2007-08-01T00:00:00\", \"shipment_per_resident\": 24.036346004919423, \"ci_low\": 23.62957936825437, \"ci_high\": 24.443112641584477, \"type\": \"Control Counties\"}, {\"seconds\": \"2008-08-01T00:00:00\", \"shipment_per_resident\": 26.692114530079365, \"ci_low\": 26.386266762226345, \"ci_high\": 26.997962297932386, \"type\": \"Control Counties\"}, {\"seconds\": \"2009-08-01T00:00:00\", \"shipment_per_resident\": 29.340626857083123, \"ci_low\": 29.09548568198951, \"ci_high\": 29.585768032176738, \"type\": \"Control Counties\"}, {\"seconds\": \"2010-08-01T00:00:00\", \"shipment_per_resident\": 31.989139184086895, \"ci_low\": 31.734454544392666, \"ci_high\": 32.24382382378112, \"type\": \"Control Counties\"}, {\"seconds\": \"2011-08-01T00:00:00\", \"shipment_per_resident\": 34.63765151109065, \"ci_low\": 34.30924160409884, \"ci_high\": 34.96606141808247, \"type\": \"Control Counties\"}, {\"seconds\": \"2012-08-01T00:00:00\", \"shipment_per_resident\": 37.293420036250595, \"ci_low\": 36.85829294685831, \"ci_high\": 37.728547125642876, \"type\": \"Control Counties\"}, {\"seconds\": \"2007-09-01T00:00:00\", \"shipment_per_resident\": 24.261288147760837, \"ci_low\": 23.863949199888342, \"ci_high\": 24.65862709563333, \"type\": \"Control Counties\"}, {\"seconds\": \"2008-09-01T00:00:00\", \"shipment_per_resident\": 26.91705667292078, \"ci_low\": 26.618364745649718, \"ci_high\": 27.21574860019184, \"type\": \"Control Counties\"}, {\"seconds\": \"2009-09-01T00:00:00\", \"shipment_per_resident\": 29.565568999924537, \"ci_low\": 29.322640655581104, \"ci_high\": 29.80849734426797, \"type\": \"Control Counties\"}, {\"seconds\": \"2010-09-01T00:00:00\", \"shipment_per_resident\": 32.21408132692831, \"ci_low\": 31.955179366915864, \"ci_high\": 32.47298328694075, \"type\": \"Control Counties\"}, {\"seconds\": \"2011-09-01T00:00:00\", \"shipment_per_resident\": 34.862593653932066, \"ci_low\": 34.52604499377217, \"ci_high\": 35.199142314091965, \"type\": \"Control Counties\"}, {\"seconds\": \"2012-09-01T00:00:00\", \"shipment_per_resident\": 37.51836217909201, \"ci_low\": 37.0733875898269, \"ci_high\": 37.96333676835712, \"type\": \"Control Counties\"}, {\"seconds\": \"2007-10-01T00:00:00\", \"shipment_per_resident\": 24.47897409244608, \"ci_low\": 24.090638650609584, \"ci_high\": 24.867309534282576, \"type\": \"Control Counties\"}, {\"seconds\": \"2008-10-01T00:00:00\", \"shipment_per_resident\": 27.134742617606022, \"ci_low\": 26.84269310963886, \"ci_high\": 27.426792125573186, \"type\": \"Control Counties\"}, {\"seconds\": \"2009-10-01T00:00:00\", \"shipment_per_resident\": 29.78325494460978, \"ci_low\": 29.54194291887888, \"ci_high\": 30.02456697034068, \"type\": \"Control Counties\"}, {\"seconds\": \"2010-10-01T00:00:00\", \"shipment_per_resident\": 32.43176727161355, \"ci_low\": 32.168349725187475, \"ci_high\": 32.69518481803963, \"type\": \"Control Counties\"}, {\"seconds\": \"2011-10-01T00:00:00\", \"shipment_per_resident\": 35.08027959861731, \"ci_low\": 34.735656840935505, \"ci_high\": 35.424902356299114, \"type\": \"Control Counties\"}, {\"seconds\": \"2012-10-01T00:00:00\", \"shipment_per_resident\": 37.73604812377725, \"ci_low\": 37.28145808721081, \"ci_high\": 38.190638160343696, \"type\": \"Control Counties\"}, {\"seconds\": \"2007-11-01T00:00:00\", \"shipment_per_resident\": 24.703916235287494, \"ci_low\": 24.32475131589283, \"ci_high\": 25.08308115468216, \"type\": \"Control Counties\"}, {\"seconds\": \"2008-11-01T00:00:00\", \"shipment_per_resident\": 27.359684760447436, \"ci_low\": 27.074186243217152, \"ci_high\": 27.64518327767772, \"type\": \"Control Counties\"}, {\"seconds\": \"2009-11-01T00:00:00\", \"shipment_per_resident\": 30.008197087451194, \"ci_low\": 29.768001424621666, \"ci_high\": 30.248392750280722, \"type\": \"Control Counties\"}, {\"seconds\": \"2010-11-01T00:00:00\", \"shipment_per_resident\": 32.656709414454966, \"ci_low\": 32.38820012059749, \"ci_high\": 32.92521870831244, \"type\": \"Control Counties\"}, {\"seconds\": \"2011-11-01T00:00:00\", \"shipment_per_resident\": 35.30522174145872, \"ci_low\": 34.95206560505747, \"ci_high\": 35.65837787785998, \"type\": \"Control Counties\"}, {\"seconds\": \"2012-11-01T00:00:00\", \"shipment_per_resident\": 37.960990266618666, \"ci_low\": 37.49638141991562, \"ci_high\": 38.42559911332171, \"type\": \"Control Counties\"}, {\"seconds\": \"2007-12-01T00:00:00\", \"shipment_per_resident\": 24.921602179972737, \"ci_low\": 24.551173791991562, \"ci_high\": 25.292030567953912, \"type\": \"Control Counties\"}, {\"seconds\": \"2008-12-01T00:00:00\", \"shipment_per_resident\": 27.57737070513268, \"ci_low\": 27.29788827337624, \"ci_high\": 27.856853136889118, \"type\": \"Control Counties\"}, {\"seconds\": \"2009-12-01T00:00:00\", \"shipment_per_resident\": 30.225883032136437, \"ci_low\": 29.98622442421287, \"ci_high\": 30.465541640060003, \"type\": \"Control Counties\"}, {\"seconds\": \"2010-12-01T00:00:00\", \"shipment_per_resident\": 32.87439535914021, \"ci_low\": 32.6005691398194, \"ci_high\": 33.14822157846102, \"type\": \"Control Counties\"}, {\"seconds\": \"2011-12-01T00:00:00\", \"shipment_per_resident\": 35.52290768614397, \"ci_low\": 35.16132217790631, \"ci_high\": 35.884493194381626, \"type\": \"Control Counties\"}, {\"seconds\": \"2012-12-01T00:00:00\", \"shipment_per_resident\": 38.17867621130391, \"ci_low\": 37.70429653707514, \"ci_high\": 38.65305588553268, \"type\": \"Control Counties\"}], \"data-865cf1cc072fa80cd4921975330c36dc\": [{\"seconds\": \"2007-01-01T00:00:00\", \"shipment_per_resident\": 22.498031995810393, \"ci_low\": 22.024015469027372, \"ci_high\": 22.972048522593415, \"type\": \"Control Counties\"}, {\"seconds\": \"2008-01-01T00:00:00\", \"shipment_per_resident\": 25.14654432281415, \"ci_low\": 24.78499033064126, \"ci_high\": 25.50809831498704, \"type\": \"Control Counties\"}, {\"seconds\": \"2009-01-01T00:00:00\", \"shipment_per_resident\": 27.802312847974093, \"ci_low\": 27.52869012264244, \"ci_high\": 28.075935573305745, \"type\": \"Control Counties\"}, {\"seconds\": \"2010-01-01T00:00:00\", \"shipment_per_resident\": 30.45082517497785, \"ci_low\": 30.211156259696313, \"ci_high\": 30.69049409025939, \"type\": \"Control Counties\"}, {\"seconds\": \"2011-01-01T00:00:00\", \"shipment_per_resident\": 33.09933750198162, \"ci_low\": 32.81963817514862, \"ci_high\": 33.37903682881463, \"type\": \"Control Counties\"}, {\"seconds\": \"2012-01-01T00:00:00\", \"shipment_per_resident\": 35.74784982898538, \"ci_low\": 35.377389346269965, \"ci_high\": 36.118310311700796, \"type\": \"Control Counties\"}, {\"seconds\": \"2007-02-01T00:00:00\", \"shipment_per_resident\": 22.722974138651807, \"ci_low\": 22.259050139105597, \"ci_high\": 23.186898138198018, \"type\": \"Control Counties\"}, {\"seconds\": \"2008-02-01T00:00:00\", \"shipment_per_resident\": 25.371486465655565, \"ci_low\": 25.0186393693226, \"ci_high\": 25.72433356198853, \"type\": \"Control Counties\"}, {\"seconds\": \"2009-02-01T00:00:00\", \"shipment_per_resident\": 28.027254990815507, \"ci_low\": 27.759105690096707, \"ci_high\": 28.295404291534307, \"type\": \"Control Counties\"}, {\"seconds\": \"2010-02-01T00:00:00\", \"shipment_per_resident\": 30.675767317819265, \"ci_low\": 30.43551367049372, \"ci_high\": 30.91602096514481, \"type\": \"Control Counties\"}, {\"seconds\": \"2011-02-01T00:00:00\", \"shipment_per_resident\": 33.32427964482304, \"ci_low\": 33.038345537073056, \"ci_high\": 33.61021375257302, \"type\": \"Control Counties\"}, {\"seconds\": \"2012-02-01T00:00:00\", \"shipment_per_resident\": 35.972791971826794, \"ci_low\": 35.59330080692224, \"ci_high\": 36.35228313673135, \"type\": \"Control Counties\"}, {\"seconds\": \"2007-03-01T00:00:00\", \"shipment_per_resident\": 22.926147687024695, \"ci_low\": 22.471271519756886, \"ci_high\": 23.381023854292504, \"type\": \"Control Counties\"}, {\"seconds\": \"2008-03-01T00:00:00\", \"shipment_per_resident\": 25.581916212184638, \"ci_low\": 25.237051395509713, \"ci_high\": 25.926781028859562, \"type\": \"Control Counties\"}, {\"seconds\": \"2009-03-01T00:00:00\", \"shipment_per_resident\": 28.230428539188395, \"ci_low\": 27.96687090621768, \"ci_high\": 28.49398617215911, \"type\": \"Control Counties\"}, {\"seconds\": \"2010-03-01T00:00:00\", \"shipment_per_resident\": 30.878940866192167, \"ci_low\": 30.63766873485844, \"ci_high\": 31.120212997525893, \"type\": \"Control Counties\"}, {\"seconds\": \"2011-03-01T00:00:00\", \"shipment_per_resident\": 33.527453193195925, \"ci_low\": 33.23559605663111, \"ci_high\": 33.81931032976074, \"type\": \"Control Counties\"}, {\"seconds\": \"2012-03-01T00:00:00\", \"shipment_per_resident\": 36.18322171835587, \"ci_low\": 35.79515115916393, \"ci_high\": 36.571292277547805, \"type\": \"Control Counties\"}, {\"seconds\": \"2007-04-01T00:00:00\", \"shipment_per_resident\": 23.15108982986611, \"ci_low\": 22.70615070032249, \"ci_high\": 23.59602895940973, \"type\": \"Control Counties\"}, {\"seconds\": \"2008-04-01T00:00:00\", \"shipment_per_resident\": 25.80685835502605, \"ci_low\": 25.470339245977815, \"ci_high\": 26.143377464074288, \"type\": \"Control Counties\"}, {\"seconds\": \"2009-04-01T00:00:00\", \"shipment_per_resident\": 28.45537068202981, \"ci_low\": 28.196484665963933, \"ci_high\": 28.714256698095685, \"type\": \"Control Counties\"}, {\"seconds\": \"2010-04-01T00:00:00\", \"shipment_per_resident\": 31.10388300903358, \"ci_low\": 30.860947710613203, \"ci_high\": 31.346818307453958, \"type\": \"Control Counties\"}, {\"seconds\": \"2011-04-01T00:00:00\", \"shipment_per_resident\": 33.75239533603734, \"ci_low\": 33.45367827849454, \"ci_high\": 34.051112393580134, \"type\": \"Control Counties\"}, {\"seconds\": \"2012-04-01T00:00:00\", \"shipment_per_resident\": 36.40816386119728, \"ci_low\": 36.01079134234581, \"ci_high\": 36.80553638004875, \"type\": \"Control Counties\"}, {\"seconds\": \"2007-05-01T00:00:00\", \"shipment_per_resident\": 23.368775774551352, \"ci_low\": 22.933367626713817, \"ci_high\": 23.804183922388887, \"type\": \"Control Counties\"}, {\"seconds\": \"2008-05-01T00:00:00\", \"shipment_per_resident\": 26.024544299711295, \"ci_low\": 25.695904057568104, \"ci_high\": 26.353184541854485, \"type\": \"Control Counties\"}, {\"seconds\": \"2009-05-01T00:00:00\", \"shipment_per_resident\": 28.673056626715052, \"ci_low\": 28.41825762179997, \"ci_high\": 28.927855631630134, \"type\": \"Control Counties\"}, {\"seconds\": \"2010-05-01T00:00:00\", \"shipment_per_resident\": 31.321568953718824, \"ci_low\": 31.076498783359817, \"ci_high\": 31.56663912407783, \"type\": \"Control Counties\"}, {\"seconds\": \"2011-05-01T00:00:00\", \"shipment_per_resident\": 33.97008128072258, \"ci_low\": 33.664442645667776, \"ci_high\": 34.27571991577739, \"type\": \"Control Counties\"}, {\"seconds\": \"2012-05-01T00:00:00\", \"shipment_per_resident\": 36.625849805882524, \"ci_low\": 36.21935517454462, \"ci_high\": 37.03234443722043, \"type\": \"Control Counties\"}, {\"seconds\": \"2007-06-01T00:00:00\", \"shipment_per_resident\": 23.593717917392766, \"ci_low\": 23.16806402680242, \"ci_high\": 24.019371807983113, \"type\": \"Control Counties\"}, {\"seconds\": \"2008-06-01T00:00:00\", \"shipment_per_resident\": 26.24948644255271, \"ci_low\": 25.928768099374576, \"ci_high\": 26.57020478573084, \"type\": \"Control Counties\"}, {\"seconds\": \"2009-06-01T00:00:00\", \"shipment_per_resident\": 28.897998769556466, \"ci_low\": 28.646952251469383, \"ci_high\": 29.14904528764355, \"type\": \"Control Counties\"}, {\"seconds\": \"2010-06-01T00:00:00\", \"shipment_per_resident\": 31.546511096560238, \"ci_low\": 31.298706366620177, \"ci_high\": 31.7943158265003, \"type\": \"Control Counties\"}, {\"seconds\": \"2011-06-01T00:00:00\", \"shipment_per_resident\": 34.195023423563995, \"ci_low\": 33.88195993884887, \"ci_high\": 34.50808690827912, \"type\": \"Control Counties\"}, {\"seconds\": \"2012-06-01T00:00:00\", \"shipment_per_resident\": 36.85079194872394, \"ci_low\": 36.434755263978516, \"ci_high\": 37.26682863346936, \"type\": \"Control Counties\"}, {\"seconds\": \"2007-07-01T00:00:00\", \"shipment_per_resident\": 23.81140386207801, \"ci_low\": 23.395091912439504, \"ci_high\": 24.227715811716514, \"type\": \"Control Counties\"}, {\"seconds\": \"2008-07-01T00:00:00\", \"shipment_per_resident\": 26.46717238723795, \"ci_low\": 26.153892109714644, \"ci_high\": 26.78045266476126, \"type\": \"Control Counties\"}, {\"seconds\": \"2009-07-01T00:00:00\", \"shipment_per_resident\": 29.11568471424171, \"ci_low\": 28.867793817943067, \"ci_high\": 29.36357561054035, \"type\": \"Control Counties\"}, {\"seconds\": \"2010-07-01T00:00:00\", \"shipment_per_resident\": 31.76419704124548, \"ci_low\": 31.513250847820068, \"ci_high\": 32.015143234670894, \"type\": \"Control Counties\"}, {\"seconds\": \"2011-07-01T00:00:00\", \"shipment_per_resident\": 34.41270936824924, \"ci_low\": 34.092214721077156, \"ci_high\": 34.73320401542132, \"type\": \"Control Counties\"}, {\"seconds\": \"2012-07-01T00:00:00\", \"shipment_per_resident\": 37.06847789340918, \"ci_low\": 36.64310221444413, \"ci_high\": 37.493853572374235, \"type\": \"Control Counties\"}, {\"seconds\": \"2007-08-01T00:00:00\", \"shipment_per_resident\": 24.036346004919423, \"ci_low\": 23.62957936825437, \"ci_high\": 24.443112641584477, \"type\": \"Control Counties\"}, {\"seconds\": \"2008-08-01T00:00:00\", \"shipment_per_resident\": 26.692114530079365, \"ci_low\": 26.386266762226345, \"ci_high\": 26.997962297932386, \"type\": \"Control Counties\"}, {\"seconds\": \"2009-08-01T00:00:00\", \"shipment_per_resident\": 29.340626857083123, \"ci_low\": 29.09548568198951, \"ci_high\": 29.585768032176738, \"type\": \"Control Counties\"}, {\"seconds\": \"2010-08-01T00:00:00\", \"shipment_per_resident\": 31.989139184086895, \"ci_low\": 31.734454544392666, \"ci_high\": 32.24382382378112, \"type\": \"Control Counties\"}, {\"seconds\": \"2011-08-01T00:00:00\", \"shipment_per_resident\": 34.63765151109065, \"ci_low\": 34.30924160409884, \"ci_high\": 34.96606141808247, \"type\": \"Control Counties\"}, {\"seconds\": \"2012-08-01T00:00:00\", \"shipment_per_resident\": 37.293420036250595, \"ci_low\": 36.85829294685831, \"ci_high\": 37.728547125642876, \"type\": \"Control Counties\"}, {\"seconds\": \"2007-09-01T00:00:00\", \"shipment_per_resident\": 24.261288147760837, \"ci_low\": 23.863949199888342, \"ci_high\": 24.65862709563333, \"type\": \"Control Counties\"}, {\"seconds\": \"2008-09-01T00:00:00\", \"shipment_per_resident\": 26.91705667292078, \"ci_low\": 26.618364745649718, \"ci_high\": 27.21574860019184, \"type\": \"Control Counties\"}, {\"seconds\": \"2009-09-01T00:00:00\", \"shipment_per_resident\": 29.565568999924537, \"ci_low\": 29.322640655581104, \"ci_high\": 29.80849734426797, \"type\": \"Control Counties\"}, {\"seconds\": \"2010-09-01T00:00:00\", \"shipment_per_resident\": 32.21408132692831, \"ci_low\": 31.955179366915864, \"ci_high\": 32.47298328694075, \"type\": \"Control Counties\"}, {\"seconds\": \"2011-09-01T00:00:00\", \"shipment_per_resident\": 34.862593653932066, \"ci_low\": 34.52604499377217, \"ci_high\": 35.199142314091965, \"type\": \"Control Counties\"}, {\"seconds\": \"2012-09-01T00:00:00\", \"shipment_per_resident\": 37.51836217909201, \"ci_low\": 37.0733875898269, \"ci_high\": 37.96333676835712, \"type\": \"Control Counties\"}, {\"seconds\": \"2007-10-01T00:00:00\", \"shipment_per_resident\": 24.47897409244608, \"ci_low\": 24.090638650609584, \"ci_high\": 24.867309534282576, \"type\": \"Control Counties\"}, {\"seconds\": \"2008-10-01T00:00:00\", \"shipment_per_resident\": 27.134742617606022, \"ci_low\": 26.84269310963886, \"ci_high\": 27.426792125573186, \"type\": \"Control Counties\"}, {\"seconds\": \"2009-10-01T00:00:00\", \"shipment_per_resident\": 29.78325494460978, \"ci_low\": 29.54194291887888, \"ci_high\": 30.02456697034068, \"type\": \"Control Counties\"}, {\"seconds\": \"2010-10-01T00:00:00\", \"shipment_per_resident\": 32.43176727161355, \"ci_low\": 32.168349725187475, \"ci_high\": 32.69518481803963, \"type\": \"Control Counties\"}, {\"seconds\": \"2011-10-01T00:00:00\", \"shipment_per_resident\": 35.08027959861731, \"ci_low\": 34.735656840935505, \"ci_high\": 35.424902356299114, \"type\": \"Control Counties\"}, {\"seconds\": \"2012-10-01T00:00:00\", \"shipment_per_resident\": 37.73604812377725, \"ci_low\": 37.28145808721081, \"ci_high\": 38.190638160343696, \"type\": \"Control Counties\"}, {\"seconds\": \"2007-11-01T00:00:00\", \"shipment_per_resident\": 24.703916235287494, \"ci_low\": 24.32475131589283, \"ci_high\": 25.08308115468216, \"type\": \"Control Counties\"}, {\"seconds\": \"2008-11-01T00:00:00\", \"shipment_per_resident\": 27.359684760447436, \"ci_low\": 27.074186243217152, \"ci_high\": 27.64518327767772, \"type\": \"Control Counties\"}, {\"seconds\": \"2009-11-01T00:00:00\", \"shipment_per_resident\": 30.008197087451194, \"ci_low\": 29.768001424621666, \"ci_high\": 30.248392750280722, \"type\": \"Control Counties\"}, {\"seconds\": \"2010-11-01T00:00:00\", \"shipment_per_resident\": 32.656709414454966, \"ci_low\": 32.38820012059749, \"ci_high\": 32.92521870831244, \"type\": \"Control Counties\"}, {\"seconds\": \"2011-11-01T00:00:00\", \"shipment_per_resident\": 35.30522174145872, \"ci_low\": 34.95206560505747, \"ci_high\": 35.65837787785998, \"type\": \"Control Counties\"}, {\"seconds\": \"2012-11-01T00:00:00\", \"shipment_per_resident\": 37.960990266618666, \"ci_low\": 37.49638141991562, \"ci_high\": 38.42559911332171, \"type\": \"Control Counties\"}, {\"seconds\": \"2007-12-01T00:00:00\", \"shipment_per_resident\": 24.921602179972737, \"ci_low\": 24.551173791991562, \"ci_high\": 25.292030567953912, \"type\": \"Control Counties\"}, {\"seconds\": \"2008-12-01T00:00:00\", \"shipment_per_resident\": 27.57737070513268, \"ci_low\": 27.29788827337624, \"ci_high\": 27.856853136889118, \"type\": \"Control Counties\"}, {\"seconds\": \"2009-12-01T00:00:00\", \"shipment_per_resident\": 30.225883032136437, \"ci_low\": 29.98622442421287, \"ci_high\": 30.465541640060003, \"type\": \"Control Counties\"}, {\"seconds\": \"2010-12-01T00:00:00\", \"shipment_per_resident\": 32.87439535914021, \"ci_low\": 32.6005691398194, \"ci_high\": 33.14822157846102, \"type\": \"Control Counties\"}, {\"seconds\": \"2011-12-01T00:00:00\", \"shipment_per_resident\": 35.52290768614397, \"ci_low\": 35.16132217790631, \"ci_high\": 35.884493194381626, \"type\": \"Control Counties\"}, {\"seconds\": \"2012-12-01T00:00:00\", \"shipment_per_resident\": 38.17867621130391, \"ci_low\": 37.70429653707514, \"ci_high\": 38.65305588553268, \"type\": \"Control Counties\"}], \"data-4baf03b0d276882f7f410bd4cff0cb52\": [{\"a\": \"2007-01-01\"}]}}, {\"mode\": \"vega-lite\"});\n",
       "</script>"
      ],
      "text/plain": [
       "alt.LayerChart(...)"
      ]
     },
     "execution_count": 13,
     "metadata": {},
     "output_type": "execute_result"
    }
   ],
   "source": [
    "final_chart\n"
   ]
  }
 ],
 "metadata": {
  "interpreter": {
   "hash": "84b1e2213175d1b29c0c106fcfdfa2350458511224f0b9c320f712c5e7a09711"
  },
  "kernelspec": {
   "display_name": "Python 3.9.7 64-bit ('base': conda)",
   "language": "python",
   "name": "python3"
  },
  "language_info": {
   "codemirror_mode": {
    "name": "ipython",
    "version": 3
   },
   "file_extension": ".py",
   "mimetype": "text/x-python",
   "name": "python",
   "nbconvert_exporter": "python",
   "pygments_lexer": "ipython3",
   "version": "3.9.7"
  },
  "orig_nbformat": 4
 },
 "nbformat": 4,
 "nbformat_minor": 2
}
