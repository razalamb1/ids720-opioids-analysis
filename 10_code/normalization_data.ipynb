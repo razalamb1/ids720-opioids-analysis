{
 "cells": [
  {
   "cell_type": "code",
   "execution_count": null,
   "metadata": {},
   "outputs": [],
   "source": [
    "import pandas as pd \n",
    "import numpy as np"
   ]
  },
  {
   "cell_type": "code",
   "execution_count": null,
   "metadata": {},
   "outputs": [],
   "source": [
    "# loading cleaned and population merged mortality and shipment data\n",
    "merged_mortality = pd.read_parquet(\n",
    "    \"moratality_population.parquet\", engine=\"fastparquet\"\n",
    ")  # mortality data\n",
    "opioid_population_annual = pd.read_parquet(\n",
    "    \"opioid_population.parquet\", engine=\"fastparquet\"\n",
    ")  # annual opioid shipment data\n",
    "opioid_population_monthly = pd.read_parquet(\n",
    "    \"opioid_population_monthly.parquet\", engine=\"fastparquet\"\n",
    ")  # montly opioid shipment data\n",
    "\n",
    "merged_mortality.head(10)\n"
   ]
  },
  {
   "cell_type": "code",
   "execution_count": null,
   "metadata": {},
   "outputs": [],
   "source": [
    "opioid_population_annual.head(10)\n"
   ]
  },
  {
   "cell_type": "code",
   "execution_count": null,
   "metadata": {},
   "outputs": [],
   "source": [
    "opioid_population_monthly.sample(10)"
   ]
  },
  {
   "cell_type": "code",
   "execution_count": null,
   "metadata": {},
   "outputs": [],
   "source": [
    "states_choice = [\"Florida\", \"Washington\", \"Texas\"]\n",
    "\n",
    "# subseting data into each state of interest and other states for analysis\n",
    "florida_mortality = merged_mortality[merged_mortality[\"state\"] == \"Florida\"]\n",
    "texas_mortality = merged_mortality[merged_mortality[\"state\"] == \"Texas\"]\n",
    "washington_mortality = merged_mortality[merged_mortality[\"state\"] == \"Washington\"]\n",
    "other_mortality = merged_mortality[~merged_mortality[\"state\"].isin(states_choice)]\n",
    "\n",
    "df_list = [florida_mortality, texas_mortality, washington_mortality, other_mortality]\n"
   ]
  },
  {
   "cell_type": "code",
   "execution_count": null,
   "metadata": {},
   "outputs": [],
   "source": [
    "from IPython.display import display\n",
    "\n",
    "for i in df_list:\n",
    "    display(i.head())\n"
   ]
  },
  {
   "cell_type": "code",
   "execution_count": null,
   "metadata": {},
   "outputs": [],
   "source": [
    "# looking at years present in the data\n",
    "print(\"Years in mortality data are:\", merged_mortality.year.unique())\n",
    "print(\"Years in opioid shipment data are:\", opioid_population_annual.year.unique())\n"
   ]
  },
  {
   "cell_type": "code",
   "execution_count": null,
   "metadata": {},
   "outputs": [],
   "source": [
    "# subseting data into each state of interest and other states for analysis\n",
    "florida_shipment_annual = opioid_population_annual[\n",
    "    opioid_population_annual[\"state\"] == \"Florida\"\n",
    "]\n",
    "texas_shipment_annual = opioid_population_annual[\n",
    "    opioid_population_annual[\"state\"] == \"Texas\"\n",
    "]\n",
    "washington_shipment_annual = opioid_population_annual[\n",
    "    opioid_population_annual[\"state\"] == \"Washington\"\n",
    "]\n",
    "other_shipment_annual = opioid_population_annual[\n",
    "    ~opioid_population_annual[\"state\"].isin(states_choice)\n",
    "]\n",
    "\n",
    "df_list2 = [\n",
    "    florida_shipment_annual,\n",
    "    texas_shipment_annual,\n",
    "    washington_shipment_annual,\n",
    "    other_shipment_annual,\n",
    "]\n"
   ]
  },
  {
   "cell_type": "code",
   "execution_count": null,
   "metadata": {},
   "outputs": [],
   "source": [
    "for a in df_list2:\n",
    "    display(a.head())\n"
   ]
  },
  {
   "cell_type": "code",
   "execution_count": null,
   "metadata": {},
   "outputs": [],
   "source": [
    "florida_shipment_monthly = opioid_population_monthly[\n",
    "    opioid_population_monthly[\"state\"] == \"Florida\"\n",
    "]\n",
    "texas_shipment_monthly = opioid_population_monthly[\n",
    "    opioid_population_monthly[\"state\"] == \"Texas\"\n",
    "]\n",
    "washington_shipment_monthly = opioid_population_monthly[\n",
    "    opioid_population_monthly[\"state\"] == \"Washington\"\n",
    "]\n",
    "\n",
    "df_list3 = [florida_shipment_monthly,texas_shipment_monthly, washington_shipment_monthly]\n"
   ]
  },
  {
   "cell_type": "code",
   "execution_count": null,
   "metadata": {},
   "outputs": [],
   "source": [
    "for a in df_list3:\n",
<<<<<<< HEAD
    "    display(a.head())\n",
    "\n",
    "for a in df_list3:\n",
    "    display(a.tail())"
=======
    "    display(a.head())"
>>>>>>> a1c7fb6a7336c93b9ca62b1040e1771b5cbb7c04
   ]
  },
  {
   "cell_type": "code",
   "execution_count": null,
   "metadata": {},
   "outputs": [],
   "source": [
    "# defining pre and post policy ranges for each state's mortality data\n",
    "category_flo = pd.cut(\n",
    "    florida_mortality.year, bins=[2002, 2009, 2016], labels=[\"pre\", \"post\"]\n",
    ")\n",
    "category_tex = pd.cut(\n",
    "    texas_mortality.year, bins=[2002, 2006, 2016], labels=[\"pre\", \"post\"]\n",
    ")\n",
    "category_was = pd.cut(\n",
    "    washington_mortality.year, bins=[2002, 2011, 2016], labels=[\"pre\", \"post\"]\n",
    ")\n",
    "\n",
    "# adding a flag for pre and post policy\n",
    "florida_mortality.loc[:, \"category_flo\"] = category_flo\n",
    "\n",
    "texas_mortality.loc[:, \"category_tex\"] = category_tex\n",
    "\n",
    "washington_mortality.loc[:, \"category_was\"] = category_was\n"
   ]
  },
  {
   "cell_type": "code",
   "execution_count": null,
   "metadata": {},
   "outputs": [],
   "source": [
    "# defining pre and post policy ranges for each state's annual shipment data\n",
    "category_flo_s = pd.cut(\n",
    "    florida_shipment_annual.year, bins=[2002, 2009, 2016], labels=[\"pre\", \"post\"]\n",
    ")\n",
    "category_tex_s = pd.cut(\n",
    "    texas_shipment_annual.year, bins=[2002, 2006, 2016], labels=[\"pre\", \"post\"]\n",
    ")\n",
    "category_was_s = pd.cut(\n",
    "    washington_shipment_annual.year, bins=[2002, 2011, 2016], labels=[\"pre\", \"post\"]\n",
<<<<<<< HEAD
    ")\n",
    "\n",
    "# adding a flag for pre and post policy\n",
    "florida_shipment_annual.loc[:, \"category_flo\"] = category_flo_s\n",
    "\n",
    "texas_shipment_annual.loc[:, \"category_tex\"] = category_tex_s\n",
    "\n",
    "washington_shipment_annual.loc[:, \"category_was\"] = category_was_s\n"
   ]
  },
  {
   "cell_type": "code",
   "execution_count": null,
   "metadata": {},
   "outputs": [],
   "source": [
    "# defining pre and post policy ranges for all states monthly shipment data\n",
    "bins_flo = pd.to_datetime([\"2005-12-01\", \"2010-01-01\", \"2013-01-01\"])\n",
    "category_flo_sm = pd.cut(\n",
    "    florida_shipment_monthly.year, bins=bins_flo, labels=[\"pre\", \"post\"]\n",
    ")\n",
    "\n",
    "bins_tex = pd.to_datetime([\"2005-12-01\", \"2007-01-01\", \"2013-01-01\"])\n",
    "category_tex_sm = pd.cut(\n",
    "    texas_shipment_monthly.year,\n",
    "    bins=bins_tex,\n",
    "    labels=[\"pre\", \"post\"],\n",
    ")\n",
    "\n",
    "bins_wash = pd.to_datetime([\"2005-12-01\", \"2012-01-01\", \"2013-01-01\"])\n",
    "category_was_sm = pd.cut(\n",
    "    washington_shipment_monthly.year,\n",
    "    bins=bins_wash,\n",
    "    labels=[\"pre\", \"post\"],\n",
    ")\n",
    "\n",
    "# adding a flag for pre and post policy\n",
    "florida_shipment_monthly.loc[:, \"category_flo\"] = category_flo_sm\n",
    "\n",
    "texas_shipment_monthly.loc[:, \"category_tex\"] = category_tex_sm\n",
    "\n",
=======
    ")\n",
    "\n",
    "# adding a flag for pre and post policy\n",
    "florida_shipment_annual.loc[:, \"category_flo\"] = category_flo_s\n",
    "\n",
    "texas_shipment_annual.loc[:, \"category_tex\"] = category_tex_s\n",
    "\n",
    "washington_shipment_annual.loc[:, \"category_was\"] = category_was_s\n"
   ]
  },
  {
   "cell_type": "code",
   "execution_count": null,
   "metadata": {},
   "outputs": [],
   "source": [
    "# defining pre and post policy ranges for all states monthly shipment data\n",
    "category_flo_sm = pd.cut(\n",
    "    (florida_shipment_monthly.year).dt.year, bins=[2002, 2009, 2016], labels=[\"pre\", \"post\"]\n",
    ")\n",
    "\n",
    "category_tex_sm = pd.cut(\n",
    "    (texas_shipment_monthly.year).dt.year,\n",
    "    bins=[2002, 2006, 2016],\n",
    "    labels=[\"pre\", \"post\"],\n",
    ")\n",
    "category_was_sm = pd.cut(\n",
    "    (washington_shipment_monthly.year).dt.year,\n",
    "    bins=[2002, 2011, 2016],\n",
    "    labels=[\"pre\", \"post\"],\n",
    ")\n",
    "\n",
    "# adding a flag for pre and post policy\n",
    "florida_shipment_monthly.loc[:, \"category_flo\"] = category_flo_sm\n",
    "\n",
    "texas_shipment_monthly.loc[:, \"category_tex\"] = category_tex_sm\n",
    "\n",
>>>>>>> a1c7fb6a7336c93b9ca62b1040e1771b5cbb7c04
    "washington_shipment_monthly.loc[:, \"category_was\"] = category_was_sm\n"
   ]
  },
  {
   "cell_type": "code",
   "execution_count": null,
   "metadata": {},
   "outputs": [],
   "source": [
    "for a in df_list:\n",
    "    display(a.head())"
   ]
  },
  {
   "cell_type": "code",
   "execution_count": null,
   "metadata": {},
   "outputs": [],
   "source": [
    "for a in df_list2:\n",
    "    display(a.head())"
   ]
  },
  {
   "cell_type": "code",
   "execution_count": null,
   "metadata": {},
   "outputs": [],
   "source": [
    "for a in df_list3:\n",
<<<<<<< HEAD
    "    display(a.sample(20))"
=======
    "    display(a.head(20))"
>>>>>>> a1c7fb6a7336c93b9ca62b1040e1771b5cbb7c04
   ]
  },
  {
   "cell_type": "code",
   "execution_count": null,
   "metadata": {},
   "outputs": [],
   "source": [
    "# # saving data\n",
    "# florida_mortality.to_parquet(\n",
    "#    \"florida_mortality.parquet\", engine=\"fastparquet\"\n",
    "# )\n",
    "\n",
    "# texas_mortality.to_parquet(\n",
    "#     \"texas_mortality.parquet\", engine=\"fastparquet\"\n",
    "# )\n",
    "\n",
    "# washington_mortality.to_parquet(\n",
    "#     \"washington_mortality.parquet\", engine=\"fastparquet\"\n",
    "# )\n",
    "\n",
    "# florida_shipment_annual.to_parquet(\n",
    "#     \"florida_shipment_annual.parquet\", engine=\"fastparquet\"\n",
    "# )\n",
    "\n",
    "# texas_shipment_annual.to_parquet(\n",
    "#     \"texas_shipment_annual.parquet\", engine=\"fastparquet\"\n",
    "# )\n",
    "\n",
    "# washington_shipment_annual.to_parquet(\n",
    "#     \"washington_shipment_annual.parquet\", engine=\"fastparquet\"\n",
    "# )\n",
    "\n",
    "florida_shipment_monthly.to_parquet(\n",
    "     \"florida_shipment_monthly.parquet\", engine=\"fastparquet\"\n",
    ")\n",
    "\n",
<<<<<<< HEAD
    "texas_shipment_monthly.to_parquet(\n",
    "     \"texas_shipment_monthly.parquet\", engine=\"fastparquet\"\n",
    " )\n",
    "washington_shipment_monthly.to_parquet(\n",
    "     \"washington_shipment_monthly.parquet\", engine=\"fastparquet\"\n",
    " )\n"
=======
    "# texas_shipment_monthly.to_parquet(\n",
    "#     \"texas_shipment_monthly.parquet\", engine=\"fastparquet\"\n",
    "# )\n",
    "# washington_shipment_monthly.to_parquet(\n",
    "#     \"washington_shipment_monthly.parquet\", engine=\"fastparquet\"\n",
    "# )\n"
>>>>>>> a1c7fb6a7336c93b9ca62b1040e1771b5cbb7c04
   ]
  }
 ],
 "metadata": {
  "interpreter": {
   "hash": "0a1a2b61d11b277ce38ec6a342e4de69172ad4a2ed7aab502a2958596449cc10"
  },
  "kernelspec": {
   "display_name": "Python 3.9.6 64-bit ('base': conda)",
   "name": "python3"
  },
  "language_info": {
   "codemirror_mode": {
    "name": "ipython",
    "version": 3
   },
   "file_extension": ".py",
   "mimetype": "text/x-python",
   "name": "python",
   "nbconvert_exporter": "python",
   "pygments_lexer": "ipython3",
   "version": "3.9.6"
  },
  "orig_nbformat": 4
 },
 "nbformat": 4,
 "nbformat_minor": 2
}
